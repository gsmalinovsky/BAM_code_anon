{
 "cells": [
  {
   "cell_type": "code",
   "execution_count": 1,
   "metadata": {},
   "outputs": [],
   "source": [
    "import numpy as np"
   ]
  },
  {
   "cell_type": "code",
   "execution_count": 2,
   "metadata": {},
   "outputs": [],
   "source": [
    "import scipy as sp"
   ]
  },
  {
   "cell_type": "code",
   "execution_count": 3,
   "metadata": {},
   "outputs": [],
   "source": [
    "import math \n",
    "import copy"
   ]
  },
  {
   "cell_type": "code",
   "execution_count": 4,
   "metadata": {},
   "outputs": [],
   "source": [
    "def optimized_gd(x_0, grad, L, K):\n",
    "    A = initialize_A(K)\n",
    "    a_1 = A[1] - A[0]\n",
    "    print('a_1: ', a_1)\n",
    "    v_0 = x_0 - (A[1]/(a_1*L))*grad(x_0)\n",
    "    print('v_0: ', v_0)\n",
    "    g_0 = a_1*grad(x_0)\n",
    "    print('g_0: ', g_0)\n",
    "    x_list = [x_0]\n",
    "    g_list = [g_0]\n",
    "    v_list = [v_0]\n",
    "    y_list = []\n",
    "    x_cur = x_0\n",
    "    g_cur = g_0\n",
    "    v_cur = v_0\n",
    "    for k in range(1, K):\n",
    "        y_cur = x_cur - (1/L)*grad(x_cur)\n",
    "        print('y_cur: ', y_cur)\n",
    "        x_upd = (A[k]/A[k+1])*y_cur + ((A[k+1] - A[k])/A[k+1])*v_cur - (1/(A[k+1] - A[k]))*g_cur\n",
    "        print('x_upd: ', x_upd)\n",
    "        v_upd = v_cur - (1/L)*(A[k+1]/(A[k+1] - A[k]))*grad(x_upd)\n",
    "        print('v_upd: ', v_upd)\n",
    "        g_upd = g_cur + (A[k+1] - A[k])*grad(x_upd)\n",
    "        print('g_upd: ', g_upd)\n",
    "        \n",
    "        x_list.append(x_upd)\n",
    "        y_list.append(y_cur)\n",
    "        v_list.append(v_upd)\n",
    "        g_list.append(g_upd)\n",
    "        \n",
    "        x_cur = copy.deepcopy(x_upd)\n",
    "        g_cur = copy.deepcopy(g_upd)\n",
    "        v_cur = copy.deepcopy(v_upd)\n",
    "        \n",
    "    x_last = y_cur - (1/L)*g_cur\n",
    "    \n",
    "    return x_last, x_list, y_list, v_list, g_list"
   ]
  },
  {
   "cell_type": "code",
   "execution_count": 5,
   "metadata": {},
   "outputs": [],
   "source": [
    "def initialize_A(K):\n",
    "    A = [0] * (K+1)\n",
    "    for i in range(K+1):\n",
    "        if i == 0:\n",
    "            A[0] = 1\n",
    "        else:\n",
    "            A[i] = A[i-1]*(1+0.5*A[i-1]-0.5*np.sqrt(A[i-1]*(4+A[i-1])))\n",
    "    \n",
    "    return A[::-1]\n",
    "    \n",
    "        \n",
    "    "
   ]
  },
  {
   "cell_type": "code",
   "execution_count": 6,
   "metadata": {},
   "outputs": [],
   "source": [
    "A = initialize_A(100)"
   ]
  },
  {
   "cell_type": "code",
   "execution_count": 7,
   "metadata": {},
   "outputs": [
    {
     "data": {
      "text/plain": [
       "2702.363126966005"
      ]
     },
     "execution_count": 7,
     "metadata": {},
     "output_type": "execute_result"
    }
   ],
   "source": [
    "A[-1]/A[0]"
   ]
  },
  {
   "cell_type": "code",
   "execution_count": 8,
   "metadata": {},
   "outputs": [
    {
     "data": {
      "text/plain": [
       "101"
      ]
     },
     "execution_count": 8,
     "metadata": {},
     "output_type": "execute_result"
    }
   ],
   "source": [
    "len(A)"
   ]
  },
  {
   "cell_type": "code",
   "execution_count": 9,
   "metadata": {},
   "outputs": [],
   "source": [
    "def grad_quad(x):\n",
    "    A = np.array([[100,0],[0,1]])\n",
    "    b = np.array([1,1])\n",
    "    return A@x+b"
   ]
  },
  {
   "cell_type": "code",
   "execution_count": 10,
   "metadata": {},
   "outputs": [
    {
     "data": {
      "text/plain": [
       "array([-0.01, -1.  ])"
      ]
     },
     "execution_count": 10,
     "metadata": {},
     "output_type": "execute_result"
    }
   ],
   "source": [
    "np.linalg.solve([[100,0],[0,1]],-np.array([1,1]))"
   ]
  },
  {
   "cell_type": "code",
   "execution_count": 11,
   "metadata": {},
   "outputs": [
    {
     "name": "stdout",
     "output_type": "stream",
     "text": [
      "a_1:  7.258053857879965e-06\n",
      "v_0:  [-5.15041010e+01 -3.96851691e-02]\n",
      "g_0:  [7.33063440e-04 1.45161077e-05]\n",
      "y_cur:  [-0.01  0.98]\n",
      "x_upd:  [-99.09117725  -0.98200351]\n",
      "v_upd:  [ 5.04937627e+03 -4.89500916e-02]\n",
      "g_upd:  [-7.33208653e-02  1.46506147e-05]\n",
      "y_cur:  [-0.01       -0.98218347]\n",
      "x_upd:  [ 9.62277712e+03 -2.86686416e+00]\n",
      "v_upd:  [-4.85514331e+05  9.02765657e-01]\n",
      "g_upd:  [7.33501993e+00 2.78098936e-07]\n",
      "y_cur:  [-0.01       -2.84819552]\n",
      "x_upd:  [-9.34293707e+05 -2.80894308e+00]\n",
      "v_upd:  [4.66747373e+07 1.81586409e+00]\n",
      "g_upd:  [-7.33796919e+02 -1.40714091e-05]\n",
      "y_cur:  [-0.01       -2.79085365]\n",
      "x_upd:  [ 9.06851621e+07 -9.77588691e-01]\n",
      "v_upd:  [-4.48526192e+09  1.80466417e+00]\n",
      "g_upd:  [ 7.34095021e+04 -1.38881765e-05]\n",
      "y_cur:  [-0.01000001 -0.9778128 ]\n",
      "x_upd:  [-8.79947301e+09  7.26030760e-01]\n",
      "v_upd:  [4.30841162e+11 9.50764400e-01]\n",
      "g_upd:  [-7.34396350e+06  6.61119782e-07]\n",
      "y_cur:  [-0.01000023  0.70877045]\n",
      "x_upd:  [8.53575548e+11 6.37663478e-01]\n",
      "v_upd:  [-4.13681746e+13  1.48811701e-01]\n",
      "g_upd:  [7.34700975e+08 1.48979369e-05]\n",
      "y_cur:  [-0.01000977  0.62128684]\n",
      "x_upd:  [-8.27731172e+13 -1.04959010e+00]\n",
      "v_upd:  [3.97037521e+15 1.72846406e-01]\n",
      "g_upd:  [-7.35008970e+10  1.44531849e-05]\n",
      "y_cur:  [ 0.        -1.0490942]\n",
      "x_upd:  [ 8.02408981e+15 -2.58519422e+00]\n",
      "v_upd:  [-3.80898166e+17  9.33171132e-01]\n",
      "g_upd:  [ 7.35320406e+12 -2.18597270e-07]\n",
      "y_cur:  [ 0.         -2.56934228]\n",
      "x_upd:  [-7.77603781e+17 -2.47266719e+00]\n",
      "v_upd:  [3.65253461e+19 1.63212112e+00]\n",
      "g_upd:  [-7.35635362e+14 -1.42897080e-05]\n",
      "y_cur:  [ 0.         -2.45794052]\n",
      "x_upd:  [ 7.53310375e+19 -9.22646244e-01]\n",
      "v_upd:  [-3.50093289e+21  1.59579669e+00]\n",
      "g_upd:  [ 7.35953916e+16 -1.35264390e-05]\n",
      "y_cur:  [ 0.         -0.92341978]\n",
      "x_upd:  [-7.29523563e+21  4.57782555e-01]\n",
      "v_upd:  [3.35407633e+23 9.18567030e-01]\n",
      "g_upd:  [-7.36276150e+18  1.33338444e-06]\n",
      "y_cur:  [0.         0.44320473]\n",
      "x_upd:  [7.06238144e+23 3.26972368e-01]\n",
      "v_upd:  [-3.21186579e+25  3.08777704e-01]\n",
      "g_upd:  [7.36602148e+20 1.53119678e-05]\n",
      "y_cur:  [0.         0.31370264]\n",
      "x_upd:  [-6.83448912e+25 -1.09242151e+00]\n",
      "v_upd:  [3.07420315e+27 3.50783910e-01]\n",
      "g_upd:  [-7.36931998e+22  1.43054676e-05]\n",
      "y_cur:  [ 0.        -1.0914973]\n",
      "x_upd:  [ 6.61150661e+27 -2.32957107e+00]\n",
      "v_upd:  [-2.94099132e+29  9.48398179e-01]\n",
      "g_upd:  [ 7.37265791e+24 -6.69111709e-07]\n",
      "y_cur:  [ 0.         -2.31627536]\n",
      "x_upd:  [-6.39338181e+29 -2.18539814e+00]\n",
      "v_upd:  [2.81213421e+31 1.47524942e+00]\n",
      "g_upd:  [-7.37603619e+26 -1.44817311e-05]\n",
      "y_cur:  [ 0.         -2.17354416]\n",
      "x_upd:  [ 6.18006261e+31 -8.89710921e-01]\n",
      "v_upd:  [-2.68753676e+33  1.42678592e+00]\n",
      "g_upd:  [ 7.37945581e+28 -1.31516339e-05]\n",
      "y_cur:  [ 0.         -0.89081381]\n",
      "x_upd:  [-5.97149684e+33  2.15750061e-01]\n",
      "v_upd:  [2.56710495e+35 8.98671813e-01]\n",
      "g_upd:  [-7.38291777e+30  2.02964926e-06]\n",
      "y_cur:  [0.         0.20359256]\n",
      "x_upd:  [5.76763233e+35 6.28659059e-02]\n",
      "v_upd:  [-2.45074575e+37  4.42314883e-01]\n",
      "g_upd:  [7.38642311e+32 1.57774878e-05]\n",
      "y_cur:  [0.         0.05223725]\n",
      "x_upd:  [-5.56841689e+37 -1.11565403e+00]\n",
      "v_upd:  [2.33836719e+39 4.91390945e-01]\n",
      "g_upd:  [-7.38997292e+34  1.42272755e-05]\n",
      "y_cur:  [ 0.         -1.11449749]\n",
      "x_upd:  [ 5.37379828e+39 -2.10003312e+00]\n",
      "v_upd:  [-2.22987828e+41  9.52640634e-01]\n",
      "g_upd:  [ 7.39356832e+36 -1.05886250e-06]\n",
      "y_cur:  [-6.04462910e+23 -2.08903279e+00]\n",
      "x_upd:  [-5.18372423e+41 -1.94214388e+00]\n",
      "v_upd:  [2.12518909e+43 1.34294739e+00]\n",
      "g_upd:  [-7.39721047e+38 -1.46376995e-05]\n",
      "y_cur:  [ 7.73712525e+25 -1.93272244e+00]\n",
      "x_upd:  [ 4.99814247e+43 -8.73917319e-01]\n",
      "v_upd:  [-2.02421071e+45  1.29134873e+00]\n",
      "g_upd:  [ 7.4009006e+40 -1.2752095e-05]\n",
      "y_cur:  [ 0.         -0.87517815]\n",
      "x_upd:  [-4.81700067e+45 -2.16653787e-04]\n",
      "v_upd:  [1.92685524e+47 8.87222674e-01]\n",
      "g_upd:  [-7.40463994e+42  2.77007154e-06]\n",
      "y_cur:  [ 0.         -0.01021449]\n",
      "x_upd:  [ 4.64024648e+47 -1.59518175e-01]\n",
      "v_upd:  [-1.83303581e+49  5.51717188e-01]\n",
      "g_upd:  [7.40842983e+44 1.63229837e-05]\n",
      "y_cur:  [ 0.         -0.16792299]\n",
      "x_upd:  [-4.46782754e+49 -1.12381419e+00]\n",
      "v_upd:  [1.74266659e+51 6.00518626e-01]\n",
      "g_upd:  [-7.41227161e+46  1.42483353e-05]\n",
      "y_cur:  [ 0.         -1.12257605]\n",
      "x_upd:  [ 4.29969143e+51 -1.89619896e+00]\n",
      "v_upd:  [-1.65566276e+53  9.49246209e-01]\n",
      "g_upd:  [ 7.41616670e+48 -1.36392355e-06]\n",
      "y_cur:  [ 0.         -1.88723697]\n",
      "x_upd:  [-4.13578572e+53 -1.73811738e+00]\n",
      "v_upd:  [1.57194053e+55 1.23274672e+00]\n",
      "g_upd:  [-7.42011658e+50 -1.47390291e-05]\n",
      "y_cur:  [ 0.         -1.73073621]\n",
      "x_upd:  [ 3.97605794e+55 -8.71003870e-01]\n",
      "v_upd:  [-1.49141716e+57  1.18385036e+00]\n",
      "g_upd:  [ 7.42412279e+52 -1.23063312e-05]\n",
      "y_cur:  [ 0.         -0.87229383]\n",
      "x_upd:  [-3.82045559e+57 -1.90645250e-01]\n",
      "v_upd:  [1.41401090e+59 8.81135857e-01]\n",
      "g_upd:  [-7.42818693e+54  3.58739066e-06]\n",
      "y_cur:  [ 0.        -0.1987388]\n",
      "x_upd:  [ 3.66892613e+59 -3.44810260e-01]\n",
      "v_upd:  [-1.33964107e+61  6.39380230e-01]\n",
      "g_upd:  [7.43231067e+56 1.69925186e-05]\n",
      "y_cur:  [ 0.         -0.35136216]\n",
      "x_upd:  [-3.52141701e+61 -1.12082767e+00]\n",
      "v_upd:  [1.26822799e+63 6.83355622e-01]\n",
      "g_upd:  [-7.43649575e+58  1.44153891e-05]\n",
      "y_cur:  [ 0.        -1.1196194]\n",
      "x_upd:  [ 3.37787562e+63 -1.71732549e+00]\n",
      "v_upd:  [-1.19969303e+65  9.40815580e-01]\n",
      "g_upd:  [ 7.44074400e+60 -1.54369243e-06]\n",
      "y_cur:  [ 0.         -1.71015224]\n",
      "x_upd:  [-3.23824933e+65 -1.56876205e+00]\n",
      "v_upd:  [1.13395858e+67 1.14208977e+00]\n",
      "g_upd:  [-7.44505733e+62 -1.47507860e-05]\n",
      "y_cur:  [ 0.         -1.56307443]\n",
      "x_upd:  [ 3.10248548e+67 -8.77277550e-01]\n",
      "v_upd:  [-1.07094806e+69  1.09927861e+00]\n",
      "g_upd:  [ 7.44943772e+64 -1.17746238e-05]\n",
      "y_cur:  [ 0.         -0.87850477]\n",
      "x_upd:  [-2.97053136e+69 -3.56378757e-01]\n",
      "v_upd:  [1.01058593e+71 8.77995837e-01]\n",
      "g_upd:  [-7.45388726e+66  4.53702472e-06]\n",
      "y_cur:  [ 0.         -0.36281497]\n",
      "x_upd:  [ 2.84233424e+71 -4.97379436e-01]\n",
      "v_upd:  [-9.52797684e+72  7.07722012e-01]\n",
      "g_upd:  [7.45840812e+68 1.78578159e-05]\n",
      "y_cur:  [-4.90398573e+55 -5.02405641e-01]\n",
      "x_upd:  [-2.71784134e+73 -1.11004798e+00]\n",
      "v_upd:  [8.97509848e+74 7.44448836e-01]\n",
      "g_upd:  [-7.46300260e+70  1.48057753e-05]\n",
      "y_cur:  [ 3.13855087e+57 -1.10894750e+00]\n",
      "x_upd:  [ 2.59699985e+75 -1.56236041e+00]\n",
      "v_upd:  [-8.44649981e+76  9.29294803e-01]\n",
      "g_upd:  [ 7.46767310e+72 -1.52650388e-06]\n",
      "y_cur:  [ 0.        -1.5567368]\n",
      "x_upd:  [-2.47975693e+77 -1.42976988e+00]\n",
      "v_upd:  [7.94146678e+78 1.06839327e+00]\n",
      "g_upd:  [-7.47242212e+74 -1.46064786e-05]\n",
      "y_cur:  [ 0.         -1.42547219]\n",
      "x_upd:  [ 2.36605970e+79 -8.89575149e-01]\n",
      "v_upd:  [-7.45929573e+80  1.03320983e+00]\n",
      "g_upd:  [ 7.47725232e+76 -1.10819442e-05]\n",
      "y_cur:  [ 0.        -0.8906794]\n",
      "x_upd:  [-2.25585522e+81 -4.98514756e-01]\n",
      "v_upd:  [6.99929333e+82 8.75954636e-01]\n",
      "g_upd:  [-7.48216646e+78  5.71742025e-06]\n",
      "y_cur:  [ 0.         -0.50352961]\n",
      "x_upd:  [ 2.14909053e+83 -6.21306373e-01]\n",
      "v_upd:  [-6.56077666e+84  7.59113110e-01]\n",
      "g_upd:  [7.48716748e+80 1.90424852e-05]\n",
      "y_cur:  [ 0.         -0.62509331]\n",
      "x_upd:  [-2.04571263e+85 -1.09428301e+00]\n",
      "v_upd:  [6.14307317e+86 7.87727741e-01]\n",
      "g_upd:  [-7.49225844e+82  1.55549387e-05]\n",
      "y_cur:  [ 0.         -1.09334018]\n",
      "x_upd:  [ 1.94566847e+87 -1.42998712e+00]\n",
      "v_upd:  [-5.74552071e+88  9.16059693e-01]\n",
      "g_upd:  [ 7.49744259e+84 -1.17977002e-06]\n",
      "y_cur:  [ 0.         -1.42568725]\n",
      "x_upd:  [-1.84890496e+89 -1.31709101e+00]\n",
      "v_upd:  [5.36746752e+90 1.00909824e+00]\n",
      "g_upd:  [-7.50272336e+86 -1.41756780e-05]\n",
      "y_cur:  [ 2.8269553e+73 -1.3139201e+00]\n",
      "x_upd:  [ 1.75536898e+91 -9.05219674e-01]\n",
      "v_upd:  [-5.00827227e+92  9.81766492e-01]\n",
      "g_upd:  [ 7.50810434e+88 -1.00812016e-05]\n",
      "y_cur:  [ 0.         -0.90616748]\n",
      "x_upd:  [-1.66500734e+93 -6.18344008e-01]\n",
      "v_upd:  [4.66730402e+94 8.73633700e-01]\n",
      "g_upd:  [-7.51358936e+90  7.31368578e-06]\n",
      "y_cur:  [ 0.         -0.62216057]\n",
      "x_upd:  [ 1.57776683e+95 -7.20355596e-01]\n",
      "v_upd:  [-4.34394229e+96  7.95814153e-01]\n",
      "g_upd:  [7.51918245e+92 2.07739043e-05]\n",
      "y_cur:  [ 0.         -0.72315204]\n",
      "x_upd:  [-1.49359419e+97 -1.07581605e+00]\n",
      "v_upd:  [4.03757701e+98 8.16529721e-01]\n",
      "g_upd:  [-7.52488789e+94  1.69160425e-05]\n",
      "y_cur:  [ 0.         -1.07505788]\n",
      "x_upd:  [ 1.41243609e+99 -1.31865876e+00]\n",
      "v_upd:  [-3.74760858e+100  9.01990182e-001]\n",
      "g_upd:  [ 7.53071022e+96 -2.43710810e-07]\n",
      "y_cur:  [-2.42833612e+83 -1.31547217e+00]\n",
      "x_upd:  [-1.33423918e+101 -1.22693123e+000]\n",
      "v_upd:  [3.47344781e+102 9.61704983e-001]\n",
      "g_upd:  [-7.53665424e+98 -1.31903531e-05]\n",
      "y_cur:  [ 0.         -1.22466192]\n",
      "x_upd:  [ 1.25895005e+103 -9.21968206e-001]\n",
      "v_upd:  [-3.21451603e+104  9.41565594e-001]\n",
      "g_upd:  [ 7.54272508e+100 -8.46853461e-006]\n",
      "y_cur:  [ 0.         -0.92274852]\n",
      "x_upd:  [-1.18651524e+105 -7.17283867e-001]\n",
      "v_upd:  [2.97024501e+106 8.70026342e-001]\n",
      "g_upd:  [-7.54892816e+102  9.69834773e-006]\n",
      "y_cur:  [ 0.         -0.72011103]\n",
      "x_upd:  [ 1.11688124e+107 -7.97941129e-001]\n",
      "v_upd:  [-2.74007699e+108  8.19917298e-001]\n",
      "g_upd:  [7.55526931e+104 2.35034186e-005]\n",
      "y_cur:  [ 0.         -0.79996172]\n",
      "x_upd:  [-1.04999448e+109 -1.05641417e+000]\n",
      "v_upd:  [2.52346474e+110 8.33622605e-001]\n",
      "g_upd:  [-7.56175469e+106  1.94000411e-005]\n",
      "y_cur:  [ 0.         -1.05585003]\n",
      "x_upd:  [ 9.85801347e+110 -1.22661370e+000]\n",
      "v_upd:  [-2.31987151e+112  8.87531354e-001]\n",
      "g_upd:  [7.56839093e+108 1.82817406e-006]\n",
      "y_cur:  [ 0.         -1.22434756]\n",
      "x_upd:  [-9.24248164e+112 -1.15572950e+000]\n",
      "v_upd:  [2.12877108e+114 9.23790575e-001]\n",
      "g_upd:  [-7.57518510e+110 -1.10630175e-005]\n",
      "y_cur:  [ 0.         -1.15417221]\n",
      "x_upd:  [ 8.65281202e+114 -9.37942097e-001]\n",
      "v_upd:  [-1.94964772e+116  9.09655041e-001]\n",
      "g_upd:  [ 7.58214478e+112 -5.57077972e-006]\n",
      "y_cur:  [-1.09362536e+99 -9.38562676e-01]\n",
      "x_upd:  [-8.08846669e+116 -7.96795409e-001]\n",
      "v_upd:  [1.78199628e+118 8.64396574e-001]\n",
      "g_upd:  [-7.58927811e+114  1.36860644e-005]\n",
      "y_cur:  [ 1.39984046e+101 -7.98827455e-001]\n",
      "x_upd:  [ 7.54890716e+118 -8.57072034e-001]\n",
      "v_upd:  [-1.62532214e+120  8.33285983e-001]\n",
      "g_upd:  [7.59659385e+116 2.82128414e-005]\n",
      "y_cur:  [-8.95897897e+102 -8.58501313e-001]\n",
      "x_upd:  [-7.03359432e+120 -1.03730816e+000]\n",
      "v_upd:  [1.47914124e+122 8.41217975e-001]\n",
      "g_upd:  [-7.60410143e+118  2.41391184e-005]\n",
      "y_cur:  [ 0.         -1.03693507]\n",
      "x_upd:  [ 6.54198840e+122 -1.15185443e+000]\n",
      "v_upd:  [-1.34298008e+124  8.72734939e-001]\n",
      "g_upd:  [7.61181103e+120 6.29386521e-006]\n",
      "y_cur:  [-7.33919557e+106 -1.15033589e+000]\n",
      "x_upd:  [-6.07354897e+124 -1.10009504e+000]\n",
      "v_upd:  [1.21637577e+126 8.93002733e-001]\n",
      "g_upd:  [-7.61973365e+122 -6.38927278e-006]\n",
      "y_cur:  [ 0.         -1.09909409]\n",
      "x_upd:  [ 5.62773494e+126 -9.51515819e-001]\n",
      "v_upd:  [-1.09887599e+128  8.83430880e-001]\n",
      "g_upd:  [7.62788122e+124 2.47961199e-007]\n",
      "y_cur:  [ 0.         -0.95200066]\n",
      "x_upd:  [-5.20400450e+128 -8.58255901e-001]\n",
      "v_upd:  [9.90039062e+129 8.56165380e-001]\n",
      "g_upd:  [-7.6362667e+126  2.1255011e-005]\n",
      "y_cur:  [ 0.         -0.85967334]\n",
      "x_upd:  [ 4.80181513e+130 -9.00243366e-001]\n",
      "v_upd:  [-8.89433905e+131  8.37481911e-001]\n",
      "g_upd:  [7.64490419e+128 3.72957700e-005]\n",
      "y_cur:  [ 0.         -0.90124093]\n",
      "x_upd:  [-4.42062354e+132 -1.01910255e+000]\n",
      "v_upd:  [7.96640093e+133 8.40962814e-001]\n",
      "g_upd:  [-7.65380908e+130  3.39553447e-005]\n",
      "y_cur:  [ 0.         -1.01891152]\n",
      "x_upd:  [ 4.05988568e+134 -1.09204132e+000]\n",
      "v_upd:  [-7.11247851e+135  8.57268059e-001]\n",
      "g_upd:  [7.66299823e+132 1.64091077e-005]\n",
      "y_cur:  [ 0.         -1.09112091]\n",
      "x_upd:  [-3.71905668e+136 -1.05664699e+000]\n",
      "v_upd:  [6.32858071e+137 8.67015802e-001]\n",
      "g_upd:  [-7.67249010e+134  4.60599742e-006]\n",
      "y_cur:  [ 5.16449976e+120 -1.05608052e+000]\n",
      "x_upd:  [ 3.39759084e+138 -9.61096881e-001]\n",
      "v_upd:  [-5.61082333e+139  8.60518829e-001]\n",
      "g_upd:  [7.68230503e+136 1.34902473e-005]\n",
      "y_cur:  [ 0.         -0.96148591]\n",
      "x_upd:  [-3.09494159e+140 -9.02704777e-001]\n",
      "v_upd:  [4.95542919e+141 8.44764133e-001]\n",
      "g_upd:  [-7.69246548e+138  3.79144453e-005]\n",
      "y_cur:  [ 0.         -0.90367773]\n",
      "x_upd:  [ 2.81056144e+142 -9.29172505e-001]\n",
      "v_upd:  [-4.35872829e+143  8.33655050e-001]\n",
      "g_upd:  [7.70299631e+140 5.75202190e-005]\n",
      "y_cur:  [ 0.         -0.92988078]\n",
      "x_upd:  [-2.54390198e+144 -1.00149377e+000]\n",
      "v_upd:  [3.81715801e+145 8.33881752e-001]\n",
      "g_upd:  [-7.71392516e+142  5.70627361e-005]\n",
      "y_cur:  [ 0.         -1.00147884]\n",
      "x_upd:  [ 2.29441379e+146 -1.04415270e+000]\n",
      "v_upd:  [-3.32726328e+147  8.40358048e-001]\n",
      "g_upd:  [7.72528287e+144 4.20480934e-005]\n",
      "y_cur:  [ 0.         -1.04371118]\n",
      "x_upd:  [-2.06154642e+148 -1.02157650e+000]\n",
      "v_upd:  [2.88569680e+149 8.43413092e-001]\n",
      "g_upd:  [-7.73710402e+146  3.38694531e-005]\n",
      "y_cur:  [ 0.         -1.02136073]\n",
      "x_upd:  [ 1.84474837e+150 -9.64576063e-001]\n",
      "v_upd:  [-2.48921919e+151  8.38577735e-001]\n",
      "g_upd:  [7.74942752e+148 4.88989292e-005]\n",
      "y_cur:  [ 0.        -0.9649303]\n",
      "x_upd:  [-1.64346697e+152 -9.30189389e-001]\n",
      "v_upd:  [2.13469929e+153 8.29404298e-001]\n",
      "g_upd:  [-7.76229737e+150  8.22005198e-005]\n",
      "y_cur:  [ 2.32588392e+136 -9.30887496e-001]\n",
      "x_upd:  [ 1.45714836e+154 -9.44038009e-001]\n",
      "v_upd:  [-1.81911429e+155  8.22335981e-001]\n",
      "g_upd:  [7.77576362e+152 1.12361563e-004]\n",
      "y_cur:  [ 0.         -0.94459763]\n",
      "x_upd:  [-1.28523743e+156 -9.82365088e-001]\n",
      "v_upd:  [1.53955005e+157 8.20198583e-001]\n",
      "g_upd:  [-7.78988350e+154  1.23156857e-004]\n",
      "y_cur:  [ 0.         -0.98254144]\n",
      "x_upd:  [ 1.12717774e+158 -1.00336846e+000]\n",
      "v_upd:  [-1.29320127e+159  8.20589645e-001]\n",
      "g_upd:  [7.80472286e+156 1.20801214e-004]\n",
      "y_cur:  [ 0.         -1.00333477]\n",
      "x_upd:  [-9.82411433e+159 -9.89244952e-001]\n",
      "v_upd:  [1.07737184e+161 8.19396023e-001]\n",
      "g_upd:  [-7.82035803e+158  1.29448073e-004]\n",
      "y_cur:  [ 0.        -0.9893525]\n",
      "x_upd:  [ 8.50379149e+161 -9.57573470e-001]\n",
      "v_upd:  [-8.89475040e+162  8.14904564e-001]\n",
      "g_upd:  [7.83687811e+160 1.68937452e-004]\n",
      "y_cur:  [-9.98959536e+145 -9.57997736e-001]\n",
      "x_upd:  [-7.30519925e+163 -9.37583371e-001]\n",
      "v_upd:  [7.27033886e+164 8.08616689e-001]\n",
      "g_upd:  [-7.85438804e+162  2.36716019e-004]\n",
      "y_cur:  [ 0.         -0.93820754]\n",
      "x_upd:  [ 6.22271082e+165 -9.40752635e-001]\n",
      "v_upd:  [-5.87681434e+166  8.02952064e-001]\n",
      "g_upd:  [7.87301256e+164 3.12423983e-004]\n",
      "y_cur:  [ 0.         -0.94134511]\n",
      "x_upd:  [-5.25068095e+167 -9.54329315e-001]\n",
      "v_upd:  [4.69161123e+168 7.98820160e-001]\n",
      "g_upd:  [-7.89290150e+166  3.81761632e-004]\n",
      "y_cur:  [ 0.         -0.95478602]\n",
      "x_upd:  [ 4.38344442e+169 -9.58623677e-001]\n",
      "v_upd:  [-3.69327140e+170  7.95289712e-001]\n",
      "g_upd:  [7.91423705e+168 4.57210935e-004]\n",
      "y_cur:  [ 0.         -0.95903744]\n",
      "x_upd:  [-3.61531431e+171 -9.46408105e-001]\n",
      "v_upd:  [2.86144818e+172 7.90993275e-001]\n",
      "g_upd:  [-7.93724375e+170  5.76042462e-004]\n",
      "y_cur:  [ 0.         -0.94694402]\n",
      "x_upd:  [ 2.94058001e+173 -9.25871205e-001]\n",
      "v_upd:  [-2.17691069e+174  7.85433388e-001]\n",
      "g_upd:  [7.96220270e+172 7.78761745e-004]\n",
      "y_cur:  [ 0.         -0.92661249]\n",
      "x_upd:  [-2.35350482e+175 -9.08559657e-001]\n",
      "v_upd:  [1.62154855e+176 7.79048632e-001]\n",
      "g_upd:  [-7.98947235e+174  1.09226897e-003]\n",
      "y_cur:  [ 0.         -0.90947406]\n",
      "x_upd:  [ 1.84832309e+177 -8.97479577e-001]\n",
      "v_upd:  [-1.17837712e+178  7.72422619e-001]\n",
      "g_upd:  [8.01951966e+176 1.54151693e-003]\n",
      "y_cur:  [ 0.         -0.89850478]\n",
      "x_upd:  [-1.41923676e+179 -8.86298709e-001]\n",
      "v_upd:  [8.31543257e+179 7.65666355e-001]\n",
      "g_upd:  [-8.05296880e+178  2.19310043e-003]\n",
      "y_cur:  [ 0.         -0.88743572]\n",
      "x_upd:  [ 1.06041109e+181 -8.66992158e-001]\n",
      "v_upd:  [-5.66331826e+181  7.58458529e-001]\n",
      "g_upd:  [8.09068060e+180 3.21801902e-003]\n",
      "y_cur:  [ 0.         -0.86832224]\n",
      "x_upd:  [-7.65969271e+182 -8.35950033e-001]\n",
      "v_upd:  [3.69173071e+183 7.50430544e-001]\n",
      "g_upd:  [-8.13388929e+182  4.97740687e-003]\n",
      "y_cur:  [ 1.17936326e+167 -8.37590533e-001]\n",
      "x_upd:  [ 5.29985439e+184 -7.92930235e-001]\n",
      "v_upd:  [-2.27651085e+185  7.41391786e-001]\n",
      "g_upd:  [8.18445458e+184 8.20692185e-003]\n",
      "y_cur:  [ 0.         -0.79500093]\n",
      "x_upd:  [-3.46475455e+186 -7.35596696e-001]\n",
      "v_upd:  [1.30513720e+187 7.31258261e-001]\n",
      "g_upd:  [-8.24536896e+186  1.45616080e-002]\n",
      "y_cur:  [ 0.         -0.73824073]\n",
      "x_upd:  [ 2.09384139e+188 -6.55030202e-001]\n",
      "v_upd:  [-6.76844172e+188  7.19891921e-001]\n",
      "g_upd:  [8.32190812e+188 2.84081725e-002]\n",
      "y_cur:  [ 0.        -0.6584799]\n",
      "x_upd:  [-1.12566848e+190 -5.33078285e-001]\n",
      "v_upd:  [3.02766903e+190 7.07052548e-001]\n",
      "g_upd:  [-8.42472770e+190  6.36987146e-002]\n",
      "y_cur:  [ 0.        -0.5377475]\n",
      "x_upd:  [ 4.97611979e+191 -3.36064037e-001]\n",
      "v_upd:  [-1.06124866e+192  6.92488933e-001]\n",
      "g_upd:  [8.58083208e+192 1.79312045e-001]\n",
      "y_cur:  [ 0.        -0.3427034]\n",
      "x_upd:  [-1.45399657e+193  6.94766474e-003]\n",
      "v_upd:  [2.24649100e+193 6.76196178e-001]\n",
      "g_upd:  [-8.90038467e+194  8.01639927e-001]\n"
     ]
    }
   ],
   "source": [
    "x_last, x_list, y_list, v_list, g_list = optimized_gd(np.array([1,1]), grad_quad, 100, 100)"
   ]
  },
  {
   "cell_type": "code",
   "execution_count": 12,
   "metadata": {},
   "outputs": [],
   "source": [
    "def kim_gd(x_0, grad, L, K):\n",
    "    theta = init_theta(K)\n",
    "    x_cur = x_0\n",
    "    y_cur = x_0\n",
    "    list_x = [x_0]\n",
    "    list_y = [x_0]\n",
    "    for i in range(K):\n",
    "        y_upd = x_cur - (1/L)*grad(x_cur)\n",
    "        x_upd = y_upd + (theta[i]-1)*(2*theta[i+1]-1)/(theta[i]*(2*theta[i]-1))*(y_upd - y_cur)\\\n",
    "        + (2*theta[i+1]-1)/(2*theta[i]-1)*(y_upd - x_cur)\n",
    "        \n",
    "        list_x.append(x_upd)\n",
    "        list_y.append(y_upd)\n",
    "        \n",
    "        y_cur = y_upd\n",
    "        x_cur = x_upd\n",
    "        \n",
    "    return list_x, list_y\n",
    "    \n",
    "    "
   ]
  },
  {
   "cell_type": "code",
   "execution_count": 13,
   "metadata": {},
   "outputs": [],
   "source": [
    "def init_theta(K):\n",
    "    theta = [0] * (K+1)\n",
    "    for i in range(K+1):\n",
    "        if i == 0:\n",
    "            theta[0] = 1\n",
    "        if i>0 and i<K:\n",
    "            theta[i] = (1+np.sqrt(1+4*theta[i-1]*theta[i-1]))/2\n",
    "        if i==K:\n",
    "            theta[i] = (1+np.sqrt(1+8*theta[i-1]*theta[i-1]))/2\n",
    "    \n",
    "    return theta[::-1]"
   ]
  },
  {
   "cell_type": "code",
   "execution_count": 14,
   "metadata": {},
   "outputs": [],
   "source": [
    "def init_h(i, theta):\n",
    "#     i = i+1\n",
    "    h_i = [0]*(i+1)\n",
    "    h_i[i] = 1 + (2*theta[i+1]-1)/theta[i]\n",
    "    h_i[i-1] = ((theta[i] - 1)/theta[i-1])*(h_i[i] - 1)\n",
    "    for j in range(i-2, -1, -1):\n",
    "        h_i[j] = ((theta[j+1]-1)/theta[j])*h_i[j+1]\n",
    "    \n",
    "    return h_i\n",
    "        "
   ]
  },
  {
   "cell_type": "code",
   "execution_count": 15,
   "metadata": {},
   "outputs": [
    {
     "data": {
      "text/plain": [
       "[0.01776044351656489,\n",
       " 0.040138483536344485,\n",
       " 0.07558128256504584,\n",
       " 0.17413325497754578,\n",
       " 1.618033988749895]"
      ]
     },
     "execution_count": 15,
     "metadata": {},
     "output_type": "execute_result"
    }
   ],
   "source": [
    "init_h(4, init_theta(5))"
   ]
  },
  {
   "cell_type": "code",
   "execution_count": 16,
   "metadata": {},
   "outputs": [],
   "source": [
    "x_list, y_list = kim_gd(np.array([2,1]), grad_quad, 100, 10000)"
   ]
  },
  {
   "cell_type": "code",
   "execution_count": 17,
   "metadata": {},
   "outputs": [
    {
     "data": {
      "text/plain": [
       "array([-0.00971591, -1.        ])"
      ]
     },
     "execution_count": 17,
     "metadata": {},
     "output_type": "execute_result"
    }
   ],
   "source": [
    "x_list[-1]"
   ]
  },
  {
   "cell_type": "code",
   "execution_count": 18,
   "metadata": {},
   "outputs": [],
   "source": [
    "def nesterov(x_0, grad, L, mu, K):\n",
    "    x_cur = x_0\n",
    "    y_cur = x_0\n",
    "    x_list = [x_0]\n",
    "    y_list = [x_0]\n",
    "    for i in range(K):\n",
    "        x_upd = y_cur - (1/L)*(grad(y_cur))\n",
    "        y_upd = x_upd + ((np.sqrt(L) - np.sqrt(mu))/(np.sqrt(L) + np.sqrt(mu))) * (x_upd - x_cur)\n",
    "        \n",
    "        \n",
    "        x_list.append(x_upd)\n",
    "        y_list.append(y_upd)\n",
    "        \n",
    "        x_cur = x_upd\n",
    "        y_cur = y_upd\n",
    "        \n",
    "    return x_list, y_list\n",
    "        "
   ]
  },
  {
   "cell_type": "code",
   "execution_count": 19,
   "metadata": {},
   "outputs": [],
   "source": [
    "x_0 = np.array([3,1])\n",
    "L=100\n",
    "K = 100000\n",
    "mu = 1"
   ]
  },
  {
   "cell_type": "code",
   "execution_count": 20,
   "metadata": {},
   "outputs": [],
   "source": [
    "def grad_quad(x):\n",
    "    A = np.array([[L,0],[0,1]])\n",
    "    b = np.array([2,1])\n",
    "    return A@x+b"
   ]
  },
  {
   "cell_type": "code",
   "execution_count": 21,
   "metadata": {},
   "outputs": [],
   "source": [
    "x_list_nes, y_list_nes = nesterov(x_0, grad_quad, L, mu, K)"
   ]
  },
  {
   "cell_type": "code",
   "execution_count": 22,
   "metadata": {},
   "outputs": [],
   "source": [
    "x_star = x_list_nes[-1]"
   ]
  },
  {
   "cell_type": "code",
   "execution_count": 23,
   "metadata": {},
   "outputs": [
    {
     "data": {
      "text/plain": [
       "array([-0.02, -1.  ])"
      ]
     },
     "execution_count": 23,
     "metadata": {},
     "output_type": "execute_result"
    }
   ],
   "source": [
    "x_star"
   ]
  },
  {
   "cell_type": "code",
   "execution_count": 24,
   "metadata": {},
   "outputs": [],
   "source": [
    "norm_list_nes = []\n",
    "norm_grad_nes=[]\n",
    "for x in x_list_nes:\n",
    "    norm_list_nes.append(np.linalg.norm(x-x_star))\n",
    "    norm_grad_nes.append(np.linalg.norm(grad_quad(x)))\n",
    "    "
   ]
  },
  {
   "cell_type": "code",
   "execution_count": 25,
   "metadata": {},
   "outputs": [
    {
     "data": {
      "text/plain": [
       "0.0"
      ]
     },
     "execution_count": 25,
     "metadata": {},
     "output_type": "execute_result"
    }
   ],
   "source": [
    "norm_list_nes[-1]"
   ]
  },
  {
   "cell_type": "code",
   "execution_count": 26,
   "metadata": {},
   "outputs": [
    {
     "data": {
      "text/plain": [
       "array([-0.02, -1.  ])"
      ]
     },
     "execution_count": 26,
     "metadata": {},
     "output_type": "execute_result"
    }
   ],
   "source": [
    "x_star"
   ]
  },
  {
   "cell_type": "code",
   "execution_count": 27,
   "metadata": {},
   "outputs": [
    {
     "data": {
      "text/plain": [
       "array([-0.02, -1.  ])"
      ]
     },
     "execution_count": 27,
     "metadata": {},
     "output_type": "execute_result"
    }
   ],
   "source": [
    "np.linalg.solve([[L,0],[0,1]],-np.array([2,1]))"
   ]
  },
  {
   "cell_type": "code",
   "execution_count": 28,
   "metadata": {},
   "outputs": [],
   "source": [
    "x_list_kim, y_list_kim = kim_gd(np.array([2,1]), grad_quad, L, K)"
   ]
  },
  {
   "cell_type": "code",
   "execution_count": 29,
   "metadata": {},
   "outputs": [],
   "source": [
    "norm_list_kim = []\n",
    "norm_grad_kim=[]\n",
    "for x in x_list_kim:\n",
    "    norm_list_kim.append(np.linalg.norm(x-x_star))\n",
    "    norm_grad_kim.append(np.linalg.norm(grad_quad(x)))"
   ]
  },
  {
   "cell_type": "code",
   "execution_count": 30,
   "metadata": {},
   "outputs": [
    {
     "data": {
      "text/plain": [
       "2.8565082961343885e-05"
      ]
     },
     "execution_count": 30,
     "metadata": {},
     "output_type": "execute_result"
    }
   ],
   "source": [
    "norm_list_kim[-1]"
   ]
  },
  {
   "cell_type": "code",
   "execution_count": 31,
   "metadata": {},
   "outputs": [],
   "source": [
    "import matplotlib.pyplot as plt"
   ]
  },
  {
   "cell_type": "code",
   "execution_count": 32,
   "metadata": {},
   "outputs": [
    {
     "data": {
      "image/png": "[encoded data removed]",
      "text/plain": [
       "<Figure size 432x288 with 1 Axes>"
      ]
     },
     "metadata": {
      "needs_background": "light"
     },
     "output_type": "display_data"
    }
   ],
   "source": [
    "plt.plot(norm_list_kim)\n",
    "plt.plot(norm_list_nes)\n",
    "plt.yscale('log')"
   ]
  },
  {
   "cell_type": "code",
   "execution_count": 33,
   "metadata": {},
   "outputs": [
    {
     "data": {
      "image/png": "[encoded data removed]",
      "text/plain": [
       "<Figure size 432x288 with 1 Axes>"
      ]
     },
     "metadata": {
      "needs_background": "light"
     },
     "output_type": "display_data"
    }
   ],
   "source": [
    "# plt.plot(norm_grad_kim)\n",
    "plt.plot(norm_grad_nes)\n",
    "plt.yscale('log')"
   ]
  },
  {
   "cell_type": "code",
   "execution_count": 34,
   "metadata": {},
   "outputs": [
    {
     "data": {
      "text/plain": [
       "2.8565082961343885e-05"
      ]
     },
     "execution_count": 34,
     "metadata": {},
     "output_type": "execute_result"
    }
   ],
   "source": [
    "norm_list_kim[-1]"
   ]
  },
  {
   "cell_type": "code",
   "execution_count": null,
   "metadata": {},
   "outputs": [],
   "source": []
  },
  {
   "cell_type": "code",
   "execution_count": null,
   "metadata": {},
   "outputs": [],
   "source": []
  },
  {
   "cell_type": "code",
   "execution_count": null,
   "metadata": {},
   "outputs": [],
   "source": []
  },
  {
   "cell_type": "code",
   "execution_count": null,
   "metadata": {},
   "outputs": [],
   "source": []
  },
  {
   "cell_type": "code",
   "execution_count": null,
   "metadata": {},
   "outputs": [],
   "source": []
  },
  {
   "cell_type": "code",
   "execution_count": null,
   "metadata": {},
   "outputs": [],
   "source": []
  },
  {
   "cell_type": "code",
   "execution_count": null,
   "metadata": {},
   "outputs": [],
   "source": []
  },
  {
   "cell_type": "code",
   "execution_count": 35,
   "metadata": {},
   "outputs": [],
   "source": [
    "def D_method(x_0, y_0, eta_x, eta_y, grad_x, grad_y, alpha, K, K_sub):\n",
    "    x_list = [x_0]\n",
    "    y_list = [y_0]\n",
    "    \n",
    "    x_0_up = x_0\n",
    "    y_0_up = y_0\n",
    "    \n",
    "    x_up_cur = x_0_up\n",
    "    y_up_cur = y_0_up\n",
    "    \n",
    "    x_cur = x_0\n",
    "    y_cur = y_0\n",
    "    \n",
    "    for i in range(K):\n",
    "        x_down = alpha*x_cur+(1-alpha)*x_up_cur\n",
    "        y_down = alpha*y_cur+(1-alpha)*y_up_cur\n",
    "        \n",
    "        \n",
    "        x_cur_sub = y_down\n",
    "        x_prev_sub = y_down\n",
    "        y_cur_sub = y_down\n",
    "        \n",
    "        for j in range(K_sub):\n",
    "            y_cur_sub = x_cur_sub + (j/(j+2))*(x_cur_sub - x_prev_sub)\n",
    "            x_upd_sub = y_cur_sub - (1/(L_y+1/(alpha*eta_y)))*(grad_y(x_down, y_cur_sub)\\\n",
    "                                                               +(1/(alpha*eta_y))*(y_cur_sub-y_down))\n",
    "        \n",
    "\n",
    "        \n",
    "            x_prev_sub = x_cur_sub\n",
    "            x_cur_sub = x_upd_sub\n",
    "            \n",
    "        y_up_upd = x_upd_sub\n",
    "        \n",
    "        \n",
    "        \n",
    "        \n",
    "        \n",
    "#         y_up_upd = solver(x_down, y_down, eta_y, alpha)\n",
    "        \n",
    "        x_up_upd = x_down - eta_x*alpha*grad_x(x_down, y_up_upd)\n",
    "        x_upd = (x_cur + alpha*x_down - eta_x*grad_x(x_down,y_up_upd))/(1+alpha)\n",
    "        y_upd = (y_cur+alpha*y_up_upd-eta_y*grad_y(x_down,y_up_upd))/(1+alpha)\n",
    "        \n",
    "        \n",
    "        x_list.append(x_upd)\n",
    "        y_list.append(y_upd)\n",
    "        \n",
    "        x_up_cur = x_up_upd\n",
    "        y_up_cur = y_up_upd\n",
    "        \n",
    "        x_cur = x_upd\n",
    "        y_cur = y_upd\n",
    "        \n",
    "    return x_list, y_list\n",
    "        \n",
    "        \n",
    "        \n",
    "    "
   ]
  },
  {
   "cell_type": "code",
   "execution_count": null,
   "metadata": {},
   "outputs": [],
   "source": []
  },
  {
   "cell_type": "code",
   "execution_count": 36,
   "metadata": {},
   "outputs": [],
   "source": [
    "x_0 = np.array([1,2])\n",
    "y_0 = np.array([2,3])\n",
    "L = 1000\n",
    "L_x = 10\n",
    "L_y = 1000\n",
    "mu_x = 0.1\n",
    "mu_y = 0.1\n",
    "eta_x = 1/np.sqrt(mu_x*L_x)\n",
    "eta_y = (1/mu_y)*(np.sqrt(mu_x/L_x))\n",
    "alpha = np.sqrt(mu_x/L_x)\n",
    "C = 2.\n",
    "K_sub = int(np.sqrt(2*C)*max(1., np.sqrt(eta_y*alpha*L_y)))\n",
    "K=10000\n"
   ]
  },
  {
   "cell_type": "code",
   "execution_count": 37,
   "metadata": {},
   "outputs": [
    {
     "data": {
      "text/plain": [
       "20"
      ]
     },
     "execution_count": 37,
     "metadata": {},
     "output_type": "execute_result"
    }
   ],
   "source": [
    "K_sub"
   ]
  },
  {
   "cell_type": "code",
   "execution_count": 38,
   "metadata": {},
   "outputs": [],
   "source": [
    "A = np.array([[L_x,0,0,0],[0,mu_x,0,0],[0,0,L_y,0],[0,0,0,mu_y]])\n",
    "b = np.array([2,1,3,1])"
   ]
  },
  {
   "cell_type": "code",
   "execution_count": 39,
   "metadata": {},
   "outputs": [
    {
     "data": {
      "text/plain": [
       "array([[1.e+01, 0.e+00, 0.e+00, 0.e+00],\n",
       "       [0.e+00, 1.e-01, 0.e+00, 0.e+00],\n",
       "       [0.e+00, 0.e+00, 1.e+03, 0.e+00],\n",
       "       [0.e+00, 0.e+00, 0.e+00, 1.e-01]])"
      ]
     },
     "execution_count": 39,
     "metadata": {},
     "output_type": "execute_result"
    }
   ],
   "source": [
    "A"
   ]
  },
  {
   "cell_type": "code",
   "execution_count": 40,
   "metadata": {},
   "outputs": [],
   "source": [
    "def grad_quad_4(x):\n",
    "    A = np.array([[L_x,0,0,0],[0,mu_x,0,0],[0,0,L_y,0],[0,0,0,mu_y]])\n",
    "    b = np.array([2,1,3,1])\n",
    "    return A@x+b"
   ]
  },
  {
   "cell_type": "code",
   "execution_count": 41,
   "metadata": {},
   "outputs": [],
   "source": [
    "def grad_y(x,y):\n",
    "    vec = np.array(list(x)+list(y))\n",
    "    res = A@vec+b\n",
    "    return res[2:4]"
   ]
  },
  {
   "cell_type": "code",
   "execution_count": 42,
   "metadata": {},
   "outputs": [],
   "source": [
    "def grad_x(x,y):\n",
    "    vec = np.array(list(x)+list(y))\n",
    "    res = A@vec+b\n",
    "    return res[0:2]"
   ]
  },
  {
   "cell_type": "code",
   "execution_count": 43,
   "metadata": {},
   "outputs": [
    {
     "data": {
      "text/plain": [
       "array([[1.e+01, 0.e+00, 0.e+00, 0.e+00],\n",
       "       [0.e+00, 1.e-01, 0.e+00, 0.e+00],\n",
       "       [0.e+00, 0.e+00, 1.e+03, 0.e+00],\n",
       "       [0.e+00, 0.e+00, 0.e+00, 1.e-01]])"
      ]
     },
     "execution_count": 43,
     "metadata": {},
     "output_type": "execute_result"
    }
   ],
   "source": [
    "A"
   ]
  },
  {
   "cell_type": "code",
   "execution_count": 44,
   "metadata": {},
   "outputs": [],
   "source": [
    "x_star = np.linalg.solve(A,-b)"
   ]
  },
  {
   "cell_type": "code",
   "execution_count": 45,
   "metadata": {},
   "outputs": [
    {
     "data": {
      "text/plain": [
       "array([-2.e-01, -1.e+01, -3.e-03, -1.e+01])"
      ]
     },
     "execution_count": 45,
     "metadata": {},
     "output_type": "execute_result"
    }
   ],
   "source": [
    "x_star"
   ]
  },
  {
   "cell_type": "code",
   "execution_count": 46,
   "metadata": {},
   "outputs": [
    {
     "data": {
      "text/plain": [
       "10000"
      ]
     },
     "execution_count": 46,
     "metadata": {},
     "output_type": "execute_result"
    }
   ],
   "source": [
    "K"
   ]
  },
  {
   "cell_type": "code",
   "execution_count": 47,
   "metadata": {},
   "outputs": [
    {
     "data": {
      "text/plain": [
       "20"
      ]
     },
     "execution_count": 47,
     "metadata": {},
     "output_type": "execute_result"
    }
   ],
   "source": [
    "K_sub"
   ]
  },
  {
   "cell_type": "code",
   "execution_count": 48,
   "metadata": {
    "scrolled": true
   },
   "outputs": [],
   "source": [
    "x_list_D, y_list_D = D_method(x_0, y_0, eta_x, eta_y,grad_x, grad_y, alpha, 10000, 20)"
   ]
  },
  {
   "cell_type": "code",
   "execution_count": 49,
   "metadata": {},
   "outputs": [
    {
     "name": "stdout",
     "output_type": "stream",
     "text": [
      "[ -0.2 -10. ]\n",
      "[-3.e-03 -1.e+01]\n"
     ]
    }
   ],
   "source": [
    "print(x_list_D[-1])\n",
    "print(y_list_D[-1])"
   ]
  },
  {
   "cell_type": "code",
   "execution_count": 59,
   "metadata": {},
   "outputs": [
    {
     "data": {
      "text/plain": [
       "10001"
      ]
     },
     "execution_count": 59,
     "metadata": {},
     "output_type": "execute_result"
    }
   ],
   "source": [
    "len(x_list_D)\n"
   ]
  },
  {
   "cell_type": "code",
   "execution_count": 60,
   "metadata": {},
   "outputs": [
    {
     "data": {
      "text/plain": [
       "10001"
      ]
     },
     "execution_count": 60,
     "metadata": {},
     "output_type": "execute_result"
    }
   ],
   "source": [
    "len(y_list_D)"
   ]
  },
  {
   "cell_type": "code",
   "execution_count": 61,
   "metadata": {},
   "outputs": [],
   "source": [
    "norm_list_D = []\n",
    "for i in range(len(x_list_D)):\n",
    "    norm_list_D.append(np.linalg.norm(np.array(list(x_list_D[i])+list(y_list_D[i])) - x_star))\n",
    "    "
   ]
  },
  {
   "cell_type": "code",
   "execution_count": 62,
   "metadata": {},
   "outputs": [],
   "source": [
    "norm_list_D_new = []\n",
    "for i in range(len(x_list_D)):\n",
    "    for k in range(K_sub+1):\n",
    "        norm_list_D_new.append(np.linalg.norm(np.array(list(x_list_D[i])+list(y_list_D[i])) - x_star))\n",
    "    "
   ]
  },
  {
   "cell_type": "code",
   "execution_count": 63,
   "metadata": {},
   "outputs": [
    {
     "data": {
      "text/plain": [
       "210021"
      ]
     },
     "execution_count": 63,
     "metadata": {},
     "output_type": "execute_result"
    }
   ],
   "source": [
    "len(norm_list_D_new)"
   ]
  },
  {
   "cell_type": "code",
   "execution_count": 64,
   "metadata": {},
   "outputs": [
    {
     "data": {
      "text/plain": [
       "array([-2.e-01, -1.e+01, -3.e-03, -1.e+01])"
      ]
     },
     "execution_count": 64,
     "metadata": {},
     "output_type": "execute_result"
    }
   ],
   "source": [
    "np.array(list(x_list_D[-1])+list(y_list_D[-1])) "
   ]
  },
  {
   "cell_type": "code",
   "execution_count": null,
   "metadata": {},
   "outputs": [],
   "source": []
  },
  {
   "cell_type": "code",
   "execution_count": 65,
   "metadata": {
    "scrolled": true
   },
   "outputs": [
    {
     "data": {
      "text/plain": [
       "(-100.0, 50000.0)"
      ]
     },
     "execution_count": 65,
     "metadata": {},
     "output_type": "execute_result"
    },
    {
     "data": {
      "image/png": "[encoded data removed]",
      "text/plain": [
       "<Figure size 432x288 with 1 Axes>"
      ]
     },
     "metadata": {
      "needs_background": "light"
     },
     "output_type": "display_data"
    }
   ],
   "source": [
    "plt.plot(norm_list_D, label='BAM')\n",
    "# plt.plot(norm_list_nes, label = 'NAG')\n",
    "plt.legend()\n",
    "plt.grid()\n",
    "plt.ylabel('$\\|(x^k,y^k) - (x^*,y^*)\\|^2$')\n",
    "plt.xlabel('iterations')\n",
    "plt.yscale('log')\n",
    "plt.xlim(-100,50000)\n",
    "# plt.savefig('first_plot.pdf')"
   ]
  },
  {
   "cell_type": "code",
   "execution_count": 1283,
   "metadata": {
    "scrolled": true
   },
   "outputs": [
    {
     "data": {
      "text/plain": [
       "(1e-06, 50)"
      ]
     },
     "execution_count": 1283,
     "metadata": {},
     "output_type": "execute_result"
    },
    {
     "data": {
      "image/png": "[encoded data removed]",
      "text/plain": [
       "<Figure size 432x288 with 1 Axes>"
      ]
     },
     "metadata": {
      "needs_background": "light"
     },
     "output_type": "display_data"
    }
   ],
   "source": [
    "# plt.plot(norm_list_D_new, label='BAM_y')\n",
    "plt.plot(norm_list_D, label='BAM_x')\n",
    "plt.plot(norm_list_nes, label = 'NAG')\n",
    "\n",
    "# plt.plot(norm_list_ACRCD, label = 'ACRCD')\n",
    "plt.plot(norm_list_stich_grad_x, label = 'ACDM_x',marker = '+', markevery = 100)\n",
    "\n",
    "\n",
    "plt.plot(list_norm_coup_grad_x, label = 'coup_x')\n",
    "\n",
    "plt.legend()\n",
    "plt.grid()\n",
    "plt.ylabel('$\\|(x^k,y^k) - (x^*,y^*)\\|^2$')\n",
    "plt.xlabel('number of gradient calls')\n",
    "plt.yscale('log')\n",
    "plt.xlim(-100,3000)\n",
    "plt.ylim(10**(-6),50)\n",
    "# plt.savefig('prelim_plot.pdf')"
   ]
  },
  {
   "cell_type": "code",
   "execution_count": 1287,
   "metadata": {},
   "outputs": [
    {
     "data": {
      "text/plain": [
       "(1e-06, 50)"
      ]
     },
     "execution_count": 1287,
     "metadata": {},
     "output_type": "execute_result"
    },
    {
     "data": {
      "image/png": "[encoded data removed]",
      "text/plain": [
       "<Figure size 432x288 with 1 Axes>"
      ]
     },
     "metadata": {
      "needs_background": "light"
     },
     "output_type": "display_data"
    }
   ],
   "source": [
    "plt.plot(norm_list_D_new, label='BAM_y')\n",
    "plt.plot(norm_list_nes, label = 'NAG')\n",
    "plt.plot(norm_list_stich_grad_y, label = 'ACDM_y',marker = 'd',markevery = 400)\n",
    "plt.plot(list_norm_coup_grad_y, label = 'coup_y')\n",
    "plt.legend()\n",
    "plt.grid()\n",
    "plt.ylabel('$\\|(x^k,y^k) - (x^*,y^*)\\|^2$')\n",
    "plt.xlabel('number of gradient calls')\n",
    "plt.yscale('log')\n",
    "plt.xlim(-100,6000)\n",
    "plt.ylim(10**(-6),50)"
   ]
  },
  {
   "cell_type": "code",
   "execution_count": null,
   "metadata": {},
   "outputs": [],
   "source": []
  },
  {
   "cell_type": "code",
   "execution_count": 1174,
   "metadata": {},
   "outputs": [
    {
     "data": {
      "text/plain": [
       "2.512147937263093e-14"
      ]
     },
     "execution_count": 1174,
     "metadata": {},
     "output_type": "execute_result"
    }
   ],
   "source": [
    "norm_list_D[-1]"
   ]
  },
  {
   "cell_type": "code",
   "execution_count": 1175,
   "metadata": {},
   "outputs": [],
   "source": [
    "x_0_nes = np.array(list(x_0)+list(y_0)) "
   ]
  },
  {
   "cell_type": "code",
   "execution_count": 1176,
   "metadata": {},
   "outputs": [
    {
     "data": {
      "text/plain": [
       "array([1, 2, 2, 3])"
      ]
     },
     "execution_count": 1176,
     "metadata": {},
     "output_type": "execute_result"
    }
   ],
   "source": [
    "x_0_nes"
   ]
  },
  {
   "cell_type": "code",
   "execution_count": 1177,
   "metadata": {},
   "outputs": [
    {
     "data": {
      "text/plain": [
       "array([1, 2])"
      ]
     },
     "execution_count": 1177,
     "metadata": {},
     "output_type": "execute_result"
    }
   ],
   "source": [
    "x_0"
   ]
  },
  {
   "cell_type": "code",
   "execution_count": 1178,
   "metadata": {},
   "outputs": [
    {
     "data": {
      "text/plain": [
       "array([2, 3])"
      ]
     },
     "execution_count": 1178,
     "metadata": {},
     "output_type": "execute_result"
    }
   ],
   "source": [
    "y_0"
   ]
  },
  {
   "cell_type": "code",
   "execution_count": 1179,
   "metadata": {},
   "outputs": [],
   "source": [
    "x_list_nes, y_list_nes = nesterov(x_0_nes, grad_quad_4, L,1, 100000)"
   ]
  },
  {
   "cell_type": "code",
   "execution_count": 1180,
   "metadata": {},
   "outputs": [
    {
     "data": {
      "text/plain": [
       "array([-2.e-01, -1.e+01, -3.e-03, -1.e+01])"
      ]
     },
     "execution_count": 1180,
     "metadata": {},
     "output_type": "execute_result"
    }
   ],
   "source": [
    "x_list_nes[-1]"
   ]
  },
  {
   "cell_type": "code",
   "execution_count": 1181,
   "metadata": {},
   "outputs": [
    {
     "data": {
      "text/plain": [
       "array([-2.e-01, -1.e+01, -3.e-03, -1.e+01])"
      ]
     },
     "execution_count": 1181,
     "metadata": {},
     "output_type": "execute_result"
    }
   ],
   "source": [
    "x_star"
   ]
  },
  {
   "cell_type": "code",
   "execution_count": 1182,
   "metadata": {},
   "outputs": [],
   "source": [
    "norm_list_nes = []\n",
    "for i in range(len(x_list_nes)):\n",
    "    norm_list_nes.append(np.linalg.norm(x_list_nes[i] - x_star))"
   ]
  },
  {
   "cell_type": "code",
   "execution_count": 1183,
   "metadata": {},
   "outputs": [
    {
     "data": {
      "text/plain": [
       "array([1, 2, 2, 3])"
      ]
     },
     "execution_count": 1183,
     "metadata": {},
     "output_type": "execute_result"
    }
   ],
   "source": [
    "x_0_nes"
   ]
  },
  {
   "cell_type": "code",
   "execution_count": 1184,
   "metadata": {},
   "outputs": [
    {
     "data": {
      "text/plain": [
       "array([[1.e+01, 0.e+00, 0.e+00, 0.e+00],\n",
       "       [0.e+00, 1.e-01, 0.e+00, 0.e+00],\n",
       "       [0.e+00, 0.e+00, 1.e+03, 0.e+00],\n",
       "       [0.e+00, 0.e+00, 0.e+00, 1.e-01]])"
      ]
     },
     "execution_count": 1184,
     "metadata": {},
     "output_type": "execute_result"
    }
   ],
   "source": [
    "A"
   ]
  },
  {
   "cell_type": "code",
   "execution_count": 820,
   "metadata": {},
   "outputs": [
    {
     "data": {
      "text/plain": [
       "array([1.002e+03, 3.000e+00, 2.003e+03, 1.030e+00])"
      ]
     },
     "execution_count": 820,
     "metadata": {},
     "output_type": "execute_result"
    }
   ],
   "source": [
    "grad_quad_4(x_0_nes)"
   ]
  },
  {
   "cell_type": "code",
   "execution_count": 1185,
   "metadata": {},
   "outputs": [
    {
     "data": {
      "text/plain": [
       "1.256073974309895e-11"
      ]
     },
     "execution_count": 1185,
     "metadata": {},
     "output_type": "execute_result"
    }
   ],
   "source": [
    "norm_list_nes[-1]"
   ]
  },
  {
   "cell_type": "code",
   "execution_count": 1186,
   "metadata": {},
   "outputs": [
    {
     "data": {
      "text/plain": [
       "1.256073974309895e-11"
      ]
     },
     "execution_count": 1186,
     "metadata": {},
     "output_type": "execute_result"
    }
   ],
   "source": [
    "np.linalg.norm(x_list_nes[-1] - x_star)"
   ]
  },
  {
   "cell_type": "code",
   "execution_count": 50,
   "metadata": {},
   "outputs": [],
   "source": [
    "def ACRCD(alpha, tau, theta, x_0, y_0, d, K):\n",
    "    x_list = [x_0]\n",
    "    y_list = [y_0]\n",
    "    \n",
    "    x_cur = x_0\n",
    "    y_cur = y_0\n",
    "    \n",
    "    z_cur_x = x_0\n",
    "    z_cur_y = y_0\n",
    "    \n",
    "    q_cur_x = x_0\n",
    "    q_cur_y = y_0\n",
    "    \n",
    "    \n",
    "    \n",
    "    for i in range(K):\n",
    "        \n",
    "        x_upd = tau*z_cur_x+(1-tau)*q_cur_x\n",
    "        y_upd = tau*z_cur_y+(1-tau)*q_cur_y\n",
    "        \n",
    "        index_p = np.random.choice([0,1],p=[0.5,0.5])\n",
    "        if index_p == 0:\n",
    "            q_upd_x = x_upd - (1/L_x)*grad_x(x_upd, y_upd)\n",
    "            q_upd_y = q_cur_y\n",
    "        \n",
    "        if index_p == 1:\n",
    "            q_upd_y = y_upd - (1/L_y)*grad_y(x_upd, y_upd)\n",
    "            q_upd_x = q_cur_x\n",
    "        \n",
    "        if index_p == 0:\n",
    "            z_upd_x = z_cur_x - (1/L_x)*alpha*n*grad_x(x_upd,y_upd)\n",
    "            z_upd_y = z_cur_y\n",
    "        \n",
    "        if index_p == 1:\n",
    "            z_upd_y = z_cur_y - (1/L_y)*alpha*n*grad_y(x_upd,y_upd)\n",
    "            z_upd_x = z_cur_x\n",
    "            \n",
    "        \n",
    "        \n",
    "        x_list.append(x_upd)\n",
    "        y_list.append(y_upd)\n",
    "        \n",
    "        x_cur = x_upd\n",
    "        y_cur = y_upd\n",
    "        \n",
    "        z_cur_x = z_upd_x\n",
    "        z_cur_y = z_upd_y\n",
    "        \n",
    "        q_cur_x = q_upd_x\n",
    "        q_cur_y = q_upd_y\n",
    "        \n",
    "        \n",
    "    return x_list, y_list\n",
    "        \n",
    "    \n",
    "    \n",
    "    \n",
    "    "
   ]
  },
  {
   "cell_type": "code",
   "execution_count": 873,
   "metadata": {},
   "outputs": [],
   "source": [
    "n=4"
   ]
  },
  {
   "cell_type": "code",
   "execution_count": 874,
   "metadata": {},
   "outputs": [],
   "source": [
    "\n",
    "theta = np.linalg.norm(x_init - x_star)\n",
    "alpha = (1/n)*np.sqrt(theta/d)"
   ]
  },
  {
   "cell_type": "code",
   "execution_count": 875,
   "metadata": {},
   "outputs": [],
   "source": [
    "x_init = np.array(list(x_0)+list(y_0))\n",
    "d = 1/2*(x_init.T@A@x_init+b.T@x_init)"
   ]
  },
  {
   "cell_type": "code",
   "execution_count": 876,
   "metadata": {},
   "outputs": [],
   "source": [
    "tau = 1/(alpha*n*n+1)\n"
   ]
  },
  {
   "cell_type": "code",
   "execution_count": null,
   "metadata": {},
   "outputs": [],
   "source": []
  },
  {
   "cell_type": "code",
   "execution_count": 909,
   "metadata": {},
   "outputs": [],
   "source": [
    "x_list_ACRCD, y_list_ACRCD = ACRCD(alpha, tau, theta, x_0, y_0, d, 1000*K)"
   ]
  },
  {
   "cell_type": "code",
   "execution_count": 910,
   "metadata": {},
   "outputs": [
    {
     "data": {
      "text/plain": [
       "array([-0.002, -1.   ])"
      ]
     },
     "execution_count": 910,
     "metadata": {},
     "output_type": "execute_result"
    }
   ],
   "source": [
    "x_list_ACRCD[-1]"
   ]
  },
  {
   "cell_type": "code",
   "execution_count": 911,
   "metadata": {},
   "outputs": [
    {
     "data": {
      "text/plain": [
       "array([-3.00000000e-03, -9.99959023e+01])"
      ]
     },
     "execution_count": 911,
     "metadata": {},
     "output_type": "execute_result"
    }
   ],
   "source": [
    "y_list_ACRCD[-1]"
   ]
  },
  {
   "cell_type": "code",
   "execution_count": 912,
   "metadata": {},
   "outputs": [
    {
     "data": {
      "text/plain": [
       "array([-2.e-03, -1.e+00, -3.e-03, -1.e+02])"
      ]
     },
     "execution_count": 912,
     "metadata": {},
     "output_type": "execute_result"
    }
   ],
   "source": [
    "x_star"
   ]
  },
  {
   "cell_type": "code",
   "execution_count": 913,
   "metadata": {},
   "outputs": [
    {
     "data": {
      "text/plain": [
       "0.004097736318357192"
      ]
     },
     "execution_count": 913,
     "metadata": {},
     "output_type": "execute_result"
    }
   ],
   "source": [
    "np.linalg.norm(np.array(list(x_list_ACRCD[-1])+list(y_list_ACRCD[-1])) - x_star)"
   ]
  },
  {
   "cell_type": "code",
   "execution_count": 915,
   "metadata": {},
   "outputs": [],
   "source": [
    "norm_list_ACRCD = []\n",
    "for i in range(len(x_list_ACRCD)):\n",
    "    norm_list_ACRCD.append(np.linalg.norm(np.array(list(x_list_ACRCD[i])+list(y_list_ACRCD[i])) - x_star))"
   ]
  },
  {
   "cell_type": "code",
   "execution_count": null,
   "metadata": {},
   "outputs": [],
   "source": []
  },
  {
   "cell_type": "code",
   "execution_count": 863,
   "metadata": {},
   "outputs": [
    {
     "data": {
      "text/plain": [
       "2508.545"
      ]
     },
     "execution_count": 863,
     "metadata": {},
     "output_type": "execute_result"
    }
   ],
   "source": [
    "1/2*(x_init.T@A@x_init+b.T@x_init)"
   ]
  },
  {
   "cell_type": "code",
   "execution_count": 859,
   "metadata": {},
   "outputs": [
    {
     "data": {
      "text/plain": [
       "13"
      ]
     },
     "execution_count": 859,
     "metadata": {},
     "output_type": "execute_result"
    }
   ],
   "source": [
    "b.T@x_init"
   ]
  },
  {
   "cell_type": "code",
   "execution_count": 853,
   "metadata": {},
   "outputs": [
    {
     "data": {
      "text/plain": [
       "103.06801644060101"
      ]
     },
     "execution_count": 853,
     "metadata": {},
     "output_type": "execute_result"
    }
   ],
   "source": [
    "theta"
   ]
  },
  {
   "cell_type": "code",
   "execution_count": null,
   "metadata": {},
   "outputs": [],
   "source": []
  },
  {
   "cell_type": "code",
   "execution_count": 848,
   "metadata": {},
   "outputs": [
    {
     "data": {
      "text/plain": [
       "0"
      ]
     },
     "execution_count": 848,
     "metadata": {},
     "output_type": "execute_result"
    }
   ],
   "source": [
    "np.random.choice([0,1],p=[0.5,0.5])"
   ]
  },
  {
   "cell_type": "code",
   "execution_count": 894,
   "metadata": {},
   "outputs": [],
   "source": [
    "def ACDM(x_0, K, L_x, L_y, beta, grad_x, grad_y, mu):\n",
    "    v_0 = x_0\n",
    "    A_0 = 0\n",
    "    B_0 = 1\n",
    "    beta = 1./2\n",
    "    \n",
    "    B_cur = B_0\n",
    "    A_cur = A_0\n",
    "    \n",
    "    p_x = np.sqrt(L_x)/(np.sqrt(L_x)+np.sqrt(L_y))\n",
    "    p_y = np.sqrt(L_y)/(np.sqrt(L_x)+np.sqrt(L_y))\n",
    "    S_b = (np.sqrt(L_x)+np.sqrt(L_y))\n",
    "    \n",
    "    x_cur = x_0\n",
    "    v_cur = v_0\n",
    "    x_list=[x_0]\n",
    "    x_list_grad_x = [x_0]\n",
    "    x_list_grad_y = [x_0]\n",
    "    my_roots_list = []\n",
    "    \n",
    "    for i in range(K):\n",
    "        coor_index = np.random.choice([0,1], p = [p_x,p_y])\n",
    "        \n",
    "        my_roots = np.roots([mu - S_b*S_b, B_cur+A_cur*mu, A_cur*B_cur])\n",
    "        my_roots_list.append(my_roots)\n",
    "        a_upd = max(my_roots)\n",
    "        \n",
    "        A_upd = A_cur + a_upd\n",
    "        B_upd = B_cur + mu*a_upd\n",
    "        \n",
    "        alpha_cur = a_upd/A_upd\n",
    "        beta_cur = mu*a_upd/B_upd\n",
    "        \n",
    "        y_cur = ((1-alpha_cur)*x_cur + alpha_cur*(1-beta_cur)*v_cur)/(1-alpha_cur*beta_cur)\n",
    "        \n",
    "        if coor_index == 0:\n",
    "            \n",
    "            x_upd = y_cur - (1/L_x)*grad_x(y_cur)\n",
    "            v_upd = (1-beta_cur)*v_cur+beta_cur*y_cur-(a_upd/(B_upd*p_x))*grad_x(y_cur)\n",
    "            x_list_grad_x.append(x_upd)\n",
    "            \n",
    "        if coor_index == 1:\n",
    "            \n",
    "            x_upd = y_cur - (1/L_y)*grad_y(y_cur)\n",
    "            v_upd = (1-beta_cur)*v_cur+beta_cur*y_cur-(a_upd/(B_upd*p_y))*grad_y(y_cur)\n",
    "            x_list_grad_y.append(x_upd)\n",
    "            \n",
    "        x_list.append(x_upd)\n",
    "        \n",
    "        x_cur = x_upd\n",
    "        v_cur = v_upd\n",
    "        A_cur = A_upd\n",
    "        B_cur = B_upd\n",
    "        \n",
    "    return x_list, my_roots_list, x_list_grad_x, x_list_grad_y\n",
    "            \n",
    "        \n",
    "    "
   ]
  },
  {
   "cell_type": "code",
   "execution_count": 1256,
   "metadata": {},
   "outputs": [
    {
     "data": {
      "text/plain": [
       "array([-1. , -0.5])"
      ]
     },
     "execution_count": 1256,
     "metadata": {},
     "output_type": "execute_result"
    }
   ],
   "source": [
    "np.roots([2,3,1])"
   ]
  },
  {
   "cell_type": "code",
   "execution_count": 1257,
   "metadata": {},
   "outputs": [],
   "source": [
    "def grad_y_full(x):\n",
    "    vec = x\n",
    "    res = A@vec+b\n",
    "    true_res = res\n",
    "    true_res[0:1] = 0\n",
    "    return true_res"
   ]
  },
  {
   "cell_type": "code",
   "execution_count": 1258,
   "metadata": {},
   "outputs": [],
   "source": [
    "def grad_x_full(x):\n",
    "    vec = x\n",
    "    res = A@vec+b\n",
    "    true_res = res\n",
    "    true_res[2:4] = 0\n",
    "    return true_res"
   ]
  },
  {
   "cell_type": "code",
   "execution_count": 1620,
   "metadata": {},
   "outputs": [],
   "source": [
    "x_0 = np.array([1,2])\n",
    "y_0 = np.array([2,3])\n",
    "L = 1000\n",
    "L_x = 100\n",
    "L_y = 1000\n",
    "mu_x = 0.1\n",
    "mu_y = 0.1\n",
    "eta_x = 1/np.sqrt(mu_x*L_x)\n",
    "eta_y = (1/mu_y)*(np.sqrt(mu_x/L_x))\n",
    "alpha = np.sqrt(mu_x/L_x)\n",
    "C = 1.\n",
    "K_sub = int(np.sqrt(2*C)*max(1., np.sqrt(eta_y*alpha*L_y)))\n",
    "K=10000\n",
    "\n"
   ]
  },
  {
   "cell_type": "code",
   "execution_count": 1621,
   "metadata": {},
   "outputs": [],
   "source": [
    "x_init = np.array([1,2,2,3])"
   ]
  },
  {
   "cell_type": "code",
   "execution_count": 1261,
   "metadata": {},
   "outputs": [],
   "source": [
    "x_list_stich, roots_stich, x_list_grad_x_stich, x_list_grad_y_stich = ACDM(x_init, 12000, L_x, L_y, 0.5, grad_x_full, grad_y_full)"
   ]
  },
  {
   "cell_type": "code",
   "execution_count": 1262,
   "metadata": {},
   "outputs": [
    {
     "data": {
      "text/plain": [
       "array([-2.00000000e-01, -1.00000000e+01, -3.00000000e-03, -9.99999984e+00])"
      ]
     },
     "execution_count": 1262,
     "metadata": {},
     "output_type": "execute_result"
    }
   ],
   "source": [
    "x_list_stich[-1]"
   ]
  },
  {
   "cell_type": "code",
   "execution_count": 1263,
   "metadata": {},
   "outputs": [
    {
     "data": {
      "text/plain": [
       "array([-2.e-01, -1.e+01, -3.e-03, -1.e+01])"
      ]
     },
     "execution_count": 1263,
     "metadata": {},
     "output_type": "execute_result"
    }
   ],
   "source": [
    "x_star"
   ]
  },
  {
   "cell_type": "code",
   "execution_count": 1264,
   "metadata": {},
   "outputs": [
    {
     "data": {
      "text/plain": [
       "12000"
      ]
     },
     "execution_count": 1264,
     "metadata": {},
     "output_type": "execute_result"
    }
   ],
   "source": [
    "len(roots_stich)"
   ]
  },
  {
   "cell_type": "code",
   "execution_count": 1265,
   "metadata": {},
   "outputs": [],
   "source": [
    "norm_list_stich = []\n",
    "for i in range(len(x_list_stich)):\n",
    "    norm_list_stich.append(np.linalg.norm(x_list_stich[i] - x_star))"
   ]
  },
  {
   "cell_type": "code",
   "execution_count": 1266,
   "metadata": {},
   "outputs": [
    {
     "data": {
      "text/plain": [
       "1.5564696198566708e-07"
      ]
     },
     "execution_count": 1266,
     "metadata": {},
     "output_type": "execute_result"
    }
   ],
   "source": [
    "norm_list_stich[-1]"
   ]
  },
  {
   "cell_type": "code",
   "execution_count": 1268,
   "metadata": {},
   "outputs": [],
   "source": [
    "norm_list_stich_grad_x = []\n",
    "for i in range(len(x_list_grad_x_stich)):\n",
    "    norm_list_stich_grad_x.append(np.linalg.norm(x_list_grad_x_stich[i] - x_star))"
   ]
  },
  {
   "cell_type": "code",
   "execution_count": 1269,
   "metadata": {},
   "outputs": [],
   "source": [
    "norm_list_stich_grad_y = []\n",
    "for i in range(len(x_list_grad_y_stich)):\n",
    "    norm_list_stich_grad_y.append(np.linalg.norm(x_list_grad_y_stich[i] - x_star))"
   ]
  },
  {
   "cell_type": "code",
   "execution_count": 1267,
   "metadata": {},
   "outputs": [
    {
     "data": {
      "text/plain": [
       "10944"
      ]
     },
     "execution_count": 1267,
     "metadata": {},
     "output_type": "execute_result"
    }
   ],
   "source": [
    "len(x_list_grad_y_stich)"
   ]
  },
  {
   "cell_type": "code",
   "execution_count": 1212,
   "metadata": {},
   "outputs": [
    {
     "data": {
      "text/plain": [
       "(-0.4999999999999999+0.49999999999999994j)"
      ]
     },
     "execution_count": 1212,
     "metadata": {},
     "output_type": "execute_result"
    }
   ],
   "source": [
    "max(np.roots([2,2,1]))"
   ]
  },
  {
   "cell_type": "code",
   "execution_count": 1213,
   "metadata": {},
   "outputs": [
    {
     "data": {
      "text/plain": [
       "array([-2.00000000e-01, -1.00000000e+01, -3.00000000e-03, -9.99999983e+00])"
      ]
     },
     "execution_count": 1213,
     "metadata": {},
     "output_type": "execute_result"
    }
   ],
   "source": [
    "x_list_stich[-1]"
   ]
  },
  {
   "cell_type": "code",
   "execution_count": 1214,
   "metadata": {},
   "outputs": [
    {
     "data": {
      "text/plain": [
       "array([-2.e-01, -1.e+01, -3.e-03, -1.e+01])"
      ]
     },
     "execution_count": 1214,
     "metadata": {},
     "output_type": "execute_result"
    }
   ],
   "source": [
    "x_star"
   ]
  },
  {
   "cell_type": "code",
   "execution_count": 1215,
   "metadata": {},
   "outputs": [
    {
     "data": {
      "text/plain": [
       "array([[1.e+01, 0.e+00, 0.e+00, 0.e+00],\n",
       "       [0.e+00, 1.e-01, 0.e+00, 0.e+00],\n",
       "       [0.e+00, 0.e+00, 1.e+03, 0.e+00],\n",
       "       [0.e+00, 0.e+00, 0.e+00, 1.e-01]])"
      ]
     },
     "execution_count": 1215,
     "metadata": {},
     "output_type": "execute_result"
    }
   ],
   "source": [
    "A"
   ]
  },
  {
   "cell_type": "code",
   "execution_count": 52,
   "metadata": {},
   "outputs": [],
   "source": [
    "def linear_coupling(x_0, grad_x, grad_y, L_x, L_y, mu, K):\n",
    "\n",
    "    S_alpha = np.sqrt(L_x)+np.sqrt(L_y)\n",
    "    p_x = np.sqrt(L_x)/S_alpha\n",
    "    p_y = np.sqrt(L_y)/S_alpha\n",
    "    tau = 2/(1+np.sqrt((4*S_alpha*S_alpha/mu)+1))\n",
    "    eta = 1/(tau*S_alpha*S_alpha)\n",
    "    y_0 = x_0\n",
    "    z_0 = x_0\n",
    "    list_y = [y_0]\n",
    "    y_list_grad_x = [y_0]\n",
    "    y_list_grad_y = [y_0]\n",
    "    x_cur = x_0\n",
    "    y_cur = y_0\n",
    "    z_cur = z_0\n",
    "    \n",
    "    for i in range(K):\n",
    "        x_upd = tau*z_cur + (1-tau)*y_cur\n",
    "        index_coor = np.random.choice([0,1],p = [p_x, p_y])\n",
    "        \n",
    "        if index_coor == 0:\n",
    "            \n",
    "            y_upd = x_upd - (1/L_x)*grad_x(x_upd)\n",
    "            z_upd = (1/(1 + eta * mu))*(z_cur + eta*mu*x_upd - (eta/p_x)*grad_x(x_upd))\n",
    "            \n",
    "            \n",
    "            y_list_grad_x.append(y_upd)\n",
    "            \n",
    "        if index_coor == 1:\n",
    "            \n",
    "            y_upd = x_upd - (1/L_y)*grad_y(x_upd)\n",
    "            z_upd = (1/(1 + eta * mu))*(z_cur + eta*mu*x_upd - (eta/p_y)*grad_y(x_upd))\n",
    "            \n",
    "            \n",
    "            y_list_grad_y.append(y_upd)\n",
    "            \n",
    "        list_y.append(y_upd)\n",
    "        \n",
    "        x_cur = x_upd\n",
    "        y_cur = y_upd\n",
    "        z_cur = z_upd\n",
    "        \n",
    "        \n",
    "    return list_y, y_list_grad_x, y_list_grad_y\n",
    "            \n",
    "            \n",
    "            \n",
    "            \n",
    "            "
   ]
  },
  {
   "cell_type": "code",
   "execution_count": 1227,
   "metadata": {},
   "outputs": [
    {
     "data": {
      "text/plain": [
       "10"
      ]
     },
     "execution_count": 1227,
     "metadata": {},
     "output_type": "execute_result"
    }
   ],
   "source": [
    "L_x"
   ]
  },
  {
   "cell_type": "code",
   "execution_count": 1228,
   "metadata": {},
   "outputs": [
    {
     "data": {
      "text/plain": [
       "1000"
      ]
     },
     "execution_count": 1228,
     "metadata": {},
     "output_type": "execute_result"
    }
   ],
   "source": [
    "L_y"
   ]
  },
  {
   "cell_type": "code",
   "execution_count": 1247,
   "metadata": {},
   "outputs": [],
   "source": [
    "list_y_coupling, y_list_grad_x_coup, y_list_grad_y_coup = linear_coupling(x_init, grad_x_full, grad_y_full, L_x, L_y, 100000)"
   ]
  },
  {
   "cell_type": "code",
   "execution_count": 1248,
   "metadata": {},
   "outputs": [
    {
     "data": {
      "text/plain": [
       "array([-2.e-01, -1.e+01, -3.e-03, -1.e+01])"
      ]
     },
     "execution_count": 1248,
     "metadata": {},
     "output_type": "execute_result"
    }
   ],
   "source": [
    "list_y_coupling[-1]"
   ]
  },
  {
   "cell_type": "code",
   "execution_count": 1249,
   "metadata": {},
   "outputs": [
    {
     "data": {
      "text/plain": [
       "array([-2.e-01, -1.e+01, -3.e-03, -1.e+01])"
      ]
     },
     "execution_count": 1249,
     "metadata": {},
     "output_type": "execute_result"
    }
   ],
   "source": [
    "x_star"
   ]
  },
  {
   "cell_type": "code",
   "execution_count": 1250,
   "metadata": {},
   "outputs": [],
   "source": [
    "list_norm_coup = []\n",
    "for i in range(len(list_y_coupling)):\n",
    "    list_norm_coup.append(np.linalg.norm(list_y_coupling[i] - x_star))"
   ]
  },
  {
   "cell_type": "code",
   "execution_count": 1251,
   "metadata": {},
   "outputs": [
    {
     "data": {
      "text/plain": [
       "1.3420843221172923e-12"
      ]
     },
     "execution_count": 1251,
     "metadata": {},
     "output_type": "execute_result"
    }
   ],
   "source": [
    "list_norm_coup[-1]"
   ]
  },
  {
   "cell_type": "code",
   "execution_count": 1252,
   "metadata": {},
   "outputs": [],
   "source": [
    "list_norm_coup_grad_x = []\n",
    "for i in range(len(y_list_grad_x_coup)):\n",
    "    list_norm_coup_grad_x.append(np.linalg.norm(y_list_grad_x_coup[i] - x_star))"
   ]
  },
  {
   "cell_type": "code",
   "execution_count": 1253,
   "metadata": {},
   "outputs": [],
   "source": [
    "list_norm_coup_grad_y = []\n",
    "for i in range(len(y_list_grad_y_coup)):\n",
    "    list_norm_coup_grad_y.append(np.linalg.norm(y_list_grad_y_coup[i] - x_star))"
   ]
  },
  {
   "cell_type": "code",
   "execution_count": 1237,
   "metadata": {},
   "outputs": [
    {
     "data": {
      "text/plain": [
       "9036"
      ]
     },
     "execution_count": 1237,
     "metadata": {},
     "output_type": "execute_result"
    }
   ],
   "source": [
    "len(list_norm_coup_grad_x)"
   ]
  },
  {
   "cell_type": "code",
   "execution_count": 1238,
   "metadata": {},
   "outputs": [
    {
     "data": {
      "text/plain": [
       "90966"
      ]
     },
     "execution_count": 1238,
     "metadata": {},
     "output_type": "execute_result"
    }
   ],
   "source": [
    "len(list_norm_coup_grad_y)"
   ]
  },
  {
   "cell_type": "code",
   "execution_count": 1243,
   "metadata": {},
   "outputs": [
    {
     "data": {
      "text/plain": [
       "90966"
      ]
     },
     "execution_count": 1243,
     "metadata": {},
     "output_type": "execute_result"
    }
   ],
   "source": [
    "len(list_norm_coup_grad_y)"
   ]
  },
  {
   "cell_type": "code",
   "execution_count": 1240,
   "metadata": {},
   "outputs": [
    {
     "data": {
      "text/plain": [
       "9036"
      ]
     },
     "execution_count": 1240,
     "metadata": {},
     "output_type": "execute_result"
    }
   ],
   "source": [
    "len(y_list_grad_x_coup)"
   ]
  },
  {
   "cell_type": "code",
   "execution_count": 1242,
   "metadata": {},
   "outputs": [
    {
     "data": {
      "text/plain": [
       "[array([1, 2, 2, 3]),\n",
       " array([-0.2       ,  1.82072126, -0.003     ,  2.93513269]),\n",
       " array([-0.2       ,  1.63962181, -0.003     ,  2.89473357]),\n",
       " array([-0.2       ,  1.45780485, -0.003     ,  2.86206566]),\n",
       " array([-0.2       ,  1.2366182 , -0.003     ,  2.81513236]),\n",
       " array([-0.2       ,  0.89213891, -0.003     ,  2.70702895]),\n",
       " array([-0.2       ,  0.46990654, -0.003     ,  2.53502947]),\n",
       " array([-0.2       , -0.33251799, -0.003     ,  1.99216571]),\n",
       " array([-0.2       , -0.45184471, -0.003     ,  1.9752161 ]),\n",
       " array([-0.2       , -0.75288418, -0.003     ,  1.83571842]),\n",
       " array([-0.2       , -0.97769459, -0.003     ,  1.75080512]),\n",
       " array([-0.2       , -1.20593069, -0.003     ,  1.66799286]),\n",
       " array([-0.2       , -1.62672021, -0.003     ,  1.44940931]),\n",
       " array([-0.2       , -1.96114004, -0.003     ,  1.26325073]),\n",
       " array([-0.2       , -2.57199525, -0.003     ,  0.76396232]),\n",
       " array([-0.2       , -2.69959965, -0.003     ,  0.71498468]),\n",
       " array([-0.2       , -2.94500611, -0.003     ,  0.57072116]),\n",
       " array([-2.00000000e-01, -3.07590580e+00, -3.00000000e-03,  5.24904354e-01]),\n",
       " array([-2.00000000e-01, -3.43240449e+00, -3.00000000e-03,  2.92789074e-01]),\n",
       " array([-2.00000000e-01, -3.62317036e+00, -3.00000000e-03,  1.85968917e-01]),\n",
       " array([-2.00000000e-01, -4.13903368e+00, -3.00000000e-03, -2.95606754e-01]),\n",
       " array([-2.00000000e-01, -4.26654503e+00, -3.00000000e-03, -3.70135957e-01]),\n",
       " array([-2.00000000e-01, -4.37049778e+00, -3.00000000e-03, -4.12504783e-01]),\n",
       " array([-2.00000000e-01, -4.59975109e+00, -3.00000000e-03, -5.67427811e-01]),\n",
       " array([-2.00000000e-01, -4.74581912e+00, -3.00000000e-03, -6.50168583e-01]),\n",
       " array([-2.00000000e-01, -4.90675838e+00, -3.00000000e-03, -7.44868355e-01]),\n",
       " array([-2.00000000e-01, -5.26488056e+00, -3.00000000e-03, -1.07805821e+00]),\n",
       " array([-2.00000000e-01, -5.65764461e+00, -3.00000000e-03, -1.57867267e+00]),\n",
       " array([-2.00000000e-01, -5.82918614e+00, -3.00000000e-03, -1.76426335e+00]),\n",
       " array([-2.00000000e-01, -5.88094485e+00, -3.00000000e-03, -1.77611618e+00]),\n",
       " array([-2.00000000e-01, -5.93409566e+00, -3.00000000e-03, -1.78730676e+00]),\n",
       " array([-2.00000000e-01, -6.06509974e+00, -3.00000000e-03, -1.86826009e+00]),\n",
       " array([-2.00000000e-01, -6.38283721e+00, -3.00000000e-03, -2.20783811e+00]),\n",
       " array([-2.00000000e-01, -6.42804631e+00, -3.00000000e-03, -2.21896344e+00]),\n",
       " array([-2.00000000e-01, -6.47444138e+00, -3.00000000e-03, -2.22946718e+00]),\n",
       " array([-2.00000000e-01, -6.56841138e+00, -3.00000000e-03, -2.28317522e+00]),\n",
       " array([-2.00000000e-01, -6.61496049e+00, -3.00000000e-03, -2.29291289e+00]),\n",
       " array([-2.00000000e-01, -6.88326308e+00, -3.00000000e-03, -2.54533641e+00]),\n",
       " array([-2.00000000e-01, -6.97349815e+00, -3.00000000e-03, -2.62295791e+00]),\n",
       " array([-2.00000000e-01, -7.05574262e+00, -3.00000000e-03, -2.68763180e+00]),\n",
       " array([-2.00000000e-01, -7.15414013e+00, -3.00000000e-03, -2.77258569e+00]),\n",
       " array([-2.00000000e-01, -7.20909209e+00, -3.00000000e-03, -2.80313981e+00]),\n",
       " array([-2.00000000e-01, -7.30005904e+00, -3.00000000e-03, -2.87392996e+00]),\n",
       " array([-2.00000000e-01, -7.49269972e+00, -3.00000000e-03, -3.11632451e+00]),\n",
       " array([-2.00000000e-01, -7.61731564e+00, -3.00000000e-03, -3.29626803e+00]),\n",
       " array([-2.00000000e-01, -7.65928496e+00, -3.00000000e-03, -3.32633981e+00]),\n",
       " array([-2.00000000e-01, -7.74020847e+00, -3.00000000e-03, -3.41526400e+00]),\n",
       " array([-2.00000000e-01, -7.78903233e+00, -3.00000000e-03, -3.45335599e+00]),\n",
       " array([-2.00000000e-01, -7.86428906e+00, -3.00000000e-03, -3.52868380e+00]),\n",
       " array([-2.00000000e-01, -7.97868846e+00, -3.00000000e-03, -3.68169588e+00]),\n",
       " array([-2.00000000e-01, -8.02124254e+00, -3.00000000e-03, -3.71883280e+00]),\n",
       " array([-2.00000000e-01, -8.12528890e+00, -3.00000000e-03, -3.86828892e+00]),\n",
       " array([-2.00000000e-01, -8.21298757e+00, -3.00000000e-03, -4.00818884e+00]),\n",
       " array([-2.00000000e-01, -8.27504531e+00, -3.00000000e-03, -4.09934045e+00]),\n",
       " array([-2.00000000e-01, -8.29699328e+00, -3.00000000e-03, -4.10755342e+00]),\n",
       " array([-2.00000000e-01, -8.32494542e+00, -3.00000000e-03, -4.12371996e+00]),\n",
       " array([-2.00000000e-01, -8.36508675e+00, -3.00000000e-03, -4.15553760e+00]),\n",
       " array([-2.00000000e-01, -8.41078387e+00, -3.00000000e-03, -4.19482406e+00]),\n",
       " array([-2.00000000e-01, -8.53565002e+00, -3.00000000e-03, -4.39657554e+00]),\n",
       " array([-2.00000000e-01, -8.58068901e+00, -3.00000000e-03, -4.46404884e+00]),\n",
       " array([-2.00000000e-01, -8.71481756e+00, -3.00000000e-03, -4.80501841e+00]),\n",
       " array([-2.00000000e-01, -8.76069259e+00, -3.00000000e-03, -4.90294682e+00]),\n",
       " array([-2.00000000e-01, -8.77921920e+00, -3.00000000e-03, -4.91808926e+00]),\n",
       " array([-2.00000000e-01, -8.84853167e+00, -3.00000000e-03, -5.06409607e+00]),\n",
       " array([-2.00000000e-01, -8.88806710e+00, -3.00000000e-03, -5.13943442e+00]),\n",
       " array([-2.00000000e-01, -8.96537968e+00, -3.00000000e-03, -5.34189834e+00]),\n",
       " array([-2.00000000e-01, -8.99019058e+00, -3.00000000e-03, -5.38496550e+00]),\n",
       " array([-2.00000000e-01, -9.00839790e+00, -3.00000000e-03, -5.40533672e+00]),\n",
       " array([-2.00000000e-01, -9.03021032e+00, -3.00000000e-03, -5.43159542e+00]),\n",
       " array([-2.00000000e-01, -9.08562503e+00, -3.00000000e-03, -5.54551476e+00]),\n",
       " array([-2.00000000e-01, -9.10733012e+00, -3.00000000e-03, -5.57837198e+00]),\n",
       " array([-2.00000000e-01, -9.19596404e+00, -3.00000000e-03, -5.85529119e+00]),\n",
       " array([-2.00000000e-01, -9.20581918e+00, -3.00000000e-03, -5.86135978e+00]),\n",
       " array([-2.00000000e-01, -9.23780607e+00, -3.00000000e-03, -5.93635427e+00]),\n",
       " array([-2.00000000e-01, -9.27644335e+00, -3.00000000e-03, -6.04178165e+00]),\n",
       " array([-2.00000000e-01, -9.29794569e+00, -3.00000000e-03, -6.08996989e+00]),\n",
       " array([-2.00000000e-01, -9.33516499e+00, -3.00000000e-03, -6.19734708e+00]),\n",
       " array([-2.00000000e-01, -9.34523064e+00, -3.00000000e-03, -6.20853847e+00]),\n",
       " array([-2.00000000e-01, -9.35373514e+00, -3.00000000e-03, -6.21365325e+00]),\n",
       " array([-2.0000000e-01, -9.3947018e+00, -3.0000000e-03, -6.3185678e+00]),\n",
       " array([-2.00000000e-01, -9.41209985e+00, -3.00000000e-03, -6.35695870e+00]),\n",
       " array([-2.00000000e-01, -9.43946139e+00, -3.00000000e-03, -6.43331017e+00]),\n",
       " array([-2.00000000e-01, -9.44969410e+00, -3.00000000e-03, -6.44895655e+00]),\n",
       " array([-2.00000000e-01, -9.46658183e+00, -3.00000000e-03, -6.48488860e+00]),\n",
       " array([-2.00000000e-01, -9.49005696e+00, -3.00000000e-03, -6.54664745e+00]),\n",
       " array([-2.00000000e-01, -9.50387039e+00, -3.00000000e-03, -6.57695300e+00]),\n",
       " array([-2.00000000e-01, -9.51908378e+00, -3.00000000e-03, -6.61163419e+00]),\n",
       " array([-2.00000000e-01, -9.53400035e+00, -3.00000000e-03, -6.64578601e+00]),\n",
       " array([-2.00000000e-01, -9.55467069e+00, -3.00000000e-03, -6.70458198e+00]),\n",
       " array([-2.00000000e-01, -9.57652508e+00, -3.00000000e-03, -6.77864003e+00]),\n",
       " array([-2.00000000e-01, -9.59534439e+00, -3.00000000e-03, -6.84724209e+00]),\n",
       " array([-2.00000000e-01, -9.60261283e+00, -3.00000000e-03, -6.86121534e+00]),\n",
       " array([-2.00000000e-01, -9.61132378e+00, -3.00000000e-03, -6.87921572e+00]),\n",
       " array([-2.00000000e-01, -9.62253508e+00, -3.00000000e-03, -6.90571968e+00]),\n",
       " array([-2.00000000e-01, -9.64768375e+00, -3.00000000e-03, -7.00161274e+00]),\n",
       " array([-2.00000000e-01, -9.65496352e+00, -3.00000000e-03, -7.01941969e+00]),\n",
       " array([-2.00000000e-01, -9.66250259e+00, -3.00000000e-03, -7.03655837e+00]),\n",
       " array([-2.00000000e-01, -9.67020592e+00, -3.00000000e-03, -7.05314900e+00]),\n",
       " array([-2.00000000e-01, -9.67465597e+00, -3.00000000e-03, -7.05690306e+00]),\n",
       " array([-2.00000000e-01, -9.70427165e+00, -3.00000000e-03, -7.18064290e+00]),\n",
       " array([-2.00000000e-01, -9.71448833e+00, -3.00000000e-03, -7.22366246e+00]),\n",
       " array([-2.00000000e-01, -9.72185843e+00, -3.00000000e-03, -7.24856730e+00]),\n",
       " array([-2.00000000e-01, -9.72545589e+00, -3.00000000e-03, -7.25230844e+00]),\n",
       " array([-2.00000000e-01, -9.73809836e+00, -3.00000000e-03, -7.29968029e+00]),\n",
       " array([-2.00000000e-01, -9.74463459e+00, -3.00000000e-03, -7.31909927e+00]),\n",
       " array([-2.00000000e-01, -9.75196972e+00, -3.00000000e-03, -7.34194748e+00]),\n",
       " array([-2.00000000e-01, -9.76624959e+00, -3.00000000e-03, -7.40818421e+00]),\n",
       " array([-2.00000000e-01, -9.77359284e+00, -3.00000000e-03, -7.43911417e+00]),\n",
       " array([-2.00000000e-01, -9.78197279e+00, -3.00000000e-03, -7.47718880e+00]),\n",
       " array([-2.00000000e-01, -9.78478512e+00, -3.00000000e-03, -7.48063567e+00]),\n",
       " array([-2.00000000e-01, -9.79820906e+00, -3.00000000e-03, -7.55093027e+00]),\n",
       " array([-2.00000000e-01, -9.80722580e+00, -3.00000000e-03, -7.60299629e+00]),\n",
       " array([-2.00000000e-01, -9.81352794e+00, -3.00000000e-03, -7.63566347e+00]),\n",
       " array([-2.00000000e-01, -9.81744403e+00, -3.00000000e-03, -7.64956464e+00]),\n",
       " array([-2.00000000e-01, -9.81983288e+00, -3.00000000e-03, -7.65270334e+00]),\n",
       " array([-2.00000000e-01, -9.82582416e+00, -3.00000000e-03, -7.67550690e+00]),\n",
       " array([-2.00000000e-01, -9.82936348e+00, -3.00000000e-03, -7.68496508e+00]),\n",
       " array([-2.00000000e-01, -9.83234491e+00, -3.00000000e-03, -7.69095451e+00]),\n",
       " array([-2.00000000e-01, -9.84248432e+00, -3.00000000e-03, -7.73878721e+00]),\n",
       " array([-2.00000000e-01, -9.85066001e+00, -3.00000000e-03, -7.78870957e+00]),\n",
       " array([-2.00000000e-01, -9.86220717e+00, -3.00000000e-03, -7.89055415e+00]),\n",
       " array([-2.00000000e-01, -9.86424063e+00, -3.00000000e-03, -7.89689265e+00]),\n",
       " array([-2.00000000e-01, -9.86710691e+00, -3.00000000e-03, -7.90921127e+00]),\n",
       " array([-2.00000000e-01, -9.86884921e+00, -3.00000000e-03, -7.91199311e+00]),\n",
       " array([-2.00000000e-01, -9.87793253e+00, -3.00000000e-03, -7.97576797e+00]),\n",
       " array([-2.00000000e-01, -9.88141845e+00, -3.00000000e-03, -7.99694203e+00]),\n",
       " array([-2.00000000e-01, -9.88330012e+00, -3.00000000e-03, -8.00261618e+00]),\n",
       " array([-2.00000000e-01, -9.88767689e+00, -3.00000000e-03, -8.02833498e+00]),\n",
       " array([-2.00000000e-01, -9.89264443e+00, -3.00000000e-03, -8.06292994e+00]),\n",
       " array([-2.00000000e-01, -9.89555989e+00, -3.00000000e-03, -8.07991522e+00]),\n",
       " array([-2.00000000e-01, -9.89725779e+00, -3.00000000e-03, -8.08524249e+00]),\n",
       " array([-2.00000000e-01, -9.90181263e+00, -3.00000000e-03, -8.11517001e+00]),\n",
       " array([-2.00000000e-01, -9.90431345e+00, -3.00000000e-03, -8.12858814e+00]),\n",
       " array([-2.00000000e-01, -9.90961186e+00, -3.00000000e-03, -8.17235864e+00]),\n",
       " array([-2.00000000e-01, -9.91153947e+00, -3.00000000e-03, -8.18303403e+00]),\n",
       " array([-2.00000000e-01, -9.91325560e+00, -3.00000000e-03, -8.19068975e+00]),\n",
       " array([-2.00000000e-01, -9.91683539e+00, -3.00000000e-03, -8.21640086e+00]),\n",
       " array([-2.00000000e-01, -9.91846514e+00, -3.00000000e-03, -8.22386844e+00]),\n",
       " array([-2.00000000e-01, -9.91985466e+00, -3.00000000e-03, -8.22858545e+00]),\n",
       " array([-2.00000000e-01, -9.92267584e+00, -3.00000000e-03, -8.24531303e+00]),\n",
       " array([-2.00000000e-01, -9.92744435e+00, -3.00000000e-03, -8.28800275e+00]),\n",
       " array([-2.00000000e-01, -9.92979785e+00, -3.00000000e-03, -8.30819641e+00]),\n",
       " array([-2.00000000e-01, -9.93172595e+00, -3.00000000e-03, -8.32296689e+00]),\n",
       " array([-2.00000000e-01, -9.93365149e+00, -3.00000000e-03, -8.33740945e+00]),\n",
       " array([-2.00000000e-01, -9.93555904e+00, -3.00000000e-03, -8.35158554e+00]),\n",
       " array([-2.00000000e-01, -9.93798577e+00, -3.00000000e-03, -8.37281394e+00]),\n",
       " array([-2.00000000e-01, -9.94118191e+00, -3.00000000e-03, -8.40878461e+00]),\n",
       " array([-2.00000000e-01, -9.94386000e+00, -3.00000000e-03, -8.44242463e+00]),\n",
       " array([-2.00000000e-01, -9.94621788e+00, -3.00000000e-03, -8.47323923e+00]),\n",
       " array([-2.00000000e-01, -9.94901681e+00, -3.00000000e-03, -8.51542981e+00]),\n",
       " array([-2.00000000e-01, -9.95279316e+00, -3.00000000e-03, -8.58718101e+00]),\n",
       " array([-2.00000000e-01, -9.95400510e+00, -3.00000000e-03, -8.60257136e+00]),\n",
       " array([-2.00000000e-01, -9.95784969e+00, -3.00000000e-03, -8.68077766e+00]),\n",
       " array([-2.00000000e-01, -9.95855754e+00, -3.00000000e-03, -8.68685722e+00]),\n",
       " array([-2.00000000e-01, -9.95919497e+00, -3.00000000e-03, -8.69066691e+00]),\n",
       " array([-2.00000000e-01, -9.95985652e+00, -3.00000000e-03, -8.69429430e+00]),\n",
       " array([-2.00000000e-01, -9.96093227e+00, -3.00000000e-03, -8.70327937e+00]),\n",
       " array([-2.00000000e-01, -9.96173803e+00, -3.00000000e-03, -8.70848480e+00]),\n",
       " array([-2.00000000e-01, -9.96226768e+00, -3.00000000e-03, -8.71005933e+00]),\n",
       " array([-2.00000000e-01, -9.96572495e+00, -3.00000000e-03, -8.75941748e+00]),\n",
       " array([-2.00000000e-01, -9.96644122e+00, -3.00000000e-03, -8.76675143e+00]),\n",
       " array([-2.00000000e-01, -9.96754852e+00, -3.00000000e-03, -8.78116694e+00]),\n",
       " array([-2.00000000e-01, -9.96807349e+00, -3.00000000e-03, -8.78456535e+00]),\n",
       " array([-2.00000000e-01, -9.96872149e+00, -3.00000000e-03, -8.78951661e+00]),\n",
       " array([-2.00000000e-01, -9.97025531e+00, -3.00000000e-03, -8.80986282e+00]),\n",
       " array([-2.00000000e-01, -9.97119352e+00, -3.00000000e-03, -8.82178531e+00]),\n",
       " array([-2.00000000e-01, -9.97380603e+00, -3.00000000e-03, -8.88225106e+00]),\n",
       " array([-2.00000000e-01, -9.97466274e+00, -3.00000000e-03, -8.89961079e+00]),\n",
       " array([-2.00000000e-01, -9.97498121e+00, -3.00000000e-03, -8.90116839e+00]),\n",
       " array([-2.00000000e-01, -9.97545939e+00, -3.00000000e-03, -8.90583363e+00]),\n",
       " array([-2.00000000e-01, -9.97578775e+00, -3.00000000e-03, -8.90724331e+00]),\n",
       " array([-2.00000000e-01, -9.97685629e+00, -3.00000000e-03, -8.92225303e+00]),\n",
       " array([-2.00000000e-01, -9.97842301e+00, -3.00000000e-03, -8.95550063e+00]),\n",
       " array([-2.00000000e-01, -9.97881457e+00, -3.00000000e-03, -8.96010625e+00]),\n",
       " array([-2.00000000e-01, -9.98036286e+00, -3.00000000e-03, -9.00096266e+00]),\n",
       " array([-2.00000000e-01, -9.98070574e+00, -3.00000000e-03, -9.00546841e+00]),\n",
       " array([-2.00000000e-01, -9.98141286e+00, -3.00000000e-03, -9.02029108e+00]),\n",
       " array([-2.00000000e-01, -9.98165210e+00, -3.00000000e-03, -9.02163229e+00]),\n",
       " array([-2.00000000e-01, -9.98319998e+00, -3.00000000e-03, -9.06554125e+00]),\n",
       " array([-2.00000000e-01, -9.98353272e+00, -3.00000000e-03, -9.07121035e+00]),\n",
       " array([-2.00000000e-01, -9.98383636e+00, -3.00000000e-03, -9.07525371e+00]),\n",
       " array([-2.00000000e-01, -9.98419932e+00, -3.00000000e-03, -9.08047685e+00]),\n",
       " array([-2.00000000e-01, -9.98451716e+00, -3.00000000e-03, -9.08424132e+00]),\n",
       " array([-2.00000000e-01, -9.98526878e+00, -3.00000000e-03, -9.09968315e+00]),\n",
       " array([-2.00000000e-01, -9.98609815e+00, -3.00000000e-03, -9.12230691e+00]),\n",
       " array([-2.00000000e-01, -9.98770416e+00, -3.00000000e-03, -9.19547838e+00]),\n",
       " array([-2.00000000e-01, -9.98788092e+00, -3.00000000e-03, -9.19794130e+00]),\n",
       " array([-2.00000000e-01, -9.98832885e+00, -3.00000000e-03, -9.21136546e+00]),\n",
       " array([-2.00000000e-01, -9.98847697e+00, -3.00000000e-03, -9.21246571e+00]),\n",
       " array([-2.00000000e-01, -9.98892597e+00, -3.00000000e-03, -9.22390476e+00]),\n",
       " array([-2.00000000e-01, -9.98926128e+00, -3.00000000e-03, -9.23180497e+00]),\n",
       " array([-2.00000000e-01, -9.99030380e+00, -3.00000000e-03, -9.27739927e+00]),\n",
       " array([-2.00000000e-01, -9.99061439e+00, -3.00000000e-03, -9.28869034e+00]),\n",
       " array([-2.00000000e-01, -9.99119317e+00, -3.00000000e-03, -9.31523164e+00]),\n",
       " array([-2.00000000e-01, -9.99130199e+00, -3.00000000e-03, -9.31622318e+00]),\n",
       " array([-2.00000000e-01, -9.99157696e+00, -3.00000000e-03, -9.32433608e+00]),\n",
       " array([-2.00000000e-01, -9.99189003e+00, -3.00000000e-03, -9.33434605e+00]),\n",
       " array([-2.00000000e-01, -9.99214953e+00, -3.00000000e-03, -9.34221447e+00]),\n",
       " array([-2.00000000e-01, -9.99268194e+00, -3.00000000e-03, -9.36614135e+00]),\n",
       " array([-2.00000000e-01, -9.99295917e+00, -3.00000000e-03, -9.37787794e+00]),\n",
       " array([-2.00000000e-01, -9.99326163e+00, -3.00000000e-03, -9.39125483e+00]),\n",
       " array([-2.00000000e-01, -9.99347781e+00, -3.00000000e-03, -9.39960140e+00]),\n",
       " array([-2.00000000e-01, -9.99370916e+00, -3.00000000e-03, -9.40865780e+00]),\n",
       " array([-2.00000000e-01, -9.99388962e+00, -3.00000000e-03, -9.41482252e+00]),\n",
       " array([-2.00000000e-01, -9.99441253e+00, -3.00000000e-03, -9.44526769e+00]),\n",
       " array([-2.00000000e-01, -9.99486571e+00, -3.00000000e-03, -9.47755001e+00]),\n",
       " array([-2.00000000e-01, -9.99492831e+00, -3.00000000e-03, -9.47831975e+00]),\n",
       " array([-2.00000000e-01, -9.99519394e+00, -3.00000000e-03, -9.49268551e+00]),\n",
       " array([-2.00000000e-01, -9.99543637e+00, -3.00000000e-03, -9.50681833e+00]),\n",
       " array([-2.00000000e-01, -9.99549324e+00, -3.00000000e-03, -9.50752431e+00]),\n",
       " array([-2.00000000e-01, -9.99561531e+00, -3.00000000e-03, -9.51183450e+00]),\n",
       " array([-2.00000000e-01, -9.99583675e+00, -3.00000000e-03, -9.52267408e+00]),\n",
       " array([-2.00000000e-01, -9.99589002e+00, -3.00000000e-03, -9.52333321e+00]),\n",
       " array([-2.00000000e-01, -9.99605344e+00, -3.00000000e-03, -9.53020661e+00]),\n",
       " array([-2.00000000e-01, -9.99615250e+00, -3.00000000e-03, -9.53357306e+00]),\n",
       " array([-2.00000000e-01, -9.99621631e+00, -3.00000000e-03, -9.53484294e+00]),\n",
       " array([-2.00000000e-01, -9.99643830e+00, -3.00000000e-03, -9.54547436e+00]),\n",
       " array([-2.00000000e-01, -9.99655445e+00, -3.00000000e-03, -9.55081705e+00]),\n",
       " array([-2.00000000e-01, -9.99669371e+00, -3.00000000e-03, -9.55811599e+00]),\n",
       " array([-2.00000000e-01, -9.99690904e+00, -3.00000000e-03, -9.57356768e+00]),\n",
       " array([-2.00000000e-01, -9.99696318e+00, -3.00000000e-03, -9.57548746e+00]),\n",
       " array([-2.00000000e-01, -9.99708916e+00, -3.00000000e-03, -9.58310701e+00]),\n",
       " array([-2.00000000e-01, -9.99713465e+00, -3.00000000e-03, -9.58430282e+00]),\n",
       " array([-2.00000000e-01, -9.99727566e+00, -3.00000000e-03, -9.59283671e+00]),\n",
       " array([-2.00000000e-01, -9.99733395e+00, -3.00000000e-03, -9.59520713e+00]),\n",
       " array([-2.00000000e-01, -9.99750525e+00, -3.00000000e-03, -9.60789801e+00]),\n",
       " array([-2.00000000e-01, -9.99754986e+00, -3.00000000e-03, -9.60964120e+00]),\n",
       " array([-2.00000000e-01, -9.99770213e+00, -3.00000000e-03, -9.62200367e+00]),\n",
       " array([-2.00000000e-01, -9.99774858e+00, -3.00000000e-03, -9.62427262e+00]),\n",
       " array([-2.00000000e-01, -9.99781490e+00, -3.00000000e-03, -9.62814496e+00]),\n",
       " array([-2.00000000e-01, -9.99784338e+00, -3.00000000e-03, -9.62864475e+00]),\n",
       " array([-2.00000000e-01, -9.99790125e+00, -3.00000000e-03, -9.63120225e+00]),\n",
       " array([-2.00000000e-01, -9.99794457e+00, -3.00000000e-03, -9.63268371e+00]),\n",
       " array([-2.00000000e-01, -9.99797303e+00, -3.00000000e-03, -9.63313181e+00]),\n",
       " array([-2.00000000e-01, -9.99811613e+00, -3.00000000e-03, -9.64222466e+00]),\n",
       " array([-2.00000000e-01, -9.99820333e+00, -3.00000000e-03, -9.64908281e+00]),\n",
       " array([-2.00000000e-01, -9.99834973e+00, -3.00000000e-03, -9.66630778e+00]),\n",
       " array([-2.00000000e-01, -9.99841657e+00, -3.00000000e-03, -9.67361441e+00]),\n",
       " array([-2.00000000e-01, -9.99846599e+00, -3.00000000e-03, -9.67813348e+00]),\n",
       " array([-2.00000000e-01, -9.99848952e+00, -3.00000000e-03, -9.67907040e+00]),\n",
       " array([-2.00000000e-01, -9.99861661e+00, -3.00000000e-03, -9.69465671e+00]),\n",
       " array([-2.00000000e-01, -9.99864034e+00, -3.00000000e-03, -9.69604727e+00]),\n",
       " array([-2.00000000e-01, -9.99869542e+00, -3.00000000e-03, -9.70154512e+00]),\n",
       " array([-2.00000000e-01, -9.99871566e+00, -3.00000000e-03, -9.70240590e+00]),\n",
       " array([-2.00000000e-01, -9.99878699e+00, -3.00000000e-03, -9.70990101e+00]),\n",
       " array([-2.00000000e-01, -9.99883572e+00, -3.00000000e-03, -9.71516967e+00]),\n",
       " array([-2.00000000e-01, -9.99891712e+00, -3.00000000e-03, -9.72702183e+00]),\n",
       " array([-2.00000000e-01, -9.99896766e+00, -3.00000000e-03, -9.73427736e+00]),\n",
       " array([-2.00000000e-01, -9.99903177e+00, -3.00000000e-03, -9.74466817e+00]),\n",
       " array([-2.00000000e-01, -9.99908006e+00, -3.00000000e-03, -9.75228321e+00]),\n",
       " array([-2.00000000e-01, -9.99909144e+00, -3.00000000e-03, -9.75264151e+00]),\n",
       " array([-2.00000000e-01, -9.99913690e+00, -3.00000000e-03, -9.75861364e+00]),\n",
       " array([-2.00000000e-01, -9.99916303e+00, -3.00000000e-03, -9.76153080e+00]),\n",
       " array([-2.00000000e-01, -9.99919899e+00, -3.00000000e-03, -9.76620599e+00]),\n",
       " array([-2.00000000e-01, -9.99920918e+00, -3.00000000e-03, -9.76653146e+00]),\n",
       " array([-2.00000000e-01, -9.99922935e+00, -3.00000000e-03, -9.76818681e+00]),\n",
       " array([-2.00000000e-01, -9.99928707e+00, -3.00000000e-03, -9.77679319e+00]),\n",
       " array([-2.00000000e-01, -9.99932478e+00, -3.00000000e-03, -9.78335117e+00]),\n",
       " array([-2.00000000e-01, -9.99935432e+00, -3.00000000e-03, -9.78839279e+00]),\n",
       " array([-2.00000000e-01, -9.99936239e+00, -3.00000000e-03, -9.78869466e+00]),\n",
       " array([-2.00000000e-01, -9.99940187e+00, -3.00000000e-03, -9.79538791e+00]),\n",
       " array([-2.00000000e-01, -9.99941395e+00, -3.00000000e-03, -9.79661623e+00]),\n",
       " array([-2.00000000e-01, -9.99942323e+00, -3.00000000e-03, -9.79719261e+00]),\n",
       " array([-2.00000000e-01, -9.99945216e+00, -3.00000000e-03, -9.80132433e+00]),\n",
       " array([-2.00000000e-01, -9.99948681e+00, -3.00000000e-03, -9.80795541e+00]),\n",
       " array([-2.00000000e-01, -9.99949455e+00, -3.00000000e-03, -9.80852284e+00]),\n",
       " array([-2.00000000e-01, -9.99951340e+00, -3.00000000e-03, -9.81135698e+00]),\n",
       " array([-2.00000000e-01, -9.99952520e+00, -3.00000000e-03, -9.81273262e+00]),\n",
       " array([-2.00000000e-01, -9.99954596e+00, -3.00000000e-03, -9.81602979e+00]),\n",
       " array([-2.00000000e-01, -9.99956281e+00, -3.00000000e-03, -9.81876106e+00]),\n",
       " array([-2.00000000e-01, -9.99956845e+00, -3.00000000e-03, -9.81900840e+00]),\n",
       " array([-2.00000000e-01, -9.99958360e+00, -3.00000000e-03, -9.82106174e+00]),\n",
       " array([-2.00000000e-01, -9.99959051e+00, -3.00000000e-03, -9.82154894e+00]),\n",
       " array([-2.00000000e-01, -9.99959610e+00, -3.00000000e-03, -9.82177155e+00]),\n",
       " array([-2.0000000e-01, -9.9996148e+00, -3.0000000e-03, -9.8241657e+00]),\n",
       " array([-2.00000000e-01, -9.99962408e+00, -3.00000000e-03, -9.82511969e+00]),\n",
       " array([-2.00000000e-01, -9.99963335e+00, -3.00000000e-03, -9.82605314e+00]),\n",
       " array([-2.00000000e-01, -9.99966870e+00, -3.00000000e-03, -9.83419898e+00]),\n",
       " array([-2.00000000e-01, -9.99967919e+00, -3.00000000e-03, -9.83648764e+00]),\n",
       " array([-2.00000000e-01, -9.99969533e+00, -3.00000000e-03, -9.84074484e+00]),\n",
       " array([-2.00000000e-01, -9.99970071e+00, -3.00000000e-03, -9.84145755e+00]),\n",
       " array([-2.00000000e-01, -9.99970958e+00, -3.00000000e-03, -9.84308667e+00]),\n",
       " array([-2.00000000e-01, -9.99972273e+00, -3.00000000e-03, -9.84610812e+00]),\n",
       " array([-2.00000000e-01, -9.99973148e+00, -3.00000000e-03, -9.84793881e+00]),\n",
       " array([-2.00000000e-01, -9.99974396e+00, -3.00000000e-03, -9.85112736e+00]),\n",
       " array([-2.00000000e-01, -9.99975538e+00, -3.00000000e-03, -9.85429225e+00]),\n",
       " array([-2.00000000e-01, -9.99975914e+00, -3.00000000e-03, -9.85471649e+00]),\n",
       " array([-2.00000000e-01, -9.99977436e+00, -3.00000000e-03, -9.85929260e+00]),\n",
       " array([-2.00000000e-01, -9.99977838e+00, -3.00000000e-03, -9.85991965e+00]),\n",
       " array([-2.00000000e-01, -9.99978125e+00, -3.00000000e-03, -9.86010896e+00]),\n",
       " array([-2.00000000e-01, -9.99978639e+00, -3.00000000e-03, -9.86087701e+00]),\n",
       " array([-2.00000000e-01, -9.99979225e+00, -3.00000000e-03, -9.86182249e+00]),\n",
       " array([-2.00000000e-01, -9.99980697e+00, -3.00000000e-03, -9.86601593e+00]),\n",
       " array([-2.00000000e-01, -9.99980999e+00, -3.00000000e-03, -9.86640107e+00]),\n",
       " array([-2.00000000e-01, -9.99981594e+00, -3.00000000e-03, -9.86774249e+00]),\n",
       " array([-2.00000000e-01, -9.99982793e+00, -3.00000000e-03, -9.87187368e+00]),\n",
       " array([-2.00000000e-01, -9.99983232e+00, -3.00000000e-03, -9.87303016e+00]),\n",
       " array([-2.00000000e-01, -9.99983927e+00, -3.00000000e-03, -9.87531172e+00]),\n",
       " array([-2.00000000e-01, -9.99985212e+00, -3.00000000e-03, -9.88145435e+00]),\n",
       " array([-2.00000000e-01, -9.99985463e+00, -3.00000000e-03, -9.88199699e+00]),\n",
       " array([-2.00000000e-01, -9.99986858e+00, -3.00000000e-03, -9.88965743e+00]),\n",
       " array([-2.00000000e-01, -9.99987135e+00, -3.00000000e-03, -9.89051579e+00]),\n",
       " array([-2.00000000e-01, -9.99987490e+00, -3.00000000e-03, -9.89167482e+00]),\n",
       " array([-2.0000000e-01, -9.9998765e+00, -3.0000000e-03, -9.8918239e+00]),\n",
       " array([-2.00000000e-01, -9.99987814e+00, -3.00000000e-03, -9.89196466e+00]),\n",
       " array([-2.00000000e-01, -9.99988155e+00, -3.00000000e-03, -9.89268911e+00]),\n",
       " array([-2.00000000e-01, -9.99988835e+00, -3.00000000e-03, -9.89495837e+00]),\n",
       " array([-2.00000000e-01, -9.99989521e+00, -3.00000000e-03, -9.89810599e+00]),\n",
       " array([-2.00000000e-01, -9.99989653e+00, -3.00000000e-03, -9.89824953e+00]),\n",
       " array([-2.00000000e-01, -9.99989970e+00, -3.00000000e-03, -9.89927988e+00]),\n",
       " array([-2.00000000e-01, -9.99990810e+00, -3.00000000e-03, -9.90399894e+00]),\n",
       " array([-2.00000000e-01, -9.99991032e+00, -3.00000000e-03, -9.90488388e+00]),\n",
       " array([-2.00000000e-01, -9.99991521e+00, -3.00000000e-03, -9.90765270e+00]),\n",
       " array([-2.00000000e-01, -9.99991711e+00, -3.00000000e-03, -9.90835236e+00]),\n",
       " array([-2.00000000e-01, -9.99991951e+00, -3.00000000e-03, -9.90930382e+00]),\n",
       " array([-2.00000000e-01, -9.99992232e+00, -3.00000000e-03, -9.91050738e+00]),\n",
       " array([-2.00000000e-01, -9.99992484e+00, -3.00000000e-03, -9.91155982e+00]),\n",
       " array([-2.00000000e-01, -9.99992582e+00, -3.00000000e-03, -9.91167885e+00]),\n",
       " array([-2.00000000e-01, -9.99992707e+00, -3.00000000e-03, -9.91191369e+00]),\n",
       " array([-2.00000000e-01, -9.99993150e+00, -3.00000000e-03, -9.91389927e+00]),\n",
       " array([-2.00000000e-01, -9.99993358e+00, -3.00000000e-03, -9.91477534e+00]),\n",
       " array([-2.00000000e-01, -9.99993581e+00, -3.00000000e-03, -9.91576396e+00]),\n",
       " array([-2.00000000e-01, -9.99993706e+00, -3.00000000e-03, -9.91611966e+00]),\n",
       " array([-2.00000000e-01, -9.99994030e+00, -3.00000000e-03, -9.91781426e+00]),\n",
       " array([-2.00000000e-01, -9.99994177e+00, -3.00000000e-03, -9.91841031e+00]),\n",
       " array([-2.00000000e-01, -9.99994421e+00, -3.00000000e-03, -9.91971870e+00]),\n",
       " array([-2.00000000e-01, -9.99994924e+00, -3.00000000e-03, -9.92413468e+00]),\n",
       " array([-2.00000000e-01, -9.99994999e+00, -3.00000000e-03, -9.92436370e+00]),\n",
       " array([-2.00000000e-01, -9.99995200e+00, -3.00000000e-03, -9.92573397e+00]),\n",
       " array([-2.00000000e-01, -9.99995393e+00, -3.00000000e-03, -9.92708335e+00]),\n",
       " array([-2.00000000e-01, -9.99995587e+00, -3.00000000e-03, -9.92852334e+00]),\n",
       " array([-2.00000000e-01, -9.99995710e+00, -3.00000000e-03, -9.92927581e+00]),\n",
       " array([-2.00000000e-01, -9.99995766e+00, -3.00000000e-03, -9.92937267e+00]),\n",
       " array([-2.00000000e-01, -9.99995836e+00, -3.00000000e-03, -9.92956354e+00]),\n",
       " array([-2.00000000e-01, -9.99995965e+00, -3.00000000e-03, -9.93013761e+00]),\n",
       " array([-2.00000000e-01, -9.99996090e+00, -3.00000000e-03, -9.93071008e+00]),\n",
       " array([-2.00000000e-01, -9.99996234e+00, -3.00000000e-03, -9.93147898e+00]),\n",
       " array([-2.00000000e-01, -9.99996285e+00, -3.00000000e-03, -9.93156675e+00]),\n",
       " array([-2.00000000e-01, -9.99996416e+00, -3.00000000e-03, -9.93221067e+00]),\n",
       " array([-2.00000000e-01, -9.99996551e+00, -3.00000000e-03, -9.93295769e+00]),\n",
       " array([-2.00000000e-01, -9.99996749e+00, -3.00000000e-03, -9.93450866e+00]),\n",
       " array([-2.00000000e-01, -9.99996791e+00, -3.00000000e-03, -9.93459793e+00]),\n",
       " array([-2.00000000e-01, -9.99997040e+00, -3.00000000e-03, -9.93712384e+00]),\n",
       " array([-2.00000000e-01, -9.99997085e+00, -3.00000000e-03, -9.93730905e+00]),\n",
       " array([-2.00000000e-01, -9.99997216e+00, -3.00000000e-03, -9.93852188e+00]),\n",
       " array([-2.00000000e-01, -9.99997354e+00, -3.00000000e-03, -9.94001343e+00]),\n",
       " array([-2.00000000e-01, -9.99997427e+00, -3.00000000e-03, -9.94064759e+00]),\n",
       " array([-2.00000000e-01, -9.99997582e+00, -3.00000000e-03, -9.94254672e+00]),\n",
       " array([-2.00000000e-01, -9.99997636e+00, -3.00000000e-03, -9.94298213e+00]),\n",
       " array([-2.00000000e-01, -9.99997673e+00, -3.00000000e-03, -9.94314515e+00]),\n",
       " array([-2.00000000e-01, -9.99997874e+00, -3.00000000e-03, -9.94588629e+00]),\n",
       " array([-2.00000000e-01, -9.99998070e+00, -3.00000000e-03, -9.94953062e+00]),\n",
       " array([-2.00000000e-01, -9.99998213e+00, -3.00000000e-03, -9.95224693e+00]),\n",
       " array([-2.00000000e-01, -9.99998246e+00, -3.00000000e-03, -9.95254355e+00]),\n",
       " array([-2.00000000e-01, -9.99998307e+00, -3.00000000e-03, -9.95326584e+00]),\n",
       " array([-2.00000000e-01, -9.99998392e+00, -3.00000000e-03, -9.95447949e+00]),\n",
       " array([-2.00000000e-01, -9.99998529e+00, -3.00000000e-03, -9.95710167e+00]),\n",
       " array([-2.00000000e-01, -9.99998557e+00, -3.00000000e-03, -9.95736724e+00]),\n",
       " array([-2.00000000e-01, -9.99998628e+00, -3.00000000e-03, -9.95847960e+00]),\n",
       " array([-2.00000000e-01, -9.99998662e+00, -3.00000000e-03, -9.95885769e+00]),\n",
       " array([-2.00000000e-01, -9.99998691e+00, -3.00000000e-03, -9.95909882e+00]),\n",
       " array([-2.00000000e-01, -9.99998727e+00, -3.00000000e-03, -9.95945206e+00]),\n",
       " array([-2.00000000e-01, -9.99998784e+00, -3.00000000e-03, -9.96016126e+00]),\n",
       " array([-2.00000000e-01, -9.99998820e+00, -3.00000000e-03, -9.96056975e+00]),\n",
       " array([-2.00000000e-01, -9.99998865e+00, -3.00000000e-03, -9.96114831e+00]),\n",
       " array([-2.00000000e-01, -9.99998938e+00, -3.00000000e-03, -9.96244077e+00]),\n",
       " array([-2.00000000e-01, -9.99998954e+00, -3.00000000e-03, -9.96255156e+00]),\n",
       " array([-2.00000000e-01, -9.99998988e+00, -3.00000000e-03, -9.96299168e+00]),\n",
       " array([-2.00000000e-01, -9.99999013e+00, -3.00000000e-03, -9.96325888e+00]),\n",
       " array([-2.00000000e-01, -9.99999089e+00, -3.00000000e-03, -9.96474765e+00]),\n",
       " array([-2.00000000e-01, -9.99999117e+00, -3.00000000e-03, -9.96523495e+00]),\n",
       " array([-2.00000000e-01, -9.99999175e+00, -3.00000000e-03, -9.96657628e+00]),\n",
       " array([-2.00000000e-01, -9.99999191e+00, -3.00000000e-03, -9.96678027e+00]),\n",
       " array([-2.00000000e-01, -9.99999233e+00, -3.00000000e-03, -9.96763998e+00]),\n",
       " array([-2.00000000e-01, -9.99999257e+00, -3.00000000e-03, -9.96808365e+00]),\n",
       " array([-2.00000000e-01, -9.99999269e+00, -3.00000000e-03, -9.96817584e+00]),\n",
       " array([-2.00000000e-01, -9.99999293e+00, -3.00000000e-03, -9.96854395e+00]),\n",
       " array([-2.00000000e-01, -9.99999303e+00, -3.00000000e-03, -9.96858569e+00]),\n",
       " array([-2.00000000e-01, -9.99999330e+00, -3.00000000e-03, -9.96898029e+00]),\n",
       " array([-2.00000000e-01, -9.99999373e+00, -3.00000000e-03, -9.96989379e+00]),\n",
       " array([-2.00000000e-01, -9.99999424e+00, -3.00000000e-03, -9.97142983e+00]),\n",
       " array([-2.00000000e-01, -9.99999436e+00, -3.00000000e-03, -9.97165069e+00]),\n",
       " array([-2.00000000e-01, -9.99999458e+00, -3.00000000e-03, -9.97216864e+00]),\n",
       " array([-2.00000000e-01, -9.99999487e+00, -3.00000000e-03, -9.97293690e+00]),\n",
       " array([-2.00000000e-01, -9.99999509e+00, -3.00000000e-03, -9.97356394e+00]),\n",
       " array([-2.00000000e-01, -9.99999524e+00, -3.00000000e-03, -9.97388685e+00]),\n",
       " array([-2.00000000e-01, -9.99999541e+00, -3.00000000e-03, -9.97428072e+00]),\n",
       " array([-2.00000000e-01, -9.99999547e+00, -3.00000000e-03, -9.97431627e+00]),\n",
       " array([-2.00000000e-01, -9.99999553e+00, -3.00000000e-03, -9.97434984e+00]),\n",
       " array([-2.00000000e-01, -9.99999564e+00, -3.00000000e-03, -9.97448668e+00]),\n",
       " array([-2.00000000e-01, -9.99999571e+00, -3.00000000e-03, -9.97455174e+00]),\n",
       " array([-2.00000000e-01, -9.99999593e+00, -3.00000000e-03, -9.97492747e+00]),\n",
       " array([-2.00000000e-01, -9.99999602e+00, -3.00000000e-03, -9.97506405e+00]),\n",
       " array([-2.00000000e-01, -9.99999624e+00, -3.00000000e-03, -9.97555785e+00]),\n",
       " array([-2.00000000e-01, -9.99999636e+00, -3.00000000e-03, -9.97580560e+00]),\n",
       " array([-2.00000000e-01, -9.99999647e+00, -3.00000000e-03, -9.97604953e+00]),\n",
       " array([-2.00000000e-01, -9.99999667e+00, -3.00000000e-03, -9.97665178e+00]),\n",
       " array([-2.00000000e-01, -9.99999679e+00, -3.00000000e-03, -9.97700342e+00]),\n",
       " array([-2.00000000e-01, -9.99999686e+00, -3.00000000e-03, -9.97713838e+00]),\n",
       " array([-2.00000000e-01, -9.99999705e+00, -3.00000000e-03, -9.97782271e+00]),\n",
       " array([-2.00000000e-01, -9.99999712e+00, -3.00000000e-03, -9.97798904e+00]),\n",
       " array([-2.00000000e-01, -9.99999718e+00, -3.00000000e-03, -9.97811671e+00]),\n",
       " array([-2.00000000e-01, -9.99999727e+00, -3.00000000e-03, -9.97836900e+00]),\n",
       " array([-2.00000000e-01, -9.99999734e+00, -3.00000000e-03, -9.97849138e+00]),\n",
       " array([-2.00000000e-01, -9.99999738e+00, -3.00000000e-03, -9.97854917e+00]),\n",
       " array([-2.00000000e-01, -9.99999744e+00, -3.00000000e-03, -9.97863372e+00]),\n",
       " array([-2.00000000e-01, -9.99999747e+00, -3.00000000e-03, -9.97865930e+00]),\n",
       " array([-2.00000000e-01, -9.99999754e+00, -3.00000000e-03, -9.97876503e+00]),\n",
       " array([-2.00000000e-01, -9.99999772e+00, -3.00000000e-03, -9.97928647e+00]),\n",
       " array([-2.00000000e-01, -9.99999786e+00, -3.00000000e-03, -9.97990420e+00]),\n",
       " array([-2.0000000e-01, -9.9999979e+00, -3.0000000e-03, -9.9799933e+00]),\n",
       " array([-2.00000000e-01, -9.99999795e+00, -3.00000000e-03, -9.98010808e+00]),\n",
       " array([-2.00000000e-01, -9.99999802e+00, -3.00000000e-03, -9.98033559e+00]),\n",
       " array([-2.00000000e-01, -9.99999812e+00, -3.00000000e-03, -9.98073922e+00]),\n",
       " array([-2.00000000e-01, -9.99999815e+00, -3.00000000e-03, -9.98079400e+00]),\n",
       " array([-2.00000000e-01, -9.99999825e+00, -3.00000000e-03, -9.98124451e+00]),\n",
       " array([-2.00000000e-01, -9.99999833e+00, -3.00000000e-03, -9.98166989e+00]),\n",
       " array([-2.00000000e-01, -9.99999844e+00, -3.00000000e-03, -9.98240613e+00]),\n",
       " array([-2.00000000e-01, -9.99999848e+00, -3.00000000e-03, -9.98256871e+00]),\n",
       " array([-2.00000000e-01, -9.99999851e+00, -3.00000000e-03, -9.98267206e+00]),\n",
       " array([-2.00000000e-01, -9.99999853e+00, -3.00000000e-03, -9.98269539e+00]),\n",
       " array([-2.00000000e-01, -9.99999857e+00, -3.00000000e-03, -9.98281472e+00]),\n",
       " array([-2.00000000e-01, -9.99999859e+00, -3.00000000e-03, -9.98283636e+00]),\n",
       " array([-2.00000000e-01, -9.99999863e+00, -3.00000000e-03, -9.98294841e+00]),\n",
       " array([-2.00000000e-01, -9.99999868e+00, -3.00000000e-03, -9.98308369e+00]),\n",
       " array([-2.00000000e-01, -9.99999881e+00, -3.00000000e-03, -9.98397984e+00]),\n",
       " array([-2.00000000e-01, -9.99999889e+00, -3.00000000e-03, -9.98465680e+00]),\n",
       " array([-2.00000000e-01, -9.99999891e+00, -3.00000000e-03, -9.98470313e+00]),\n",
       " array([-2.00000000e-01, -9.99999894e+00, -3.00000000e-03, -9.98483948e+00]),\n",
       " array([-2.00000000e-01, -9.99999896e+00, -3.00000000e-03, -9.98490443e+00]),\n",
       " array([-2.00000000e-01, -9.99999897e+00, -3.00000000e-03, -9.98494537e+00]),\n",
       " array([-2.00000000e-01, -9.99999902e+00, -3.00000000e-03, -9.98519919e+00]),\n",
       " array([-2.00000000e-01, -9.99999905e+00, -3.00000000e-03, -9.98530416e+00]),\n",
       " array([-2.00000000e-01, -9.99999907e+00, -3.00000000e-03, -9.98536465e+00]),\n",
       " array([-2.00000000e-01, -9.99999914e+00, -3.00000000e-03, -9.98592200e+00]),\n",
       " array([-2.00000000e-01, -9.99999920e+00, -3.00000000e-03, -9.98655545e+00]),\n",
       " array([-2.00000000e-01, -9.99999923e+00, -3.00000000e-03, -9.98674382e+00]),\n",
       " array([-2.00000000e-01, -9.99999925e+00, -3.00000000e-03, -9.98684372e+00]),\n",
       " array([-2.00000000e-01, -9.99999929e+00, -3.00000000e-03, -9.98722270e+00]),\n",
       " array([-2.00000000e-01, -9.99999931e+00, -3.00000000e-03, -9.98733869e+00]),\n",
       " array([-2.00000000e-01, -9.99999934e+00, -3.00000000e-03, -9.98756700e+00]),\n",
       " array([-2.00000000e-01, -9.99999934e+00, -3.00000000e-03, -9.98758422e+00]),\n",
       " array([-2.00000000e-01, -9.99999939e+00, -3.00000000e-03, -9.98799054e+00]),\n",
       " array([-2.00000000e-01, -9.99999940e+00, -3.00000000e-03, -9.98802567e+00]),\n",
       " array([-2.00000000e-01, -9.99999942e+00, -3.00000000e-03, -9.98814754e+00]),\n",
       " array([-2.00000000e-01, -9.99999948e+00, -3.00000000e-03, -9.98894256e+00]),\n",
       " array([-2.00000000e-01, -9.99999948e+00, -3.00000000e-03, -9.98897615e+00]),\n",
       " array([-2.00000000e-01, -9.99999951e+00, -3.00000000e-03, -9.98927963e+00]),\n",
       " array([-2.00000000e-01, -9.99999952e+00, -3.00000000e-03, -9.98931123e+00]),\n",
       " array([-2.00000000e-01, -9.99999953e+00, -3.00000000e-03, -9.98935699e+00]),\n",
       " array([-2.00000000e-01, -9.99999954e+00, -3.00000000e-03, -9.98938585e+00]),\n",
       " array([-2.00000000e-01, -9.99999954e+00, -3.00000000e-03, -9.98939903e+00]),\n",
       " array([-2.00000000e-01, -9.99999956e+00, -3.00000000e-03, -9.98951119e+00]),\n",
       " array([-2.00000000e-01, -9.99999957e+00, -3.00000000e-03, -9.98958153e+00]),\n",
       " array([-2.00000000e-01, -9.99999959e+00, -3.00000000e-03, -9.98965125e+00]),\n",
       " array([-2.00000000e-01, -9.99999960e+00, -3.00000000e-03, -9.98977899e+00]),\n",
       " array([-2.00000000e-01, -9.99999963e+00, -3.00000000e-03, -9.99007772e+00]),\n",
       " array([-2.00000000e-01, -9.99999963e+00, -3.00000000e-03, -9.99009149e+00]),\n",
       " array([-2.00000000e-01, -9.99999964e+00, -3.00000000e-03, -9.99011861e+00]),\n",
       " array([-2.00000000e-01, -9.99999965e+00, -3.00000000e-03, -9.99018593e+00]),\n",
       " array([-2.00000000e-01, -9.99999966e+00, -3.00000000e-03, -9.99030854e+00]),\n",
       " array([-2.00000000e-01, -9.99999967e+00, -3.00000000e-03, -9.99034828e+00]),\n",
       " array([-2.00000000e-01, -9.99999971e+00, -3.00000000e-03, -9.99098269e+00]),\n",
       " array([-2.00000000e-01, -9.99999972e+00, -3.00000000e-03, -9.99115210e+00]),\n",
       " array([-2.00000000e-01, -9.99999973e+00, -3.00000000e-03, -9.99123302e+00]),\n",
       " array([-2.00000000e-01, -9.99999973e+00, -3.00000000e-03, -9.99135135e+00]),\n",
       " array([-2.00000000e-01, -9.99999974e+00, -3.00000000e-03, -9.99138890e+00]),\n",
       " array([-2.00000000e-01, -9.99999975e+00, -3.00000000e-03, -9.99157902e+00]),\n",
       " array([-2.00000000e-01, -9.99999976e+00, -3.00000000e-03, -9.99170504e+00]),\n",
       " array([-2.00000000e-01, -9.99999977e+00, -3.00000000e-03, -9.99182906e+00]),\n",
       " array([-2.00000000e-01, -9.99999978e+00, -3.00000000e-03, -9.99188905e+00]),\n",
       " array([-2.00000000e-01, -9.99999978e+00, -3.00000000e-03, -9.99192341e+00]),\n",
       " array([-2.00000000e-01, -9.99999979e+00, -3.00000000e-03, -9.99216053e+00]),\n",
       " array([-2.00000000e-01, -9.99999980e+00, -3.00000000e-03, -9.99227886e+00]),\n",
       " array([-2.00000000e-01, -9.99999981e+00, -3.00000000e-03, -9.99240677e+00]),\n",
       " array([-2.00000000e-01, -9.99999982e+00, -3.00000000e-03, -9.99260324e+00]),\n",
       " array([-2.00000000e-01, -9.99999983e+00, -3.00000000e-03, -9.99282028e+00]),\n",
       " array([-2.00000000e-01, -9.99999984e+00, -3.00000000e-03, -9.99304382e+00]),\n",
       " array([-2.00000000e-01, -9.99999984e+00, -3.00000000e-03, -9.99311876e+00]),\n",
       " array([-2.00000000e-01, -9.99999984e+00, -3.00000000e-03, -9.99313873e+00]),\n",
       " array([-2.00000000e-01, -9.99999985e+00, -3.00000000e-03, -9.99332275e+00]),\n",
       " array([-2.00000000e-01, -9.99999986e+00, -3.00000000e-03, -9.99338273e+00]),\n",
       " array([-2.00000000e-01, -9.99999986e+00, -3.00000000e-03, -9.99345089e+00]),\n",
       " array([-2.00000000e-01, -9.99999987e+00, -3.00000000e-03, -9.99367821e+00]),\n",
       " array([-2.00000000e-01, -9.99999988e+00, -3.00000000e-03, -9.99387436e+00]),\n",
       " array([-2.00000000e-01, -9.99999989e+00, -3.00000000e-03, -9.99413315e+00]),\n",
       " array([-2.00000000e-01, -9.99999989e+00, -3.00000000e-03, -9.99426188e+00]),\n",
       " array([-2.00000000e-01, -9.99999990e+00, -3.00000000e-03, -9.99438647e+00]),\n",
       " array([-2.0000000e-01, -9.9999999e+00, -3.0000000e-03, -9.9947628e+00]),\n",
       " array([-2.00000000e-01, -9.99999991e+00, -3.00000000e-03, -9.99481196e+00]),\n",
       " array([-2.00000000e-01, -9.99999991e+00, -3.00000000e-03, -9.99489128e+00]),\n",
       " array([-2.00000000e-01, -9.99999991e+00, -3.00000000e-03, -9.99493717e+00]),\n",
       " array([-2.00000000e-01, -9.99999991e+00, -3.00000000e-03, -9.99495151e+00]),\n",
       " array([-2.00000000e-01, -9.99999992e+00, -3.00000000e-03, -9.99495806e+00]),\n",
       " array([-2.00000000e-01, -9.99999992e+00, -3.00000000e-03, -9.99504977e+00]),\n",
       " array([-2.00000000e-01, -9.99999992e+00, -3.00000000e-03, -9.99509949e+00]),\n",
       " array([-2.00000000e-01, -9.99999992e+00, -3.00000000e-03, -9.99514136e+00]),\n",
       " array([-2.00000000e-01, -9.99999993e+00, -3.00000000e-03, -9.99519683e+00]),\n",
       " array([-2.00000000e-01, -9.99999993e+00, -3.00000000e-03, -9.99522381e+00]),\n",
       " array([-2.00000000e-01, -9.99999993e+00, -3.00000000e-03, -9.99523656e+00]),\n",
       " array([-2.00000000e-01, -9.99999993e+00, -3.00000000e-03, -9.99532303e+00]),\n",
       " array([-2.00000000e-01, -9.99999993e+00, -3.00000000e-03, -9.99534260e+00]),\n",
       " array([-2.00000000e-01, -9.99999994e+00, -3.00000000e-03, -9.99539480e+00]),\n",
       " array([-2.00000000e-01, -9.99999994e+00, -3.00000000e-03, -9.99561557e+00]),\n",
       " array([-2.00000000e-01, -9.99999994e+00, -3.00000000e-03, -9.99564908e+00]),\n",
       " array([-2.00000000e-01, -9.99999995e+00, -3.00000000e-03, -9.99572799e+00]),\n",
       " array([-2.00000000e-01, -9.99999995e+00, -3.00000000e-03, -9.99574033e+00]),\n",
       " array([-2.00000000e-01, -9.99999995e+00, -3.00000000e-03, -9.99576445e+00]),\n",
       " array([-2.00000000e-01, -9.99999995e+00, -3.00000000e-03, -9.99578787e+00]),\n",
       " array([-2.00000000e-01, -9.99999995e+00, -3.00000000e-03, -9.99579895e+00]),\n",
       " array([-2.00000000e-01, -9.99999995e+00, -3.00000000e-03, -9.99595641e+00]),\n",
       " array([-2.00000000e-01, -9.99999996e+00, -3.00000000e-03, -9.99599898e+00]),\n",
       " array([-2.00000000e-01, -9.99999996e+00, -3.00000000e-03, -9.99601632e+00]),\n",
       " array([-2.00000000e-01, -9.99999996e+00, -3.00000000e-03, -9.99606216e+00]),\n",
       " array([-2.00000000e-01, -9.99999996e+00, -3.00000000e-03, -9.99623432e+00]),\n",
       " array([-2.00000000e-01, -9.99999996e+00, -3.00000000e-03, -9.99645828e+00]),\n",
       " array([-2.00000000e-01, -9.99999997e+00, -3.00000000e-03, -9.99646349e+00]),\n",
       " array([-2.00000000e-01, -9.99999997e+00, -3.00000000e-03, -9.99651686e+00]),\n",
       " array([-2.00000000e-01, -9.99999997e+00, -3.00000000e-03, -9.99669398e+00]),\n",
       " array([-2.00000000e-01, -9.99999997e+00, -3.00000000e-03, -9.99670913e+00]),\n",
       " array([-2.00000000e-01, -9.99999997e+00, -3.00000000e-03, -9.99676891e+00]),\n",
       " array([-2.00000000e-01, -9.99999997e+00, -3.00000000e-03, -9.99680775e+00]),\n",
       " array([-2.00000000e-01, -9.99999997e+00, -3.00000000e-03, -9.99696455e+00]),\n",
       " array([-2.00000000e-01, -9.99999997e+00, -3.00000000e-03, -9.99696896e+00]),\n",
       " array([-2.00000000e-01, -9.99999997e+00, -3.00000000e-03, -9.99698214e+00]),\n",
       " array([-2.00000000e-01, -9.99999998e+00, -3.00000000e-03, -9.99713271e+00]),\n",
       " array([-2.00000000e-01, -9.99999998e+00, -3.00000000e-03, -9.99713686e+00]),\n",
       " array([-2.00000000e-01, -9.99999998e+00, -3.00000000e-03, -9.99717954e+00]),\n",
       " array([-2.00000000e-01, -9.99999998e+00, -3.00000000e-03, -9.99720446e+00]),\n",
       " array([-2.00000000e-01, -9.99999998e+00, -3.00000000e-03, -9.99720820e+00]),\n",
       " array([-2.00000000e-01, -9.99999998e+00, -3.00000000e-03, -9.99723946e+00]),\n",
       " array([-2.00000000e-01, -9.99999998e+00, -3.00000000e-03, -9.99726674e+00]),\n",
       " array([-2.00000000e-01, -9.99999998e+00, -3.00000000e-03, -9.99728587e+00]),\n",
       " array([-2.00000000e-01, -9.99999998e+00, -3.00000000e-03, -9.99729691e+00]),\n",
       " array([-2.00000000e-01, -9.99999998e+00, -3.00000000e-03, -9.99732661e+00]),\n",
       " array([-2.00000000e-01, -9.99999998e+00, -3.00000000e-03, -9.99738032e+00]),\n",
       " array([-2.00000000e-01, -9.99999998e+00, -3.00000000e-03, -9.99742692e+00]),\n",
       " array([-2.00000000e-01, -9.99999998e+00, -3.00000000e-03, -9.99746140e+00]),\n",
       " array([-2.00000000e-01, -9.99999998e+00, -3.00000000e-03, -9.99751476e+00]),\n",
       " array([-2.00000000e-01, -9.99999999e+00, -3.00000000e-03, -9.99751822e+00]),\n",
       " array([-2.00000000e-01, -9.99999999e+00, -3.00000000e-03, -9.99754678e+00]),\n",
       " array([-2.00000000e-01, -9.99999999e+00, -3.00000000e-03, -9.99755002e+00]),\n",
       " array([-2.00000000e-01, -9.99999999e+00, -3.00000000e-03, -9.99761344e+00]),\n",
       " array([-2.00000000e-01, -9.99999999e+00, -3.00000000e-03, -9.99764900e+00]),\n",
       " array([-2.00000000e-01, -9.99999999e+00, -3.00000000e-03, -9.99769852e+00]),\n",
       " array([-2.00000000e-01, -9.99999999e+00, -3.00000000e-03, -9.99771914e+00]),\n",
       " array([-2.00000000e-01, -9.99999999e+00, -3.00000000e-03, -9.99772224e+00]),\n",
       " array([-2.00000000e-01, -9.99999999e+00, -3.00000000e-03, -9.99776488e+00]),\n",
       " array([-2.00000000e-01, -9.99999999e+00, -3.00000000e-03, -9.99778436e+00]),\n",
       " array([-2.00000000e-01, -9.99999999e+00, -3.00000000e-03, -9.99782332e+00]),\n",
       " array([-2.00000000e-01, -9.99999999e+00, -3.00000000e-03, -9.99785230e+00]),\n",
       " array([-2.00000000e-01, -9.99999999e+00, -3.00000000e-03, -9.99786792e+00]),\n",
       " array([-2.00000000e-01, -9.99999999e+00, -3.00000000e-03, -9.99787999e+00]),\n",
       " array([-2.00000000e-01, -9.99999999e+00, -3.00000000e-03, -9.99791656e+00]),\n",
       " array([-2.00000000e-01, -9.99999999e+00, -3.00000000e-03, -9.99796304e+00]),\n",
       " array([-2.00000000e-01, -9.99999999e+00, -3.00000000e-03, -9.99797196e+00]),\n",
       " array([-2.00000000e-01, -9.99999999e+00, -3.00000000e-03, -9.99806713e+00]),\n",
       " array([-2.00000000e-01, -9.99999999e+00, -3.00000000e-03, -9.99808798e+00]),\n",
       " array([-2.00000000e-01, -9.99999999e+00, -3.00000000e-03, -9.99813778e+00]),\n",
       " array([-2.00000000e-01, -9.99999999e+00, -3.00000000e-03, -9.99816920e+00]),\n",
       " array([-2.00000000e-01, -9.99999999e+00, -3.00000000e-03, -9.99817454e+00]),\n",
       " array([-2.00000000e-01, -9.99999999e+00, -3.00000000e-03, -9.99821240e+00]),\n",
       " array([-2.00000000e-01, -9.99999999e+00, -3.00000000e-03, -9.99825853e+00]),\n",
       " array([-2.00000000e-01, -9.99999999e+00, -3.00000000e-03, -9.99839374e+00]),\n",
       " array([-2.00000000e-01, -9.99999999e+00, -3.00000000e-03, -9.99843187e+00]),\n",
       " array([-2.00000000e-01, -9.99999999e+00, -3.00000000e-03, -9.99845621e+00]),\n",
       " array([-2.00000000e-01, -9.99999999e+00, -3.00000000e-03, -9.99846074e+00]),\n",
       " array([-2.00000000e-01, -1.00000000e+01, -3.00000000e-03, -9.99846505e+00]),\n",
       " array([-2.00000000e-01, -1.00000000e+01, -3.00000000e-03, -9.99846702e+00]),\n",
       " array([-2.00000000e-01, -1.00000000e+01, -3.00000000e-03, -9.99846888e+00]),\n",
       " array([-2.00000000e-01, -1.00000000e+01, -3.00000000e-03, -9.99847656e+00]),\n",
       " array([-2.0000000e-01, -1.0000000e+01, -3.0000000e-03, -9.9984862e+00]),\n",
       " array([-2.00000000e-01, -1.00000000e+01, -3.00000000e-03, -9.99850001e+00]),\n",
       " array([-2.00000000e-01, -1.00000000e+01, -3.00000000e-03, -9.99856775e+00]),\n",
       " array([-2.00000000e-01, -1.00000000e+01, -3.00000000e-03, -9.99861667e+00]),\n",
       " array([-2.00000000e-01, -1.00000000e+01, -3.00000000e-03, -9.99866429e+00]),\n",
       " array([-2.00000000e-01, -1.00000000e+01, -3.00000000e-03, -9.99868085e+00]),\n",
       " array([-2.0000000e-01, -1.0000000e+01, -3.0000000e-03, -9.9986847e+00]),\n",
       " array([-2.00000000e-01, -1.00000000e+01, -3.00000000e-03, -9.99870801e+00]),\n",
       " array([-2.00000000e-01, -1.00000000e+01, -3.00000000e-03, -9.99871169e+00]),\n",
       " array([-2.00000000e-01, -1.00000000e+01, -3.00000000e-03, -9.99871336e+00]),\n",
       " array([-2.00000000e-01, -1.00000000e+01, -3.00000000e-03, -9.99872563e+00]),\n",
       " array([-2.00000000e-01, -1.00000000e+01, -3.00000000e-03, -9.99872897e+00]),\n",
       " array([-2.00000000e-01, -1.00000000e+01, -3.00000000e-03, -9.99873734e+00]),\n",
       " array([-2.0000000e-01, -1.0000000e+01, -3.0000000e-03, -9.9987694e+00]),\n",
       " array([-2.00000000e-01, -1.00000000e+01, -3.00000000e-03, -9.99879321e+00]),\n",
       " array([-2.00000000e-01, -1.00000000e+01, -3.00000000e-03, -9.99880945e+00]),\n",
       " array([-2.00000000e-01, -1.00000000e+01, -3.00000000e-03, -9.99881639e+00]),\n",
       " array([-2.00000000e-01, -1.00000000e+01, -3.00000000e-03, -9.99882482e+00]),\n",
       " array([-2.00000000e-01, -1.00000000e+01, -3.00000000e-03, -9.99885411e+00]),\n",
       " array([-2.00000000e-01, -1.00000000e+01, -3.00000000e-03, -9.99894073e+00]),\n",
       " array([-2.00000000e-01, -1.00000000e+01, -3.00000000e-03, -9.99896584e+00]),\n",
       " array([-2.00000000e-01, -1.00000000e+01, -3.00000000e-03, -9.99898351e+00]),\n",
       " array([-2.0000000e-01, -1.0000000e+01, -3.0000000e-03, -9.9989865e+00]),\n",
       " array([-2.00000000e-01, -1.00000000e+01, -3.00000000e-03, -9.99898787e+00]),\n",
       " array([-2.00000000e-01, -1.00000000e+01, -3.00000000e-03, -9.99899925e+00]),\n",
       " array([-2.00000000e-01, -1.00000000e+01, -3.00000000e-03, -9.99900055e+00]),\n",
       " array([-2.00000000e-01, -1.00000000e+01, -3.00000000e-03, -9.99900862e+00]),\n",
       " array([-2.00000000e-01, -1.00000000e+01, -3.00000000e-03, -9.99900985e+00]),\n",
       " array([-2.00000000e-01, -1.00000000e+01, -3.00000000e-03, -9.99902168e+00]),\n",
       " array([-2.00000000e-01, -1.00000000e+01, -3.00000000e-03, -9.99905732e+00]),\n",
       " array([-2.00000000e-01, -1.00000000e+01, -3.00000000e-03, -9.99906007e+00]),\n",
       " array([-2.0000000e-01, -1.0000000e+01, -3.0000000e-03, -9.9990926e+00]),\n",
       " array([-2.00000000e-01, -1.00000000e+01, -3.00000000e-03, -9.99909528e+00]),\n",
       " array([-2.00000000e-01, -1.00000000e+01, -3.00000000e-03, -9.99911696e+00]),\n",
       " array([-2.00000000e-01, -1.00000000e+01, -3.00000000e-03, -9.99913992e+00]),\n",
       " array([-2.00000000e-01, -1.00000000e+01, -3.00000000e-03, -9.99915174e+00]),\n",
       " array([-2.00000000e-01, -1.00000000e+01, -3.00000000e-03, -9.99915548e+00]),\n",
       " array([-2.00000000e-01, -1.00000000e+01, -3.00000000e-03, -9.99920175e+00]),\n",
       " array([-2.00000000e-01, -1.00000000e+01, -3.00000000e-03, -9.99922809e+00]),\n",
       " array([-2.00000000e-01, -1.00000000e+01, -3.00000000e-03, -9.99923646e+00]),\n",
       " array([-2.00000000e-01, -1.00000000e+01, -3.00000000e-03, -9.99923984e+00]),\n",
       " array([-2.00000000e-01, -1.00000000e+01, -3.00000000e-03, -9.99924086e+00]),\n",
       " array([-2.00000000e-01, -1.00000000e+01, -3.00000000e-03, -9.99924183e+00]),\n",
       " array([-2.00000000e-01, -1.00000000e+01, -3.00000000e-03, -9.99924578e+00]),\n",
       " array([-2.00000000e-01, -1.00000000e+01, -3.00000000e-03, -9.99925923e+00]),\n",
       " array([-2.00000000e-01, -1.00000000e+01, -3.00000000e-03, -9.99927433e+00]),\n",
       " array([-2.00000000e-01, -1.00000000e+01, -3.00000000e-03, -9.99927962e+00]),\n",
       " array([-2.00000000e-01, -1.00000000e+01, -3.00000000e-03, -9.99928161e+00]),\n",
       " array([-2.00000000e-01, -1.00000000e+01, -3.00000000e-03, -9.99928351e+00]),\n",
       " array([-2.00000000e-01, -1.00000000e+01, -3.00000000e-03, -9.99930825e+00]),\n",
       " array([-2.00000000e-01, -1.00000000e+01, -3.00000000e-03, -9.99931656e+00]),\n",
       " array([-2.0000000e-01, -1.0000000e+01, -3.0000000e-03, -9.9993352e+00]),\n",
       " array([-2.00000000e-01, -1.00000000e+01, -3.00000000e-03, -9.99933715e+00]),\n",
       " array([-2.00000000e-01, -1.00000000e+01, -3.00000000e-03, -9.99935197e+00]),\n",
       " array([-2.00000000e-01, -1.00000000e+01, -3.00000000e-03, -9.99936172e+00]),\n",
       " array([-2.00000000e-01, -1.00000000e+01, -3.00000000e-03, -9.99936356e+00]),\n",
       " array([-2.00000000e-01, -1.00000000e+01, -3.00000000e-03, -9.99937373e+00]),\n",
       " array([-2.00000000e-01, -1.00000000e+01, -3.00000000e-03, -9.99937458e+00]),\n",
       " array([-2.00000000e-01, -1.00000000e+01, -3.00000000e-03, -9.99938716e+00]),\n",
       " array([-2.00000000e-01, -1.00000000e+01, -3.00000000e-03, -9.99940278e+00]),\n",
       " array([-2.00000000e-01, -1.00000000e+01, -3.00000000e-03, -9.99941368e+00]),\n",
       " array([-2.00000000e-01, -1.00000000e+01, -3.00000000e-03, -9.99942528e+00]),\n",
       " array([-2.00000000e-01, -1.00000000e+01, -3.00000000e-03, -9.99944567e+00]),\n",
       " array([-2.00000000e-01, -1.00000000e+01, -3.00000000e-03, -9.99945425e+00]),\n",
       " array([-2.00000000e-01, -1.00000000e+01, -3.00000000e-03, -9.99946512e+00]),\n",
       " array([-2.00000000e-01, -1.00000000e+01, -3.00000000e-03, -9.99946749e+00]),\n",
       " array([-2.00000000e-01, -1.00000000e+01, -3.00000000e-03, -9.99946821e+00]),\n",
       " array([-2.00000000e-01, -1.00000000e+01, -3.00000000e-03, -9.99948052e+00]),\n",
       " array([-2.00000000e-01, -1.00000000e+01, -3.00000000e-03, -9.99949224e+00]),\n",
       " array([-2.00000000e-01, -1.00000000e+01, -3.00000000e-03, -9.99949295e+00]),\n",
       " array([-2.00000000e-01, -1.00000000e+01, -3.00000000e-03, -9.99949361e+00]),\n",
       " array([-2.00000000e-01, -1.00000000e+01, -3.00000000e-03, -9.99950443e+00]),\n",
       " array([-2.00000000e-01, -1.00000000e+01, -3.00000000e-03, -9.99950875e+00]),\n",
       " array([-2.00000000e-01, -1.00000000e+01, -3.00000000e-03, -9.99951225e+00]),\n",
       " array([-2.00000000e-01, -1.00000000e+01, -3.00000000e-03, -9.99951852e+00]),\n",
       " array([-2.00000000e-01, -1.00000000e+01, -3.00000000e-03, -9.99952408e+00]),\n",
       " array([-2.0000000e-01, -1.0000000e+01, -3.0000000e-03, -9.9995303e+00]),\n",
       " array([-2.00000000e-01, -1.00000000e+01, -3.00000000e-03, -9.99955458e+00]),\n",
       " array([-2.00000000e-01, -1.00000000e+01, -3.00000000e-03, -9.99956926e+00]),\n",
       " array([-2.00000000e-01, -1.00000000e+01, -3.00000000e-03, -9.99957324e+00]),\n",
       " array([-2.0000000e-01, -1.0000000e+01, -3.0000000e-03, -9.9995817e+00]),\n",
       " array([-2.00000000e-01, -1.00000000e+01, -3.00000000e-03, -9.99960505e+00]),\n",
       " array([-2.00000000e-01, -1.00000000e+01, -3.00000000e-03, -9.99960749e+00]),\n",
       " array([-2.00000000e-01, -1.00000000e+01, -3.00000000e-03, -9.99961042e+00]),\n",
       " array([-2.00000000e-01, -1.00000000e+01, -3.00000000e-03, -9.99961325e+00]),\n",
       " array([-2.00000000e-01, -1.00000000e+01, -3.00000000e-03, -9.99962419e+00]),\n",
       " array([-2.00000000e-01, -1.00000000e+01, -3.00000000e-03, -9.99962642e+00]),\n",
       " array([-2.00000000e-01, -1.00000000e+01, -3.00000000e-03, -9.99962968e+00]),\n",
       " array([-2.00000000e-01, -1.00000000e+01, -3.00000000e-03, -9.99963397e+00]),\n",
       " array([-2.00000000e-01, -1.00000000e+01, -3.00000000e-03, -9.99963876e+00]),\n",
       " array([-2.00000000e-01, -1.00000000e+01, -3.00000000e-03, -9.99963977e+00]),\n",
       " array([-2.00000000e-01, -1.00000000e+01, -3.00000000e-03, -9.99964435e+00]),\n",
       " array([-2.00000000e-01, -1.00000000e+01, -3.00000000e-03, -9.99964482e+00]),\n",
       " array([-2.00000000e-01, -1.00000000e+01, -3.00000000e-03, -9.99964872e+00]),\n",
       " array([-2.00000000e-01, -1.00000000e+01, -3.00000000e-03, -9.99965215e+00]),\n",
       " array([-2.00000000e-01, -1.00000000e+01, -3.00000000e-03, -9.99965556e+00]),\n",
       " array([-2.00000000e-01, -1.00000000e+01, -3.00000000e-03, -9.99966151e+00]),\n",
       " array([-2.00000000e-01, -1.00000000e+01, -3.00000000e-03, -9.99967011e+00]),\n",
       " array([-2.00000000e-01, -1.00000000e+01, -3.00000000e-03, -9.99967408e+00]),\n",
       " array([-2.00000000e-01, -1.00000000e+01, -3.00000000e-03, -9.99967945e+00]),\n",
       " array([-2.00000000e-01, -1.00000000e+01, -3.00000000e-03, -9.99968037e+00]),\n",
       " array([-2.00000000e-01, -1.00000000e+01, -3.00000000e-03, -9.99969134e+00]),\n",
       " array([-2.00000000e-01, -1.00000000e+01, -3.00000000e-03, -9.99969943e+00]),\n",
       " array([-2.00000000e-01, -1.00000000e+01, -3.00000000e-03, -9.99970264e+00]),\n",
       " array([-2.00000000e-01, -1.00000000e+01, -3.00000000e-03, -9.99970804e+00]),\n",
       " array([-2.00000000e-01, -1.00000000e+01, -3.00000000e-03, -9.99970932e+00]),\n",
       " array([-2.00000000e-01, -1.00000000e+01, -3.00000000e-03, -9.99971983e+00]),\n",
       " array([-2.00000000e-01, -1.00000000e+01, -3.00000000e-03, -9.99972023e+00]),\n",
       " array([-2.00000000e-01, -1.00000000e+01, -3.00000000e-03, -9.99972908e+00]),\n",
       " array([-2.0000000e-01, -1.0000000e+01, -3.0000000e-03, -9.9997307e+00]),\n",
       " array([-2.00000000e-01, -1.00000000e+01, -3.00000000e-03, -9.99973348e+00]),\n",
       " array([-2.00000000e-01, -1.00000000e+01, -3.00000000e-03, -9.99974522e+00]),\n",
       " array([-2.00000000e-01, -1.00000000e+01, -3.00000000e-03, -9.99974836e+00]),\n",
       " array([-2.00000000e-01, -1.00000000e+01, -3.00000000e-03, -9.99974986e+00]),\n",
       " array([-2.00000000e-01, -1.00000000e+01, -3.00000000e-03, -9.99975934e+00]),\n",
       " array([-2.00000000e-01, -1.00000000e+01, -3.00000000e-03, -9.99976494e+00]),\n",
       " array([-2.00000000e-01, -1.00000000e+01, -3.00000000e-03, -9.99976528e+00]),\n",
       " array([-2.00000000e-01, -1.00000000e+01, -3.00000000e-03, -9.99976981e+00]),\n",
       " array([-2.00000000e-01, -1.00000000e+01, -3.00000000e-03, -9.99977575e+00]),\n",
       " array([-2.00000000e-01, -1.00000000e+01, -3.00000000e-03, -9.99977882e+00]),\n",
       " array([-2.0000000e-01, -1.0000000e+01, -3.0000000e-03, -9.9997798e+00]),\n",
       " array([-2.00000000e-01, -1.00000000e+01, -3.00000000e-03, -9.99978402e+00]),\n",
       " array([-2.00000000e-01, -1.00000000e+01, -3.00000000e-03, -9.99979428e+00]),\n",
       " array([-2.00000000e-01, -1.00000000e+01, -3.00000000e-03, -9.99979878e+00]),\n",
       " array([-2.0000e-01, -1.0000e+01, -3.0000e-03, -9.9998e+00]),\n",
       " array([-2.00000000e-01, -1.00000000e+01, -3.00000000e-03, -9.99980147e+00]),\n",
       " array([-2.00000000e-01, -1.00000000e+01, -3.00000000e-03, -9.99980589e+00]),\n",
       " array([-2.00000000e-01, -1.00000000e+01, -3.00000000e-03, -9.99980645e+00]),\n",
       " array([-2.00000000e-01, -1.00000000e+01, -3.00000000e-03, -9.99981014e+00]),\n",
       " array([-2.00000000e-01, -1.00000000e+01, -3.00000000e-03, -9.99981354e+00]),\n",
       " array([-2.00000000e-01, -1.00000000e+01, -3.00000000e-03, -9.99981864e+00]),\n",
       " array([-2.0000000e-01, -1.0000000e+01, -3.0000000e-03, -9.9998217e+00]),\n",
       " array([-2.00000000e-01, -1.00000000e+01, -3.00000000e-03, -9.99982195e+00]),\n",
       " array([-2.00000000e-01, -1.00000000e+01, -3.00000000e-03, -9.99982699e+00]),\n",
       " array([-2.00000000e-01, -1.00000000e+01, -3.00000000e-03, -9.99983149e+00]),\n",
       " array([-2.00000000e-01, -1.00000000e+01, -3.00000000e-03, -9.99983303e+00]),\n",
       " array([-2.00000000e-01, -1.00000000e+01, -3.00000000e-03, -9.99983708e+00]),\n",
       " array([-2.0000000e-01, -1.0000000e+01, -3.0000000e-03, -9.9998393e+00]),\n",
       " array([-2.00000000e-01, -1.00000000e+01, -3.00000000e-03, -9.99984447e+00]),\n",
       " array([-2.00000000e-01, -1.00000000e+01, -3.00000000e-03, -9.99984469e+00]),\n",
       " array([-2.00000000e-01, -1.00000000e+01, -3.00000000e-03, -9.99984536e+00]),\n",
       " array([-2.00000000e-01, -1.00000000e+01, -3.00000000e-03, -9.99984644e+00]),\n",
       " array([-2.00000000e-01, -1.00000000e+01, -3.00000000e-03, -9.99984862e+00]),\n",
       " array([-2.00000000e-01, -1.00000000e+01, -3.00000000e-03, -9.99985523e+00]),\n",
       " array([-2.00000000e-01, -1.00000000e+01, -3.00000000e-03, -9.99985724e+00]),\n",
       " array([-2.0000000e-01, -1.0000000e+01, -3.0000000e-03, -9.9998603e+00]),\n",
       " array([-2.00000000e-01, -1.00000000e+01, -3.00000000e-03, -9.99986113e+00]),\n",
       " array([-2.00000000e-01, -1.00000000e+01, -3.00000000e-03, -9.99986132e+00]),\n",
       " array([-2.00000000e-01, -1.00000000e+01, -3.00000000e-03, -9.99986752e+00]),\n",
       " array([-2.00000000e-01, -1.00000000e+01, -3.00000000e-03, -9.99986977e+00]),\n",
       " array([-2.00000000e-01, -1.00000000e+01, -3.00000000e-03, -9.99987095e+00]),\n",
       " array([-2.00000000e-01, -1.00000000e+01, -3.00000000e-03, -9.99987229e+00]),\n",
       " array([-2.00000000e-01, -1.00000000e+01, -3.00000000e-03, -9.99987673e+00]),\n",
       " array([-2.0000000e-01, -1.0000000e+01, -3.0000000e-03, -9.9998771e+00]),\n",
       " array([-2.00000000e-01, -1.00000000e+01, -3.00000000e-03, -9.99987726e+00]),\n",
       " array([-2.00000000e-01, -1.00000000e+01, -3.00000000e-03, -9.99987776e+00]),\n",
       " array([-2.00000e-01, -1.00000e+01, -3.00000e-03, -9.99988e+00]),\n",
       " array([-2.00000000e-01, -1.00000000e+01, -3.00000000e-03, -9.99988016e+00]),\n",
       " array([-2.00000000e-01, -1.00000000e+01, -3.00000000e-03, -9.99988132e+00]),\n",
       " array([-2.0000000e-01, -1.0000000e+01, -3.0000000e-03, -9.9998823e+00]),\n",
       " array([-2.00000000e-01, -1.00000000e+01, -3.00000000e-03, -9.99988328e+00]),\n",
       " array([-2.00000000e-01, -1.00000000e+01, -3.00000000e-03, -9.99988493e+00]),\n",
       " array([-2.00000000e-01, -1.00000000e+01, -3.00000000e-03, -9.99988625e+00]),\n",
       " array([-2.00000000e-01, -1.00000000e+01, -3.00000000e-03, -9.99988929e+00]),\n",
       " array([-2.00000000e-01, -1.00000000e+01, -3.00000000e-03, -9.99989011e+00]),\n",
       " array([-2.00000000e-01, -1.00000000e+01, -3.00000000e-03, -9.99989124e+00]),\n",
       " array([-2.0000000e-01, -1.0000000e+01, -3.0000000e-03, -9.9998917e+00]),\n",
       " array([-2.00000000e-01, -1.00000000e+01, -3.00000000e-03, -9.99989292e+00]),\n",
       " array([-2.00000000e-01, -1.00000000e+01, -3.00000000e-03, -9.99989383e+00]),\n",
       " array([-2.00000000e-01, -1.00000000e+01, -3.00000000e-03, -9.99989457e+00]),\n",
       " array([-2.0000000e-01, -1.0000000e+01, -3.0000000e-03, -9.9998953e+00]),\n",
       " array([-2.00000000e-01, -1.00000000e+01, -3.00000000e-03, -9.99989898e+00]),\n",
       " array([-2.00000000e-01, -1.00000000e+01, -3.00000000e-03, -9.99989974e+00]),\n",
       " array([-2.00000000e-01, -1.00000000e+01, -3.00000000e-03, -9.99990511e+00]),\n",
       " array([-2.0000000e-01, -1.0000000e+01, -3.0000000e-03, -9.9999081e+00]),\n",
       " array([-2.00000000e-01, -1.00000000e+01, -3.00000000e-03, -9.99991011e+00]),\n",
       " array([-2.00000000e-01, -1.00000000e+01, -3.00000000e-03, -9.99991079e+00]),\n",
       " array([-2.00000000e-01, -1.00000000e+01, -3.00000000e-03, -9.99991185e+00]),\n",
       " array([-2.00000000e-01, -1.00000000e+01, -3.00000000e-03, -9.99991371e+00]),\n",
       " array([-2.00000000e-01, -1.00000000e+01, -3.00000000e-03, -9.99991501e+00]),\n",
       " array([-2.00000000e-01, -1.00000000e+01, -3.00000000e-03, -9.99991668e+00]),\n",
       " array([-2.00000000e-01, -1.00000000e+01, -3.00000000e-03, -9.99991884e+00]),\n",
       " array([-2.00000000e-01, -1.00000000e+01, -3.00000000e-03, -9.99991958e+00]),\n",
       " array([-2.0000000e-01, -1.0000000e+01, -3.0000000e-03, -9.9999214e+00]),\n",
       " array([-2.00000000e-01, -1.00000000e+01, -3.00000000e-03, -9.99992199e+00]),\n",
       " array([-2.00000000e-01, -1.00000000e+01, -3.00000000e-03, -9.99992593e+00]),\n",
       " array([-2.00000000e-01, -1.00000000e+01, -3.00000000e-03, -9.99992604e+00]),\n",
       " array([-2.00000000e-01, -1.00000000e+01, -3.00000000e-03, -9.99992625e+00]),\n",
       " array([-2.00000000e-01, -1.00000000e+01, -3.00000000e-03, -9.99992742e+00]),\n",
       " array([-2.00000000e-01, -1.00000000e+01, -3.00000000e-03, -9.99992805e+00]),\n",
       " array([-2.0000000e-01, -1.0000000e+01, -3.0000000e-03, -9.9999291e+00]),\n",
       " array([-2.00000000e-01, -1.00000000e+01, -3.00000000e-03, -9.99993233e+00]),\n",
       " array([-2.00000000e-01, -1.00000000e+01, -3.00000000e-03, -9.99993306e+00]),\n",
       " array([-2.00000000e-01, -1.00000000e+01, -3.00000000e-03, -9.99993336e+00]),\n",
       " array([-2.00000000e-01, -1.00000000e+01, -3.00000000e-03, -9.99993354e+00]),\n",
       " array([-2.00000000e-01, -1.00000000e+01, -3.00000000e-03, -9.99993489e+00]),\n",
       " array([-2.00000000e-01, -1.00000000e+01, -3.00000000e-03, -9.99993565e+00]),\n",
       " array([-2.00000000e-01, -1.00000000e+01, -3.00000000e-03, -9.99994262e+00]),\n",
       " array([-2.00000000e-01, -1.00000000e+01, -3.00000000e-03, -9.99994316e+00]),\n",
       " array([-2.00000000e-01, -1.00000000e+01, -3.00000000e-03, -9.99994582e+00]),\n",
       " array([-2.00000000e-01, -1.00000000e+01, -3.00000000e-03, -9.99995015e+00]),\n",
       " array([-2.00000000e-01, -1.00000000e+01, -3.00000000e-03, -9.99995046e+00]),\n",
       " array([-2.00000000e-01, -1.00000000e+01, -3.00000000e-03, -9.99995069e+00]),\n",
       " array([-2.00000000e-01, -1.00000000e+01, -3.00000000e-03, -9.99995225e+00]),\n",
       " array([-2.0000000e-01, -1.0000000e+01, -3.0000000e-03, -9.9999547e+00]),\n",
       " array([-2.00000000e-01, -1.00000000e+01, -3.00000000e-03, -9.99995477e+00]),\n",
       " array([-2.00000000e-01, -1.00000000e+01, -3.00000000e-03, -9.99995545e+00]),\n",
       " array([-2.00000000e-01, -1.00000000e+01, -3.00000000e-03, -9.99995571e+00]),\n",
       " array([-2.00000000e-01, -1.00000000e+01, -3.00000000e-03, -9.99995772e+00]),\n",
       " array([-2.00000000e-01, -1.00000000e+01, -3.00000000e-03, -9.99995805e+00]),\n",
       " array([-2.00000000e-01, -1.00000000e+01, -3.00000000e-03, -9.99995842e+00]),\n",
       " array([-2.00000000e-01, -1.00000000e+01, -3.00000000e-03, -9.99995904e+00]),\n",
       " array([-2.00000000e-01, -1.00000000e+01, -3.00000000e-03, -9.99995921e+00]),\n",
       " array([-2.00000000e-01, -1.00000000e+01, -3.00000000e-03, -9.99996219e+00]),\n",
       " array([-2.00000000e-01, -1.00000000e+01, -3.00000000e-03, -9.99996272e+00]),\n",
       " array([-2.0000000e-01, -1.0000000e+01, -3.0000000e-03, -9.9999637e+00]),\n",
       " array([-2.00000000e-01, -1.00000000e+01, -3.00000000e-03, -9.99996398e+00]),\n",
       " array([-2.00000000e-01, -1.00000000e+01, -3.00000000e-03, -9.99996403e+00]),\n",
       " array([-2.00000000e-01, -1.00000000e+01, -3.00000000e-03, -9.99996428e+00]),\n",
       " array([-2.00000000e-01, -1.00000000e+01, -3.00000000e-03, -9.99996463e+00]),\n",
       " array([-2.00000000e-01, -1.00000000e+01, -3.00000000e-03, -9.99996519e+00]),\n",
       " array([-2.00000000e-01, -1.00000000e+01, -3.00000000e-03, -9.99996586e+00]),\n",
       " array([-2.00000000e-01, -1.00000000e+01, -3.00000000e-03, -9.99996663e+00]),\n",
       " array([-2.00000000e-01, -1.00000000e+01, -3.00000000e-03, -9.99996683e+00]),\n",
       " array([-2.00000000e-01, -1.00000000e+01, -3.00000000e-03, -9.99996702e+00]),\n",
       " array([-2.00000000e-01, -1.00000000e+01, -3.00000000e-03, -9.99996725e+00]),\n",
       " array([-2.00000000e-01, -1.00000000e+01, -3.00000000e-03, -9.99996846e+00]),\n",
       " array([-2.00000000e-01, -1.00000000e+01, -3.00000000e-03, -9.99996885e+00]),\n",
       " array([-2.00000000e-01, -1.00000000e+01, -3.00000000e-03, -9.99996936e+00]),\n",
       " array([-2.00000000e-01, -1.00000000e+01, -3.00000000e-03, -9.99996959e+00]),\n",
       " array([-2.00000000e-01, -1.00000000e+01, -3.00000000e-03, -9.99997083e+00]),\n",
       " array([-2.00000000e-01, -1.00000000e+01, -3.00000000e-03, -9.99997097e+00]),\n",
       " array([-2.00000000e-01, -1.00000000e+01, -3.00000000e-03, -9.99997122e+00]),\n",
       " array([-2.0000000e-01, -1.0000000e+01, -3.0000000e-03, -9.9999713e+00]),\n",
       " array([-2.0000000e-01, -1.0000000e+01, -3.0000000e-03, -9.9999715e+00]),\n",
       " array([-2.00000000e-01, -1.00000000e+01, -3.00000000e-03, -9.99997225e+00]),\n",
       " array([-2.00000000e-01, -1.00000000e+01, -3.00000000e-03, -9.99997365e+00]),\n",
       " array([-2.00000000e-01, -1.00000000e+01, -3.00000000e-03, -9.99997419e+00]),\n",
       " array([-2.00000000e-01, -1.00000000e+01, -3.00000000e-03, -9.99997499e+00]),\n",
       " array([-2.00000000e-01, -1.00000000e+01, -3.00000000e-03, -9.99997503e+00]),\n",
       " array([-2.00000000e-01, -1.00000000e+01, -3.00000000e-03, -9.99997525e+00]),\n",
       " array([-2.0000000e-01, -1.0000000e+01, -3.0000000e-03, -9.9999755e+00]),\n",
       " array([-2.000000e-01, -1.000000e+01, -3.000000e-03, -9.999976e+00]),\n",
       " array([-2.00000000e-01, -1.00000000e+01, -3.00000000e-03, -9.99997685e+00]),\n",
       " array([-2.00000000e-01, -1.00000000e+01, -3.00000000e-03, -9.99997742e+00]),\n",
       " array([-2.00000000e-01, -1.00000000e+01, -3.00000000e-03, -9.99997876e+00]),\n",
       " array([-2.0000000e-01, -1.0000000e+01, -3.0000000e-03, -9.9999791e+00]),\n",
       " array([-2.00000000e-01, -1.00000000e+01, -3.00000000e-03, -9.99997958e+00]),\n",
       " array([-2.00000000e-01, -1.00000000e+01, -3.00000000e-03, -9.99997986e+00]),\n",
       " array([-2.00000000e-01, -1.00000000e+01, -3.00000000e-03, -9.99997992e+00]),\n",
       " array([-2.00000000e-01, -1.00000000e+01, -3.00000000e-03, -9.99998046e+00]),\n",
       " array([-2.00000000e-01, -1.00000000e+01, -3.00000000e-03, -9.99998055e+00]),\n",
       " array([-2.00000000e-01, -1.00000000e+01, -3.00000000e-03, -9.99998069e+00]),\n",
       " array([-2.00000000e-01, -1.00000000e+01, -3.00000000e-03, -9.99998102e+00]),\n",
       " array([-2.00000000e-01, -1.00000000e+01, -3.00000000e-03, -9.99998108e+00]),\n",
       " array([-2.00000000e-01, -1.00000000e+01, -3.00000000e-03, -9.99998184e+00]),\n",
       " array([-2.00000000e-01, -1.00000000e+01, -3.00000000e-03, -9.99998203e+00]),\n",
       " array([-2.0000000e-01, -1.0000000e+01, -3.0000000e-03, -9.9999825e+00]),\n",
       " array([-2.00000000e-01, -1.00000000e+01, -3.00000000e-03, -9.99998271e+00]),\n",
       " array([-2.00000000e-01, -1.00000000e+01, -3.00000000e-03, -9.99998289e+00]),\n",
       " array([-2.00000000e-01, -1.00000000e+01, -3.00000000e-03, -9.99998304e+00]),\n",
       " array([-2.00000000e-01, -1.00000000e+01, -3.00000000e-03, -9.99998324e+00]),\n",
       " array([-2.00000000e-01, -1.00000000e+01, -3.00000000e-03, -9.99998353e+00]),\n",
       " array([-2.00000000e-01, -1.00000000e+01, -3.00000000e-03, -9.99998373e+00]),\n",
       " array([-2.00000000e-01, -1.00000000e+01, -3.00000000e-03, -9.99998409e+00]),\n",
       " array([-2.00000000e-01, -1.00000000e+01, -3.00000000e-03, -9.99998473e+00]),\n",
       " array([-2.00000000e-01, -1.00000000e+01, -3.00000000e-03, -9.99998501e+00]),\n",
       " array([-2.00000000e-01, -1.00000000e+01, -3.00000000e-03, -9.99998506e+00]),\n",
       " array([-2.00000000e-01, -1.00000000e+01, -3.00000000e-03, -9.99998517e+00]),\n",
       " array([-2.0000000e-01, -1.0000000e+01, -3.0000000e-03, -9.9999854e+00]),\n",
       " array([-2.00000000e-01, -1.00000000e+01, -3.00000000e-03, -9.99998562e+00]),\n",
       " array([-2.00000000e-01, -1.00000000e+01, -3.00000000e-03, -9.99998568e+00]),\n",
       " array([-2.00000000e-01, -1.00000000e+01, -3.00000000e-03, -9.99998585e+00]),\n",
       " array([-2.00000000e-01, -1.00000000e+01, -3.00000000e-03, -9.99998607e+00]),\n",
       " array([-2.00000000e-01, -1.00000000e+01, -3.00000000e-03, -9.99998675e+00]),\n",
       " array([-2.00000000e-01, -1.00000000e+01, -3.00000000e-03, -9.99998681e+00]),\n",
       " array([-2.00000000e-01, -1.00000000e+01, -3.00000000e-03, -9.99998685e+00]),\n",
       " array([-2.0000000e-01, -1.0000000e+01, -3.0000000e-03, -9.9999872e+00]),\n",
       " array([-2.00000000e-01, -1.00000000e+01, -3.00000000e-03, -9.99998793e+00]),\n",
       " array([-2.00000000e-01, -1.00000000e+01, -3.00000000e-03, -9.99998795e+00]),\n",
       " array([-2.00000000e-01, -1.00000000e+01, -3.00000000e-03, -9.99998806e+00]),\n",
       " array([-2.00000000e-01, -1.00000000e+01, -3.00000000e-03, -9.99998825e+00]),\n",
       " array([-2.00000000e-01, -1.00000000e+01, -3.00000000e-03, -9.99998879e+00]),\n",
       " array([-2.00000000e-01, -1.00000000e+01, -3.00000000e-03, -9.99998904e+00]),\n",
       " array([-2.00000000e-01, -1.00000000e+01, -3.00000000e-03, -9.99998936e+00]),\n",
       " array([-2.00000000e-01, -1.00000000e+01, -3.00000000e-03, -9.99998956e+00]),\n",
       " array([-2.0000000e-01, -1.0000000e+01, -3.0000000e-03, -9.9999897e+00]),\n",
       " array([-2.00000000e-01, -1.00000000e+01, -3.00000000e-03, -9.99998975e+00]),\n",
       " array([-2.0000000e-01, -1.0000000e+01, -3.0000000e-03, -9.9999902e+00]),\n",
       " array([-2.00000000e-01, -1.00000000e+01, -3.00000000e-03, -9.99999021e+00]),\n",
       " array([-2.00000000e-01, -1.00000000e+01, -3.00000000e-03, -9.99999045e+00]),\n",
       " array([-2.00000000e-01, -1.00000000e+01, -3.00000000e-03, -9.99999056e+00]),\n",
       " array([-2.00000000e-01, -1.00000000e+01, -3.00000000e-03, -9.99999084e+00]),\n",
       " array([-2.0000000e-01, -1.0000000e+01, -3.0000000e-03, -9.9999909e+00]),\n",
       " array([-2.00000000e-01, -1.00000000e+01, -3.00000000e-03, -9.99999135e+00]),\n",
       " array([-2.00000000e-01, -1.00000000e+01, -3.00000000e-03, -9.99999138e+00]),\n",
       " array([-2.00000000e-01, -1.00000000e+01, -3.00000000e-03, -9.99999167e+00]),\n",
       " array([-2.00000000e-01, -1.00000000e+01, -3.00000000e-03, -9.99999201e+00]),\n",
       " array([-2.00000000e-01, -1.00000000e+01, -3.00000000e-03, -9.99999216e+00]),\n",
       " array([-2.00000000e-01, -1.00000000e+01, -3.00000000e-03, -9.99999224e+00]),\n",
       " array([-2.00000000e-01, -1.00000000e+01, -3.00000000e-03, -9.99999255e+00]),\n",
       " array([-2.00000000e-01, -1.00000000e+01, -3.00000000e-03, -9.99999268e+00]),\n",
       " array([-2.0000000e-01, -1.0000000e+01, -3.0000000e-03, -9.9999927e+00]),\n",
       " array([-2.00000000e-01, -1.00000000e+01, -3.00000000e-03, -9.99999286e+00]),\n",
       " array([-2.00000000e-01, -1.00000000e+01, -3.00000000e-03, -9.99999287e+00]),\n",
       " array([-2.00000000e-01, -1.00000000e+01, -3.00000000e-03, -9.99999306e+00]),\n",
       " array([-2.00000000e-01, -1.00000000e+01, -3.00000000e-03, -9.99999321e+00]),\n",
       " array([-2.00000000e-01, -1.00000000e+01, -3.00000000e-03, -9.99999341e+00]),\n",
       " array([-2.00000000e-01, -1.00000000e+01, -3.00000000e-03, -9.99999345e+00]),\n",
       " array([-2.00000000e-01, -1.00000000e+01, -3.00000000e-03, -9.99999349e+00]),\n",
       " array([-2.00000000e-01, -1.00000000e+01, -3.00000000e-03, -9.99999361e+00]),\n",
       " array([-2.00000000e-01, -1.00000000e+01, -3.00000000e-03, -9.99999362e+00]),\n",
       " array([-2.00000000e-01, -1.00000000e+01, -3.00000000e-03, -9.99999371e+00]),\n",
       " array([-2.00000000e-01, -1.00000000e+01, -3.00000000e-03, -9.99999381e+00]),\n",
       " array([-2.00000000e-01, -1.00000000e+01, -3.00000000e-03, -9.99999387e+00]),\n",
       " array([-2.00000000e-01, -1.00000000e+01, -3.00000000e-03, -9.99999387e+00]),\n",
       " array([-2.00000000e-01, -1.00000000e+01, -3.00000000e-03, -9.99999399e+00]),\n",
       " array([-2.00000000e-01, -1.00000000e+01, -3.00000000e-03, -9.99999421e+00]),\n",
       " array([-2.00000000e-01, -1.00000000e+01, -3.00000000e-03, -9.99999434e+00]),\n",
       " array([-2.0000000e-01, -1.0000000e+01, -3.0000000e-03, -9.9999944e+00]),\n",
       " array([-2.00000000e-01, -1.00000000e+01, -3.00000000e-03, -9.99999442e+00]),\n",
       " array([-2.00000000e-01, -1.00000000e+01, -3.00000000e-03, -9.99999449e+00]),\n",
       " array([-2.00000000e-01, -1.00000000e+01, -3.00000000e-03, -9.99999465e+00]),\n",
       " array([-2.00000000e-01, -1.00000000e+01, -3.00000000e-03, -9.99999468e+00]),\n",
       " array([-2.00000000e-01, -1.00000000e+01, -3.00000000e-03, -9.99999476e+00]),\n",
       " array([-2.00000000e-01, -1.00000000e+01, -3.00000000e-03, -9.99999477e+00]),\n",
       " array([-2.00000000e-01, -1.00000000e+01, -3.00000000e-03, -9.99999479e+00]),\n",
       " array([-2.0000000e-01, -1.0000000e+01, -3.0000000e-03, -9.9999948e+00]),\n",
       " array([-2.00000000e-01, -1.00000000e+01, -3.00000000e-03, -9.99999482e+00]),\n",
       " array([-2.00000000e-01, -1.00000000e+01, -3.00000000e-03, -9.99999484e+00]),\n",
       " array([-2.00000000e-01, -1.00000000e+01, -3.00000000e-03, -9.99999499e+00]),\n",
       " array([-2.00000000e-01, -1.00000000e+01, -3.00000000e-03, -9.99999511e+00]),\n",
       " array([-2.00000000e-01, -1.00000000e+01, -3.00000000e-03, -9.99999512e+00]),\n",
       " array([-2.00000000e-01, -1.00000000e+01, -3.00000000e-03, -9.99999526e+00]),\n",
       " array([-2.00000000e-01, -1.00000000e+01, -3.00000000e-03, -9.99999531e+00]),\n",
       " array([-2.0000000e-01, -1.0000000e+01, -3.0000000e-03, -9.9999956e+00]),\n",
       " array([-2.00000000e-01, -1.00000000e+01, -3.00000000e-03, -9.99999561e+00]),\n",
       " array([-2.00000000e-01, -1.00000000e+01, -3.00000000e-03, -9.99999577e+00]),\n",
       " array([-2.00000000e-01, -1.00000000e+01, -3.00000000e-03, -9.99999588e+00]),\n",
       " array([-2.00000000e-01, -1.00000000e+01, -3.00000000e-03, -9.99999588e+00]),\n",
       " array([-2.00000000e-01, -1.00000000e+01, -3.00000000e-03, -9.99999598e+00]),\n",
       " array([-2.00000000e-01, -1.00000000e+01, -3.00000000e-03, -9.99999615e+00]),\n",
       " array([-2.00000000e-01, -1.00000000e+01, -3.00000000e-03, -9.99999616e+00]),\n",
       " array([-2.00000000e-01, -1.00000000e+01, -3.00000000e-03, -9.99999627e+00]),\n",
       " array([-2.00000000e-01, -1.00000000e+01, -3.00000000e-03, -9.99999628e+00]),\n",
       " array([-2.00000000e-01, -1.00000000e+01, -3.00000000e-03, -9.99999632e+00]),\n",
       " array([-2.00000000e-01, -1.00000000e+01, -3.00000000e-03, -9.99999641e+00]),\n",
       " array([-2.00000000e-01, -1.00000000e+01, -3.00000000e-03, -9.99999644e+00]),\n",
       " array([-2.00000000e-01, -1.00000000e+01, -3.00000000e-03, -9.99999649e+00]),\n",
       " array([-2.0000000e-01, -1.0000000e+01, -3.0000000e-03, -9.9999965e+00]),\n",
       " array([-2.00000000e-01, -1.00000000e+01, -3.00000000e-03, -9.99999659e+00]),\n",
       " array([-2.00000000e-01, -1.00000000e+01, -3.00000000e-03, -9.99999662e+00]),\n",
       " array([-2.00000000e-01, -1.00000000e+01, -3.00000000e-03, -9.99999675e+00]),\n",
       " array([-2.00000000e-01, -1.00000000e+01, -3.00000000e-03, -9.99999678e+00]),\n",
       " array([-2.0000000e-01, -1.0000000e+01, -3.0000000e-03, -9.9999969e+00]),\n",
       " array([-2.00000000e-01, -1.00000000e+01, -3.00000000e-03, -9.99999695e+00]),\n",
       " array([-2.00000000e-01, -1.00000000e+01, -3.00000000e-03, -9.99999702e+00]),\n",
       " array([-2.00000000e-01, -1.00000000e+01, -3.00000000e-03, -9.99999709e+00]),\n",
       " array([-2.00000000e-01, -1.00000000e+01, -3.00000000e-03, -9.99999711e+00]),\n",
       " array([-2.00000000e-01, -1.00000000e+01, -3.00000000e-03, -9.99999712e+00]),\n",
       " array([-2.00000000e-01, -1.00000000e+01, -3.00000000e-03, -9.99999713e+00]),\n",
       " array([-2.00000000e-01, -1.00000000e+01, -3.00000000e-03, -9.99999714e+00]),\n",
       " array([-2.00000000e-01, -1.00000000e+01, -3.00000000e-03, -9.99999716e+00]),\n",
       " array([-2.00000000e-01, -1.00000000e+01, -3.00000000e-03, -9.99999731e+00]),\n",
       " array([-2.00000000e-01, -1.00000000e+01, -3.00000000e-03, -9.99999732e+00]),\n",
       " array([-2.00000000e-01, -1.00000000e+01, -3.00000000e-03, -9.99999735e+00]),\n",
       " array([-2.00000000e-01, -1.00000000e+01, -3.00000000e-03, -9.99999735e+00]),\n",
       " array([-2.00000000e-01, -1.00000000e+01, -3.00000000e-03, -9.99999737e+00]),\n",
       " array([-2.00000000e-01, -1.00000000e+01, -3.00000000e-03, -9.99999747e+00]),\n",
       " array([-2.00000000e-01, -1.00000000e+01, -3.00000000e-03, -9.99999747e+00]),\n",
       " array([-2.0000000e-01, -1.0000000e+01, -3.0000000e-03, -9.9999975e+00]),\n",
       " array([-2.00000000e-01, -1.00000000e+01, -3.00000000e-03, -9.99999752e+00]),\n",
       " array([-2.00000000e-01, -1.00000000e+01, -3.00000000e-03, -9.99999752e+00]),\n",
       " array([-2.00000000e-01, -1.00000000e+01, -3.00000000e-03, -9.99999753e+00]),\n",
       " array([-2.00000000e-01, -1.00000000e+01, -3.00000000e-03, -9.99999756e+00]),\n",
       " array([-2.00000000e-01, -1.00000000e+01, -3.00000000e-03, -9.99999757e+00]),\n",
       " array([-2.00000000e-01, -1.00000000e+01, -3.00000000e-03, -9.99999759e+00]),\n",
       " array([-2.00000000e-01, -1.00000000e+01, -3.00000000e-03, -9.99999761e+00]),\n",
       " array([-2.00000000e-01, -1.00000000e+01, -3.00000000e-03, -9.99999768e+00]),\n",
       " array([-2.00000000e-01, -1.00000000e+01, -3.00000000e-03, -9.99999769e+00]),\n",
       " array([-2.00000000e-01, -1.00000000e+01, -3.00000000e-03, -9.99999771e+00]),\n",
       " array([-2.00000000e-01, -1.00000000e+01, -3.00000000e-03, -9.99999773e+00]),\n",
       " array([-2.00000000e-01, -1.00000000e+01, -3.00000000e-03, -9.99999774e+00]),\n",
       " array([-2.00000000e-01, -1.00000000e+01, -3.00000000e-03, -9.99999774e+00]),\n",
       " array([-2.00000000e-01, -1.00000000e+01, -3.00000000e-03, -9.99999775e+00]),\n",
       " array([-2.00000000e-01, -1.00000000e+01, -3.00000000e-03, -9.99999776e+00]),\n",
       " array([-2.00000000e-01, -1.00000000e+01, -3.00000000e-03, -9.99999777e+00]),\n",
       " array([-2.00000000e-01, -1.00000000e+01, -3.00000000e-03, -9.99999778e+00]),\n",
       " array([-2.0000000e-01, -1.0000000e+01, -3.0000000e-03, -9.9999978e+00]),\n",
       " array([-2.00000000e-01, -1.00000000e+01, -3.00000000e-03, -9.99999784e+00]),\n",
       " array([-2.00000000e-01, -1.00000000e+01, -3.00000000e-03, -9.99999787e+00]),\n",
       " array([-2.00000000e-01, -1.00000000e+01, -3.00000000e-03, -9.99999787e+00]),\n",
       " array([-2.00000000e-01, -1.00000000e+01, -3.00000000e-03, -9.99999793e+00]),\n",
       " array([-2.00000000e-01, -1.00000000e+01, -3.00000000e-03, -9.99999794e+00]),\n",
       " array([-2.00000000e-01, -1.00000000e+01, -3.00000000e-03, -9.99999798e+00]),\n",
       " array([-2.00000000e-01, -1.00000000e+01, -3.00000000e-03, -9.99999801e+00]),\n",
       " array([-2.00000000e-01, -1.00000000e+01, -3.00000000e-03, -9.99999804e+00]),\n",
       " array([-2.00000000e-01, -1.00000000e+01, -3.00000000e-03, -9.99999808e+00]),\n",
       " array([-2.00000000e-01, -1.00000000e+01, -3.00000000e-03, -9.99999811e+00]),\n",
       " array([-2.00000000e-01, -1.00000000e+01, -3.00000000e-03, -9.99999811e+00]),\n",
       " array([-2.00000000e-01, -1.00000000e+01, -3.00000000e-03, -9.99999812e+00]),\n",
       " array([-2.00000000e-01, -1.00000000e+01, -3.00000000e-03, -9.99999823e+00]),\n",
       " array([-2.00000000e-01, -1.00000000e+01, -3.00000000e-03, -9.99999827e+00]),\n",
       " array([-2.0000000e-01, -1.0000000e+01, -3.0000000e-03, -9.9999983e+00]),\n",
       " array([-2.00000000e-01, -1.00000000e+01, -3.00000000e-03, -9.99999835e+00]),\n",
       " array([-2.00000000e-01, -1.00000000e+01, -3.00000000e-03, -9.99999835e+00]),\n",
       " array([-2.00000000e-01, -1.00000000e+01, -3.00000000e-03, -9.99999838e+00]),\n",
       " array([-2.00000000e-01, -1.00000000e+01, -3.00000000e-03, -9.99999842e+00]),\n",
       " array([-2.00000000e-01, -1.00000000e+01, -3.00000000e-03, -9.99999843e+00]),\n",
       " array([-2.00000000e-01, -1.00000000e+01, -3.00000000e-03, -9.99999844e+00]),\n",
       " array([-2.00000000e-01, -1.00000000e+01, -3.00000000e-03, -9.99999845e+00]),\n",
       " array([-2.0000000e-01, -1.0000000e+01, -3.0000000e-03, -9.9999985e+00]),\n",
       " array([-2.00000000e-01, -1.00000000e+01, -3.00000000e-03, -9.99999864e+00]),\n",
       " array([-2.00000000e-01, -1.00000000e+01, -3.00000000e-03, -9.99999872e+00]),\n",
       " array([-2.00000000e-01, -1.00000000e+01, -3.00000000e-03, -9.99999872e+00]),\n",
       " array([-2.00000000e-01, -1.00000000e+01, -3.00000000e-03, -9.99999876e+00]),\n",
       " array([-2.00000000e-01, -1.00000000e+01, -3.00000000e-03, -9.99999881e+00]),\n",
       " array([-2.00000000e-01, -1.00000000e+01, -3.00000000e-03, -9.99999883e+00]),\n",
       " array([-2.00000000e-01, -1.00000000e+01, -3.00000000e-03, -9.99999883e+00]),\n",
       " array([-2.00000000e-01, -1.00000000e+01, -3.00000000e-03, -9.99999886e+00]),\n",
       " array([-2.00000000e-01, -1.00000000e+01, -3.00000000e-03, -9.99999887e+00]),\n",
       " array([-2.00000000e-01, -1.00000000e+01, -3.00000000e-03, -9.99999892e+00]),\n",
       " array([-2.00000000e-01, -1.00000000e+01, -3.00000000e-03, -9.99999893e+00]),\n",
       " array([-2.00000000e-01, -1.00000000e+01, -3.00000000e-03, -9.99999894e+00]),\n",
       " array([-2.00000000e-01, -1.00000000e+01, -3.00000000e-03, -9.99999896e+00]),\n",
       " array([-2.00000000e-01, -1.00000000e+01, -3.00000000e-03, -9.99999897e+00]),\n",
       " array([-2.00000000e-01, -1.00000000e+01, -3.00000000e-03, -9.99999897e+00]),\n",
       " array([-2.00000000e-01, -1.00000000e+01, -3.00000000e-03, -9.99999899e+00]),\n",
       " array([-2.00000000e-01, -1.00000000e+01, -3.00000000e-03, -9.99999899e+00]),\n",
       " ...]"
      ]
     },
     "execution_count": 1242,
     "metadata": {},
     "output_type": "execute_result"
    }
   ],
   "source": [
    "y_list_grad_x_coup"
   ]
  },
  {
   "cell_type": "code",
   "execution_count": 1246,
   "metadata": {},
   "outputs": [
    {
     "data": {
      "text/plain": [
       "9.002177736525761"
      ]
     },
     "execution_count": 1246,
     "metadata": {},
     "output_type": "execute_result"
    }
   ],
   "source": [
    "list_norm_coup_grad_y[-1]"
   ]
  },
  {
   "cell_type": "code",
   "execution_count": null,
   "metadata": {},
   "outputs": [],
   "source": []
  },
  {
   "cell_type": "code",
   "execution_count": null,
   "metadata": {},
   "outputs": [],
   "source": []
  },
  {
   "cell_type": "code",
   "execution_count": null,
   "metadata": {},
   "outputs": [],
   "source": []
  },
  {
   "cell_type": "code",
   "execution_count": null,
   "metadata": {},
   "outputs": [],
   "source": []
  },
  {
   "cell_type": "code",
   "execution_count": null,
   "metadata": {},
   "outputs": [],
   "source": []
  },
  {
   "cell_type": "code",
   "execution_count": null,
   "metadata": {},
   "outputs": [],
   "source": []
  },
  {
   "cell_type": "markdown",
   "metadata": {},
   "source": [
    "# Large experiment"
   ]
  },
  {
   "cell_type": "code",
   "execution_count": 549,
   "metadata": {},
   "outputs": [],
   "source": [
    "L_x = 50\n",
    "L_y = 500\n",
    "mu = 0.1\n",
    "eta_x = 1/np.sqrt(mu_x*L_x)\n",
    "eta_y = (1/mu_y)*(np.sqrt(mu_x/L_x))\n",
    "alpha = np.sqrt(mu_x/L_x)\n",
    "C = 1\n",
    "K_sub = int(np.sqrt(2*C)*max(1., np.sqrt(eta_y*alpha*L_y)))\n",
    "K=10000"
   ]
  },
  {
   "cell_type": "code",
   "execution_count": 550,
   "metadata": {},
   "outputs": [
    {
     "data": {
      "text/plain": [
       "4"
      ]
     },
     "execution_count": 550,
     "metadata": {},
     "output_type": "execute_result"
    }
   ],
   "source": [
    "K_sub"
   ]
  },
  {
   "cell_type": "code",
   "execution_count": 551,
   "metadata": {},
   "outputs": [],
   "source": [
    "d_x = 100\n",
    "d_y = 10"
   ]
  },
  {
   "cell_type": "code",
   "execution_count": 552,
   "metadata": {},
   "outputs": [],
   "source": [
    "import scipy as sp\n",
    "from scipy import stats\n"
   ]
  },
  {
   "cell_type": "code",
   "execution_count": 553,
   "metadata": {},
   "outputs": [],
   "source": [
    "# diag_x = stats.truncnorm.rvs(mu,L_x, size = d_x)"
   ]
  },
  {
   "cell_type": "code",
   "execution_count": 554,
   "metadata": {},
   "outputs": [],
   "source": [
    "diag_x = np.sort(np.random.uniform(low=mu, high=L_x, size=d_x))"
   ]
  },
  {
   "cell_type": "code",
   "execution_count": 555,
   "metadata": {},
   "outputs": [],
   "source": [
    "diag_x_new = diag_x[::-1]"
   ]
  },
  {
   "cell_type": "code",
   "execution_count": 556,
   "metadata": {},
   "outputs": [],
   "source": [
    "diag_x_new[0] = L_x"
   ]
  },
  {
   "cell_type": "code",
   "execution_count": 557,
   "metadata": {},
   "outputs": [],
   "source": [
    "diag_x_new[-1] = mu"
   ]
  },
  {
   "cell_type": "code",
   "execution_count": 558,
   "metadata": {},
   "outputs": [
    {
     "data": {
      "text/plain": [
       "array([50.        , 48.7938481 , 48.77071374, 48.67510183, 48.36480821,\n",
       "       48.16148313, 47.43781238, 46.22094825, 45.89240021, 44.48358822,\n",
       "       44.30780771, 44.03727873, 43.59961311, 43.31064923, 43.14857296,\n",
       "       42.97438853, 42.05764781, 41.77286838, 40.98561158, 40.87033025,\n",
       "       40.53215092, 39.34096412, 38.6356969 , 38.48783664, 37.88438067,\n",
       "       37.81571118, 37.67915918, 37.48481092, 37.07531418, 36.42196753,\n",
       "       35.11548319, 34.83914984, 34.83403963, 34.73615442, 34.72748887,\n",
       "       34.70160286, 33.83247795, 33.43079852, 33.32376264, 33.07083642,\n",
       "       32.88309073, 30.15019034, 29.91067481, 29.82741214, 29.47511733,\n",
       "       28.80790568, 28.27191313, 28.02270568, 27.9344225 , 27.45203375,\n",
       "       26.43611487, 26.36128777, 25.02972255, 24.8273186 , 24.58242222,\n",
       "       23.71005781, 23.05106844, 22.02834874, 21.8614167 , 21.04241752,\n",
       "       20.96334737, 20.86604737, 20.78270777, 20.72141859, 20.2431712 ,\n",
       "       19.75458717, 19.7388166 , 19.52956086, 19.33364517, 19.23494509,\n",
       "       19.18886142, 18.61119363, 16.72940162, 16.37252439, 16.25288052,\n",
       "       14.4402317 , 14.43834417, 12.84648532, 12.46294205, 10.40456305,\n",
       "       10.37293198, 10.26620774, 10.05816243,  9.92242722,  7.71925293,\n",
       "        7.40316579,  7.09288123,  6.95153332,  6.91696886,  5.571652  ,\n",
       "        4.04112951,  3.89725505,  3.88479304,  3.67611225,  3.39888888,\n",
       "        3.19835796,  2.77798634,  1.51354845,  1.45989565,  0.1       ])"
      ]
     },
     "execution_count": 558,
     "metadata": {},
     "output_type": "execute_result"
    }
   ],
   "source": [
    "diag_x_new"
   ]
  },
  {
   "cell_type": "code",
   "execution_count": 559,
   "metadata": {},
   "outputs": [],
   "source": [
    "diag_y = np.sort(np.random.uniform(low=mu, high=L_y, size=d_y))"
   ]
  },
  {
   "cell_type": "code",
   "execution_count": 560,
   "metadata": {},
   "outputs": [],
   "source": [
    "# diag_y = stats.truncnorm.rvs(mu,L_y, size = d_y)"
   ]
  },
  {
   "cell_type": "code",
   "execution_count": 561,
   "metadata": {},
   "outputs": [],
   "source": [
    "diag_y_new = diag_y[::-1]"
   ]
  },
  {
   "cell_type": "code",
   "execution_count": 562,
   "metadata": {},
   "outputs": [],
   "source": [
    "diag_y_new[0] = L_y\n",
    "diag_y_new[-1] = mu"
   ]
  },
  {
   "cell_type": "code",
   "execution_count": 563,
   "metadata": {},
   "outputs": [
    {
     "data": {
      "text/plain": [
       "array([5.00000000e+02, 3.37917782e+02, 3.23988429e+02, 2.77677731e+02,\n",
       "       2.65141207e+02, 2.37457884e+02, 2.36745604e+02, 2.12149961e+02,\n",
       "       1.89345357e+02, 1.00000000e-01])"
      ]
     },
     "execution_count": 563,
     "metadata": {},
     "output_type": "execute_result"
    }
   ],
   "source": [
    "diag_y_new"
   ]
  },
  {
   "cell_type": "code",
   "execution_count": 564,
   "metadata": {},
   "outputs": [],
   "source": [
    "diag_full = np.array( list(diag_x_new) + list(diag_y_new) )"
   ]
  },
  {
   "cell_type": "code",
   "execution_count": 565,
   "metadata": {},
   "outputs": [],
   "source": [
    "A_full = np.diag(diag_full)"
   ]
  },
  {
   "cell_type": "code",
   "execution_count": 566,
   "metadata": {},
   "outputs": [],
   "source": [
    "b = np.random.uniform(low=1, high=10, size=(d_y+d_x))"
   ]
  },
  {
   "cell_type": "code",
   "execution_count": 567,
   "metadata": {},
   "outputs": [],
   "source": [
    "def quad_function(x):\n",
    "    res = 0.5*(x.T@A_full@x) - b@x\n",
    "    return res"
   ]
  },
  {
   "cell_type": "code",
   "execution_count": 568,
   "metadata": {},
   "outputs": [
    {
     "data": {
      "text/plain": [
       "1994.4372030419736"
      ]
     },
     "execution_count": 568,
     "metadata": {},
     "output_type": "execute_result"
    }
   ],
   "source": [
    "quad_function(np.ones(d_y+d_x))"
   ]
  },
  {
   "cell_type": "code",
   "execution_count": 569,
   "metadata": {},
   "outputs": [],
   "source": [
    "x_star = np.linalg.solve(A_full,b)"
   ]
  },
  {
   "cell_type": "code",
   "execution_count": 570,
   "metadata": {},
   "outputs": [
    {
     "data": {
      "text/plain": [
       "-482.64172180516664"
      ]
     },
     "execution_count": 570,
     "metadata": {},
     "output_type": "execute_result"
    }
   ],
   "source": [
    "quad_function(x_star)"
   ]
  },
  {
   "cell_type": "code",
   "execution_count": 571,
   "metadata": {},
   "outputs": [],
   "source": [
    "def grad_x_new(x,y):\n",
    "    vec = np.array(list(x)+list(y))\n",
    "    grad = A_full@vec - b\n",
    "    return grad[0:d_x]"
   ]
  },
  {
   "cell_type": "code",
   "execution_count": 572,
   "metadata": {},
   "outputs": [],
   "source": [
    "def grad_x_new_full(x):\n",
    "    grad = A_full@x - b\n",
    "    grad[d_x:(d_y+d_x)] = 0.\n",
    "    return grad"
   ]
  },
  {
   "cell_type": "code",
   "execution_count": 573,
   "metadata": {},
   "outputs": [],
   "source": [
    "def grad_y_new(x,y):\n",
    "    vec = np.array(list(x)+list(y))\n",
    "    grad = A_full@vec - b\n",
    "    return grad[d_x:(d_y+d_x)]"
   ]
  },
  {
   "cell_type": "code",
   "execution_count": 574,
   "metadata": {},
   "outputs": [],
   "source": [
    "def grad_y_new_full(x):\n",
    "    grad = A_full@x - b\n",
    "    grad[0:d_x] = 0.\n",
    "    return grad"
   ]
  },
  {
   "cell_type": "code",
   "execution_count": 575,
   "metadata": {},
   "outputs": [],
   "source": [
    "def grad_new(x):\n",
    "    grad = A_full@x - b\n",
    "    return grad\n"
   ]
  },
  {
   "cell_type": "code",
   "execution_count": 576,
   "metadata": {},
   "outputs": [],
   "source": [
    "x_0 = np.zeros(d_x)\n",
    "y_0 = np.zeros(d_y)"
   ]
  },
  {
   "cell_type": "code",
   "execution_count": 456,
   "metadata": {},
   "outputs": [
    {
     "ename": "KeyboardInterrupt",
     "evalue": "",
     "output_type": "error",
     "traceback": [
      "\u001b[0;31m---------------------------------------------------------------------------\u001b[0m",
      "\u001b[0;31mKeyboardInterrupt\u001b[0m                         Traceback (most recent call last)",
      "\u001b[0;32m<ipython-input-456-42deda7689f0>\u001b[0m in \u001b[0;36m<module>\u001b[0;34m\u001b[0m\n\u001b[0;32m----> 1\u001b[0;31m \u001b[0mx_list_large_D\u001b[0m\u001b[0;34m,\u001b[0m \u001b[0my_list_large_D\u001b[0m \u001b[0;34m=\u001b[0m \u001b[0mD_method\u001b[0m\u001b[0;34m(\u001b[0m\u001b[0mx_0\u001b[0m\u001b[0;34m,\u001b[0m\u001b[0my_0\u001b[0m\u001b[0;34m,\u001b[0m\u001b[0meta_x\u001b[0m\u001b[0;34m,\u001b[0m\u001b[0meta_y\u001b[0m\u001b[0;34m,\u001b[0m\u001b[0mgrad_x_new\u001b[0m\u001b[0;34m,\u001b[0m \u001b[0mgrad_y_new\u001b[0m\u001b[0;34m,\u001b[0m \u001b[0malpha\u001b[0m\u001b[0;34m,\u001b[0m\u001b[0mK\u001b[0m\u001b[0;34m,\u001b[0m\u001b[0mK_sub\u001b[0m\u001b[0;34m)\u001b[0m\u001b[0;34m\u001b[0m\u001b[0;34m\u001b[0m\u001b[0m\n\u001b[0m",
      "\u001b[0;32m<ipython-input-35-d01d68d43d39>\u001b[0m in \u001b[0;36mD_method\u001b[0;34m(x_0, y_0, eta_x, eta_y, grad_x, grad_y, alpha, K, K_sub)\u001b[0m\n\u001b[1;32m     22\u001b[0m \u001b[0;34m\u001b[0m\u001b[0m\n\u001b[1;32m     23\u001b[0m         \u001b[0;32mfor\u001b[0m \u001b[0mj\u001b[0m \u001b[0;32min\u001b[0m \u001b[0mrange\u001b[0m\u001b[0;34m(\u001b[0m\u001b[0mK_sub\u001b[0m\u001b[0;34m)\u001b[0m\u001b[0;34m:\u001b[0m\u001b[0;34m\u001b[0m\u001b[0;34m\u001b[0m\u001b[0m\n\u001b[0;32m---> 24\u001b[0;31m             \u001b[0my_cur_sub\u001b[0m \u001b[0;34m=\u001b[0m \u001b[0mx_cur_sub\u001b[0m \u001b[0;34m+\u001b[0m \u001b[0;34m(\u001b[0m\u001b[0mj\u001b[0m\u001b[0;34m/\u001b[0m\u001b[0;34m(\u001b[0m\u001b[0mj\u001b[0m\u001b[0;34m+\u001b[0m\u001b[0;36m2\u001b[0m\u001b[0;34m)\u001b[0m\u001b[0;34m)\u001b[0m\u001b[0;34m*\u001b[0m\u001b[0;34m(\u001b[0m\u001b[0mx_cur_sub\u001b[0m \u001b[0;34m-\u001b[0m \u001b[0mx_prev_sub\u001b[0m\u001b[0;34m)\u001b[0m\u001b[0;34m\u001b[0m\u001b[0;34m\u001b[0m\u001b[0m\n\u001b[0m\u001b[1;32m     25\u001b[0m             x_upd_sub = y_cur_sub - (1/(L_y+1/(alpha*eta_y)))*(grad_y(x_down, y_cur_sub)\\\n\u001b[1;32m     26\u001b[0m                                                                +(1/(alpha*eta_y))*(y_cur_sub-y_down))\n",
      "\u001b[0;31mKeyboardInterrupt\u001b[0m: "
     ]
    }
   ],
   "source": [
    "x_list_large_D, y_list_large_D = D_method(x_0,y_0,eta_x,eta_y,grad_x_new, grad_y_new, alpha,K,K_sub)"
   ]
  },
  {
   "cell_type": "code",
   "execution_count": 276,
   "metadata": {},
   "outputs": [
    {
     "data": {
      "text/plain": [
       "-857.0345038516891"
      ]
     },
     "execution_count": 276,
     "metadata": {},
     "output_type": "execute_result"
    }
   ],
   "source": [
    "quad_function(np.array(list(x_list_large_D[-1])+list(y_list_large_D[-1])))"
   ]
  },
  {
   "cell_type": "code",
   "execution_count": 277,
   "metadata": {},
   "outputs": [],
   "source": [
    "func_list_large_D_x = []\n",
    "for i in range(len(x_list_large_D)):\n",
    "    func_list_large_D_x.append(quad_function(np.array(list(x_list_large_D[i])+list(y_list_large_D[i]))) - quad_function(x_star))"
   ]
  },
  {
   "cell_type": "code",
   "execution_count": 278,
   "metadata": {},
   "outputs": [],
   "source": [
    "func_list_large_D_y = []\n",
    "for i in range(len(x_list_large_D)):\n",
    "    for j in range(K_sub):\n",
    "        func_list_large_D_y.append(quad_function(np.array(list(x_list_large_D[i])+list(y_list_large_D[i]))) - quad_function(x_star))"
   ]
  },
  {
   "cell_type": "code",
   "execution_count": 596,
   "metadata": {},
   "outputs": [
    {
     "data": {
      "image/png": "[encoded data removed]",
      "text/plain": [
       "<Figure size 432x288 with 1 Axes>"
      ]
     },
     "metadata": {
      "needs_background": "light"
     },
     "output_type": "display_data"
    }
   ],
   "source": [
    "# plt.plot(func_list_large_D_x[0:250],label = 'BAM_x')\n",
    "plt.plot(func_list_large_D_2_x[0:320],label = 'BAM_x',marker = 'd', markevery = 20)\n",
    "# plt.plot(func_list_large_D_y[0:4000],label = 'BAM_y')\n",
    "# plt.plot(func_list_large_D_2_y[0:4000],label = 'BAM_y')\n",
    "plt.plot(func_list_large_Nes_x[0:320], label = 'NAG',marker = 's', markevery = 20)\n",
    "plt.plot(func_list_large_coup_x[0:320], label = 'LinCoupling_x',marker = 'v', markevery = 20)\n",
    "plt.plot(func_list_large_ACDM_x[0:320], label = 'ACDM_x',marker = 'o', markevery = 20)\n",
    "plt.grid()\n",
    "plt.xlabel('# of oracle calls',fontsize=18)\n",
    "plt.ylabel('$f(x^k) - f(x^\\star)$',fontsize=18)\n",
    "plt.xticks(fontsize=14)\n",
    "plt.yticks(fontsize=14)\n",
    "plt.legend()\n",
    "plt.ylim(10**(-6),10**4)\n",
    "plt.yscale('log')\n",
    "plt.tight_layout()\n",
    "plt.savefig('10_100_x_E1_50_500.pdf')"
   ]
  },
  {
   "cell_type": "code",
   "execution_count": 600,
   "metadata": {},
   "outputs": [
    {
     "data": {
      "image/png": "[encoded data removed]",
      "text/plain": [
       "<Figure size 432x288 with 1 Axes>"
      ]
     },
     "metadata": {
      "needs_background": "light"
     },
     "output_type": "display_data"
    }
   ],
   "source": [
    "# plt.plot(func_list_large_D_x[0:4000],label = 'BAM_x')\n",
    "# plt.plot(func_list_large_D_2_x[0:2000],label = 'BAM_x',marker = 'd', markevery = 100)\n",
    "# plt.plot(func_list_large_D_y[0:4000],label = 'BAM_y')\n",
    "plt.plot(func_list_large_D_2_y[0:1200],label = 'BAM_y',marker = 'd', markevery = 100)\n",
    "plt.plot(func_list_large_Nes_x[0:1200], label = 'NAG',marker = 's', markevery = 90)\n",
    "plt.plot(func_list_large_coup_y[0:1200], label = 'LinCoupling_y',marker = 'v', markevery = 100)\n",
    "plt.plot(func_list_large_ACDM_y[0:1200], label = 'ACDM_y',marker = 'o', markevery = 90)\n",
    "plt.grid()\n",
    "plt.xlabel('# of oracle calls',fontsize=18)\n",
    "plt.ylabel('$f(x^k) - f(x^\\star)$',fontsize=18)\n",
    "plt.xticks(fontsize=14)\n",
    "plt.yticks(fontsize=14)\n",
    "plt.legend()\n",
    "plt.ylim(10**(-9),10**4)\n",
    "plt.yscale('log')\n",
    "plt.tight_layout()\n",
    "plt.savefig('10_100_y_E1_50_500.pdf')"
   ]
  },
  {
   "cell_type": "code",
   "execution_count": 577,
   "metadata": {},
   "outputs": [],
   "source": [
    "x_init = np.array(list(x_0)+list(y_0))"
   ]
  },
  {
   "cell_type": "code",
   "execution_count": 578,
   "metadata": {},
   "outputs": [],
   "source": [
    "x_list_large_Nes, y_list_large_Nes = nesterov(x_init, grad_new, L_y,mu,K)"
   ]
  },
  {
   "cell_type": "code",
   "execution_count": 579,
   "metadata": {
    "scrolled": false
   },
   "outputs": [],
   "source": [
    "func_list_large_Nes_x = []\n",
    "for i in range(len(x_list_large_Nes)):\n",
    "    func_list_large_Nes_x.append(quad_function(x_list_large_Nes[i]) - quad_function(x_star))"
   ]
  },
  {
   "cell_type": "code",
   "execution_count": 580,
   "metadata": {},
   "outputs": [],
   "source": [
    "def D_method_2(x_0, y_0, eta_x, eta_y, grad_x, grad_y, alpha, K, K_sub):\n",
    "    x_list = [x_0]\n",
    "    y_list = [y_0]\n",
    "    \n",
    "    x_0_up = x_0\n",
    "    y_0_up = y_0\n",
    "    \n",
    "    x_up_cur = x_0_up\n",
    "    y_up_cur = y_0_up\n",
    "    \n",
    "    x_cur = x_0\n",
    "    y_cur = y_0\n",
    "    \n",
    "    for i in range(K):\n",
    "        x_down = alpha*x_cur+(1-alpha)*x_up_cur\n",
    "        y_down = alpha*y_cur+(1-alpha)*y_up_cur\n",
    "        \n",
    "        \n",
    "        x_cur_sub = y_down\n",
    "        x_prev_sub = y_down\n",
    "        y_cur_sub = y_down\n",
    "        \n",
    "        for j in range(K_sub//2):\n",
    "            y_cur_sub = x_cur_sub + (j/(j+2))*(x_cur_sub - x_prev_sub)\n",
    "            x_upd_sub = y_cur_sub - (1/(L_y+1/(alpha*eta_y)))*(grad_y(x_down, y_cur_sub)\\\n",
    "                                                               +(1/(alpha*eta_y))*(y_cur_sub-y_down))\n",
    "        \n",
    "\n",
    "        \n",
    "            x_prev_sub = x_cur_sub\n",
    "            x_cur_sub = x_upd_sub\n",
    "            \n",
    "        y_up_upd = x_upd_sub\n",
    "        \n",
    "        x_cur_kim = y_up_upd\n",
    "        y_cur_kim = y_up_upd\n",
    "        theta = init_theta(K_sub//2)\n",
    "        for k in range(K_sub//2):\n",
    "            y_upd_kim = x_cur_kim - (1/L_y)*grad_y(x_cur_kim)\n",
    "            \n",
    "            x_upd_kim = y_upd_kim + (theta[i]-1)*(2*theta[i+1]-1)/(theta[i]*(2*theta[i]-1))*(y_upd_kim - y_cur_kim)\\\n",
    "            + (2*theta[i+1]-1)/(2*theta[i]-1)*(y_upd_kim - x_cur_kim)\n",
    "            \n",
    "            y_cur_kim = y_upd_kim\n",
    "            x_cur_kim = x_upd_kim\n",
    "            \n",
    "        y_up_upd = x_upd_kim\n",
    "        \n",
    "            \n",
    "            \n",
    "            \n",
    "        \n",
    "        \n",
    "        \n",
    "        \n",
    "        \n",
    "#         y_up_upd = solver(x_down, y_down, eta_y, alpha)\n",
    "        \n",
    "        x_up_upd = x_down - eta_x*alpha*grad_x(x_down, y_up_upd)\n",
    "        x_upd = (x_cur + alpha*x_down - eta_x*grad_x(x_down,y_up_upd))/(1+alpha)\n",
    "        y_upd = (y_cur+alpha*y_up_upd-eta_y*grad_y(x_down,y_up_upd))/(1+alpha)\n",
    "        \n",
    "        \n",
    "        x_list.append(x_upd)\n",
    "        y_list.append(y_upd)\n",
    "        \n",
    "        x_up_cur = x_up_upd\n",
    "        y_up_cur = y_up_upd\n",
    "        \n",
    "        x_cur = x_upd\n",
    "        y_cur = y_upd\n",
    "        \n",
    "    return x_list, y_list\n",
    "        \n",
    "        \n",
    "        \n",
    "    "
   ]
  },
  {
   "cell_type": "code",
   "execution_count": 581,
   "metadata": {},
   "outputs": [
    {
     "data": {
      "text/plain": [
       "4"
      ]
     },
     "execution_count": 581,
     "metadata": {},
     "output_type": "execute_result"
    }
   ],
   "source": [
    "K_sub "
   ]
  },
  {
   "cell_type": "code",
   "execution_count": 582,
   "metadata": {
    "scrolled": true
   },
   "outputs": [],
   "source": [
    "x_list_large_D_2, y_list_large_D_2 = D_method(x_0,y_0,eta_x,eta_y,grad_x_new, grad_y_new, alpha,K,K_sub)"
   ]
  },
  {
   "cell_type": "code",
   "execution_count": 583,
   "metadata": {},
   "outputs": [
    {
     "data": {
      "text/plain": [
       "-482.64172180516675"
      ]
     },
     "execution_count": 583,
     "metadata": {},
     "output_type": "execute_result"
    }
   ],
   "source": [
    "quad_function(np.array(list(x_list_large_D_2[-1])+list(y_list_large_D_2[-1])))"
   ]
  },
  {
   "cell_type": "code",
   "execution_count": 584,
   "metadata": {},
   "outputs": [
    {
     "data": {
      "text/plain": [
       "0.08469819349073268"
      ]
     },
     "execution_count": 584,
     "metadata": {},
     "output_type": "execute_result"
    }
   ],
   "source": [
    "x_list_large_D_2[-1][0]"
   ]
  },
  {
   "cell_type": "code",
   "execution_count": 585,
   "metadata": {},
   "outputs": [
    {
     "data": {
      "text/plain": [
       "0.17288224145308081"
      ]
     },
     "execution_count": 585,
     "metadata": {},
     "output_type": "execute_result"
    }
   ],
   "source": [
    "x_list_large_D[-1][0]"
   ]
  },
  {
   "cell_type": "code",
   "execution_count": 586,
   "metadata": {},
   "outputs": [],
   "source": [
    "func_list_large_D_2_x = []\n",
    "for i in range(len(x_list_large_D_2)):\n",
    "    func_list_large_D_2_x.append(quad_function(np.array(list(x_list_large_D_2[i])+list(y_list_large_D_2[i]))) - quad_function(x_star))"
   ]
  },
  {
   "cell_type": "code",
   "execution_count": 587,
   "metadata": {},
   "outputs": [],
   "source": [
    "func_list_large_D_2_y = []\n",
    "for i in range(len(x_list_large_D_2)):\n",
    "    for j in range(K_sub):\n",
    "        func_list_large_D_2_y.append(quad_function(np.array(list(x_list_large_D_2[i])+list(y_list_large_D_2[i]))) - quad_function(x_star))"
   ]
  },
  {
   "cell_type": "code",
   "execution_count": null,
   "metadata": {},
   "outputs": [],
   "source": []
  },
  {
   "cell_type": "code",
   "execution_count": null,
   "metadata": {},
   "outputs": [],
   "source": []
  },
  {
   "cell_type": "code",
   "execution_count": null,
   "metadata": {},
   "outputs": [],
   "source": []
  },
  {
   "cell_type": "code",
   "execution_count": 588,
   "metadata": {},
   "outputs": [],
   "source": [
    "x_list_large_lin_coup, x_list_large_grad_x_lin_coup, x_list_large_grad_y_lin_coup = linear_coupling(x_init, grad_x_new_full, grad_y_new_full, L_x, L_y, mu, K)"
   ]
  },
  {
   "cell_type": "code",
   "execution_count": null,
   "metadata": {},
   "outputs": [],
   "source": []
  },
  {
   "cell_type": "code",
   "execution_count": 589,
   "metadata": {},
   "outputs": [],
   "source": [
    "func_list_large_coup_x = []\n",
    "for i in range(len(x_list_large_grad_x_lin_coup)):\n",
    "    func_list_large_coup_x.append(quad_function(x_list_large_grad_x_lin_coup[i]) - quad_function(x_star))"
   ]
  },
  {
   "cell_type": "code",
   "execution_count": 590,
   "metadata": {},
   "outputs": [],
   "source": [
    "func_list_large_coup_y = []\n",
    "for i in range(len(x_list_large_grad_y_lin_coup)):\n",
    "    func_list_large_coup_y.append(quad_function(x_list_large_grad_y_lin_coup[i]) - quad_function(x_star))"
   ]
  },
  {
   "cell_type": "code",
   "execution_count": 591,
   "metadata": {},
   "outputs": [],
   "source": [
    "x_list_large_ACDM, my_roots, x_list_large_grad_x_ACDM, x_list_large_grad_y_ACDM = ACDM(x_init, K, L_x, L_y, 0.5, grad_x_new_full, grad_y_new_full)"
   ]
  },
  {
   "cell_type": "code",
   "execution_count": 592,
   "metadata": {},
   "outputs": [],
   "source": [
    "func_list_large_ACDM_x = []\n",
    "for i in range(len(x_list_large_grad_x_ACDM)):\n",
    "    func_list_large_ACDM_x.append(quad_function(x_list_large_grad_x_ACDM[i]) - quad_function(x_star))"
   ]
  },
  {
   "cell_type": "code",
   "execution_count": 593,
   "metadata": {},
   "outputs": [],
   "source": [
    "func_list_large_ACDM_y = []\n",
    "for i in range(len(x_list_large_grad_y_ACDM)):\n",
    "    func_list_large_ACDM_y.append(quad_function(x_list_large_grad_y_ACDM[i]) - quad_function(x_star))"
   ]
  },
  {
   "cell_type": "markdown",
   "metadata": {},
   "source": [
    "## Distance"
   ]
  },
  {
   "cell_type": "code",
   "execution_count": 1559,
   "metadata": {},
   "outputs": [],
   "source": [
    "dist_list_large_ACDM_x = []\n",
    "for i in range(len(x_list_large_grad_x_ACDM)):\n",
    "    dist_list_large_ACDM_x.append(np.linalg.norm(x_list_large_grad_x_ACDM[i] - x_star)**2)"
   ]
  },
  {
   "cell_type": "code",
   "execution_count": 1560,
   "metadata": {},
   "outputs": [],
   "source": [
    "dist_list_large_ACDM_y = []\n",
    "for i in range(len(x_list_large_grad_y_ACDM)):\n",
    "    dist_list_large_ACDM_y.append(np.linalg.norm(x_list_large_grad_y_ACDM[i] - x_star)**2)"
   ]
  },
  {
   "cell_type": "code",
   "execution_count": 1561,
   "metadata": {},
   "outputs": [],
   "source": [
    "dist_list_large_coup_x = []\n",
    "for i in range(len(x_list_large_grad_x_lin_coup)):\n",
    "    dist_list_large_coup_x.append(np.linalg.norm(x_list_large_grad_x_lin_coup[i] - x_star)**2)"
   ]
  },
  {
   "cell_type": "code",
   "execution_count": 1563,
   "metadata": {},
   "outputs": [],
   "source": [
    "dist_list_large_coup_y = []\n",
    "for i in range(len(x_list_large_grad_y_lin_coup)):\n",
    "    dist_list_large_coup_y.append(np.linalg.norm(x_list_large_grad_y_lin_coup[i] - x_star)**2)"
   ]
  },
  {
   "cell_type": "code",
   "execution_count": 1564,
   "metadata": {},
   "outputs": [],
   "source": [
    "dist_list_large_D_2_x = []\n",
    "for i in range(len(x_list_large_D_2)):\n",
    "    dist_list_large_D_2_x.append(np.linalg.norm(np.array(list(x_list_large_D_2[i])+list(y_list_large_D_2[i])) - x_star))"
   ]
  },
  {
   "cell_type": "code",
   "execution_count": 1565,
   "metadata": {},
   "outputs": [],
   "source": [
    "dist_list_large_D_2_y = []\n",
    "for i in range(len(x_list_large_D_2)):\n",
    "    for j in range(K_sub):\n",
    "        dist_list_large_D_2_y.append(np.linalg.norm(np.array(list(x_list_large_D_2[i])+list(y_list_large_D_2[i])) - x_star))"
   ]
  },
  {
   "cell_type": "code",
   "execution_count": 1566,
   "metadata": {},
   "outputs": [],
   "source": [
    "dist_list_large_Nes_x = []\n",
    "for i in range(len(x_list_large_Nes)):\n",
    "    dist_list_large_Nes_x.append(np.linalg.norm(x_list_large_Nes[i] - x_star))"
   ]
  },
  {
   "cell_type": "code",
   "execution_count": 1567,
   "metadata": {},
   "outputs": [
    {
     "data": {
      "image/png": "[encoded data removed]",
      "text/plain": [
       "<Figure size 432x288 with 1 Axes>"
      ]
     },
     "metadata": {
      "needs_background": "light"
     },
     "output_type": "display_data"
    }
   ],
   "source": []
  },
  {
   "cell_type": "code",
   "execution_count": null,
   "metadata": {},
   "outputs": [],
   "source": []
  },
  {
   "cell_type": "markdown",
   "metadata": {},
   "source": [
    "## Log-regression "
   ]
  },
  {
   "cell_type": "code",
   "execution_count": 797,
   "metadata": {},
   "outputs": [],
   "source": [
    "import matplotlib\n",
    "import numpy as np\n",
    "import psutil\n",
    "import ray\n",
    "import seaborn as sns\n",
    "import copy\n",
    "\n",
    "import matplotlib.pyplot as plt\n",
    "import numpy.linalg as la\n",
    "from scipy.sparse import csc_matrix, csr_matrix\n",
    "from sklearn.datasets import load_svmlight_file, fetch_rcv1\n",
    "\n",
    "from optmethods.datasets import get_dataset\n",
    "from optmethods.first_order import Adgd, Gd, Nesterov, RestNest\n",
    "from optmethods.loss import LogisticRegression\n",
    "from optmethods.utils import get_trace, relative_round"
   ]
  },
  {
   "cell_type": "code",
   "execution_count": 798,
   "metadata": {},
   "outputs": [
    {
     "name": "stdout",
     "output_type": "stream",
     "text": [
      "1605 119\n"
     ]
    }
   ],
   "source": [
    "import sklearn.datasets\n",
    "import urllib.request\n",
    "# bs = 1\n",
    "# w8a_url = \"https://www.csie.ntu.edu.tw/~cjlin/libsvmtools/datasets/binary/w8a\"\n",
    "a1a_url = \"https://www.csie.ntu.edu.tw/~cjlin/libsvmtools/datasets/binary/a1a\"\n",
    "data_path = './a1a'\n",
    "# f = urllib.request.urlretrieve(w8a_url, data_path)\n",
    "f = urllib.request.urlretrieve(a1a_url, data_path)\n",
    "A, b = sklearn.datasets.load_svmlight_file(data_path)\n",
    "\n",
    "n, dim = A.shape  # \\# of data and dimension for each data: 49749, 300\n",
    "print(n, dim)\n",
    "# if n % num_cpus != 0:\n",
    "#     A = A[:n - (n % num_cpus)]\n",
    "#     b = b[:n - (n % num_cpus)]\n",
    "\n",
    "A = A.toarray()\n",
    "l1 = 0\n",
    "loss = LogisticRegression(A, b, l1=l1, l2=0)\n",
    "# n, dim = A.shape\n",
    "# if n <= 20000 or dim <= 20000:\n",
    "#     print('Computing the smoothness constant via SVD, it may take a few minutes...')\n",
    "L = loss.smoothness\n",
    "# L_batch = loss.batch_smoothness(bs)\n",
    "# L_max = loss.max_smoothness\n",
    "# # l2 = 0\n",
    "# l2 = 1e-4 * L       # here we choose the regularizer to be 1e-5, in paper 1e-4\n",
    "# loss.l2 = l2"
   ]
  },
  {
   "cell_type": "code",
   "execution_count": null,
   "metadata": {},
   "outputs": [],
   "source": []
  },
  {
   "cell_type": "code",
   "execution_count": 800,
   "metadata": {},
   "outputs": [],
   "source": [
    "b_unique = np.unique(b)\n",
    "if (b_unique == [1, 2]).all():\n",
    "    # Transform labels {1, 2} to {0, 1}\n",
    "    b = b - 1\n",
    "elif (b_unique == [-1, 1]).all():\n",
    "    # Transform labels {-1, 1} to {0, 1}\n",
    "    b = (b+1) / 2\n",
    "else:\n",
    "    # replace class labels with 0's and 1's\n",
    "    b = 1. * (b == b[0])"
   ]
  },
  {
   "cell_type": "code",
   "execution_count": 801,
   "metadata": {},
   "outputs": [],
   "source": [
    "# from sklearn.datasets import make_classification"
   ]
  },
  {
   "cell_type": "code",
   "execution_count": 802,
   "metadata": {},
   "outputs": [],
   "source": [
    "# np.random.seed(42)\n",
    "# n = 1000\n",
    "# d = 110\n",
    "\n",
    "# A, b = make_classification(n_samples = n, n_features=d, n_redundant=0, n_informative=3, n_clusters_per_class=1)"
   ]
  },
  {
   "cell_type": "code",
   "execution_count": 803,
   "metadata": {},
   "outputs": [],
   "source": [
    "b = 2*b-1"
   ]
  },
  {
   "cell_type": "code",
   "execution_count": 804,
   "metadata": {},
   "outputs": [
    {
     "data": {
      "text/plain": [
       "array([-1.,  1.])"
      ]
     },
     "execution_count": 804,
     "metadata": {},
     "output_type": "execute_result"
    }
   ],
   "source": [
    "np.unique(b)"
   ]
  },
  {
   "cell_type": "code",
   "execution_count": 736,
   "metadata": {},
   "outputs": [],
   "source": [
    "# L_max = 0\n",
    "# mu = 0.1\n",
    "# for j in range(n):\n",
    "#     q = A[j].T @ A[j]\n",
    "#     L_i = (q**2)/4 + mu\n",
    "#     if L_max < L_i:\n",
    "#         L_max = L_i"
   ]
  },
  {
   "cell_type": "code",
   "execution_count": 737,
   "metadata": {},
   "outputs": [
    {
     "data": {
      "text/plain": [
       "7171.155269050156"
      ]
     },
     "execution_count": 737,
     "metadata": {},
     "output_type": "execute_result"
    }
   ],
   "source": [
    "# L_max"
   ]
  },
  {
   "cell_type": "code",
   "execution_count": 805,
   "metadata": {},
   "outputs": [],
   "source": [
    "d_x = 100\n",
    "d_y = dim - d_x"
   ]
  },
  {
   "cell_type": "code",
   "execution_count": 806,
   "metadata": {},
   "outputs": [
    {
     "data": {
      "text/plain": [
       "1.567157518045339"
      ]
     },
     "execution_count": 806,
     "metadata": {},
     "output_type": "execute_result"
    }
   ],
   "source": [
    "L"
   ]
  },
  {
   "cell_type": "code",
   "execution_count": 807,
   "metadata": {},
   "outputs": [
    {
     "data": {
      "text/plain": [
       "19"
      ]
     },
     "execution_count": 807,
     "metadata": {},
     "output_type": "execute_result"
    }
   ],
   "source": [
    "d_y"
   ]
  },
  {
   "cell_type": "code",
   "execution_count": 1080,
   "metadata": {},
   "outputs": [],
   "source": [
    "mu_x = 0.01\n",
    "mu_y = 0.002"
   ]
  },
  {
   "cell_type": "code",
   "execution_count": 1081,
   "metadata": {},
   "outputs": [
    {
     "data": {
      "text/plain": [
       "119"
      ]
     },
     "execution_count": 1081,
     "metadata": {},
     "output_type": "execute_result"
    }
   ],
   "source": [
    "dim "
   ]
  },
  {
   "cell_type": "code",
   "execution_count": 1082,
   "metadata": {},
   "outputs": [],
   "source": [
    "import copy"
   ]
  },
  {
   "cell_type": "code",
   "execution_count": 1083,
   "metadata": {},
   "outputs": [],
   "source": [
    "def func(x, i, A, b, mu_x, mu_y): \n",
    "    return np.log(1+np.exp(-b[i]*(A[i].T @ x))) + mu_x/2 * x[0:d_x].T @ x[0:d_x]+ mu_y/2 * x[d_x:dim].T@x[d_x:dim]\n",
    "\n",
    "def nabla_func(x, i, A, b, mu_x, mu_y):\n",
    "    vec_x = copy.deepcopy(x)\n",
    "    vec_x[d_x:dim] = 0\n",
    "    vec_y = copy.deepcopy(x)\n",
    "    vec_y[0:d_x] = 0\n",
    "#     print(x)\n",
    "#     print(vec_x)\n",
    "#     print(vec_y)\n",
    "    return mu_x*vec_x+mu_y*vec_y - 1/(1 + np.exp(b[i]*(A[i].T @ x))) *b[i] * A[i]\n",
    "\n",
    "def Func(x):\n",
    "    s = 0\n",
    "    for i in range(n):\n",
    "        s += func(x, i, A, b, mu_x, mu_y)\n",
    "    return s/n\n",
    "\n",
    "def nabla_Func(x):\n",
    "    s = np.zeros(dim)\n",
    "    for i in range(n):\n",
    "        s += nabla_func(x, i, A, b, mu_x, mu_y)\n",
    "    return s/n"
   ]
  },
  {
   "cell_type": "code",
   "execution_count": 1084,
   "metadata": {},
   "outputs": [],
   "source": [
    "x = np.ones(dim)"
   ]
  },
  {
   "cell_type": "code",
   "execution_count": 1085,
   "metadata": {},
   "outputs": [
    {
     "data": {
      "text/plain": [
       "100.0"
      ]
     },
     "execution_count": 1085,
     "metadata": {},
     "output_type": "execute_result"
    }
   ],
   "source": [
    "x[0:d_x].T@x[0:d_x]"
   ]
  },
  {
   "cell_type": "code",
   "execution_count": 1086,
   "metadata": {},
   "outputs": [
    {
     "data": {
      "text/plain": [
       "19.0"
      ]
     },
     "execution_count": 1086,
     "metadata": {},
     "output_type": "execute_result"
    }
   ],
   "source": [
    "x[d_x:dim].T@x[d_x:dim]"
   ]
  },
  {
   "cell_type": "code",
   "execution_count": 1087,
   "metadata": {},
   "outputs": [
    {
     "data": {
      "text/plain": [
       "10.949530767067627"
      ]
     },
     "execution_count": 1087,
     "metadata": {},
     "output_type": "execute_result"
    }
   ],
   "source": [
    "Func(np.ones(dim))"
   ]
  },
  {
   "cell_type": "code",
   "execution_count": 1088,
   "metadata": {},
   "outputs": [],
   "source": [
    "def nabla_Func_x(x,y):\n",
    "    vec = np.array(list(x)+list(y))\n",
    "    s = np.zeros(dim)\n",
    "    for i in range(n):\n",
    "        s += nabla_func(vec, i, A, b, mu_x, mu_y)\n",
    "    res = s/n\n",
    "    return res[0:d_x]"
   ]
  },
  {
   "cell_type": "code",
   "execution_count": 1089,
   "metadata": {},
   "outputs": [],
   "source": [
    "def nabla_Func_y(x,y):\n",
    "    vec = np.array(list(x)+list(y))\n",
    "    s = np.zeros(dim)\n",
    "    for i in range(n):\n",
    "        s += nabla_func(vec, i, A, b, mu_x, mu_y)\n",
    "    res = s/n\n",
    "    return res[d_x:dim]"
   ]
  },
  {
   "cell_type": "code",
   "execution_count": 1090,
   "metadata": {},
   "outputs": [],
   "source": [
    "def nabla_Func_y_full(x):\n",
    "    s = np.zeros(dim)\n",
    "    for i in range(n):\n",
    "        s += nabla_func(x, i, A, b, mu_x, mu_y)\n",
    "    res = s/n\n",
    "    res[0:d_x] = 0\n",
    "    return mu_x/mu_y*res"
   ]
  },
  {
   "cell_type": "code",
   "execution_count": 1091,
   "metadata": {},
   "outputs": [
    {
     "data": {
      "text/plain": [
       "array([0.01623052, 0.01934577, 0.09722734, 0.01      , 0.01311526,\n",
       "       0.01311526, 0.01934579, 0.01311526, 0.01311526, 0.01934578,\n",
       "       0.01      , 0.01623052, 0.01311526, 0.02869157, 0.01311526,\n",
       "       0.01      , 0.01623052, 0.01      , 0.0349221 ])"
      ]
     },
     "execution_count": 1091,
     "metadata": {},
     "output_type": "execute_result"
    }
   ],
   "source": [
    "nabla_Func_y_full(np.ones(dim))[d_x:dim]"
   ]
  },
  {
   "cell_type": "code",
   "execution_count": 1092,
   "metadata": {},
   "outputs": [],
   "source": [
    "def nabla_Func_x_full(x):\n",
    "    s = np.zeros(dim)\n",
    "    for i in range(n):\n",
    "        s += nabla_func(x, i, A, b, mu_x, mu_y)\n",
    "    res = s/n\n",
    "    res[d_x:dim] = 0\n",
    "    return res"
   ]
  },
  {
   "cell_type": "code",
   "execution_count": 1093,
   "metadata": {},
   "outputs": [
    {
     "data": {
      "text/plain": [
       "array([0.19878477, 0.17386273, 0.15579419, 0.12464156, 0.15080966,\n",
       "       0.53959444, 0.07043606, 0.02682239, 0.02246104, 0.05610586,\n",
       "       0.04364482, 0.01      , 0.01062305, 0.16077859, 0.15766332,\n",
       "       0.15890943, 0.16700911, 0.15953246, 0.10470388, 0.19006205,\n",
       "       0.0448909 , 0.28725817, 0.0137383 , 0.03803735, 0.03242986,\n",
       "       0.0255763 , 0.02993767, 0.01872273, 0.03118376, 0.01436136,\n",
       "       0.03242987, 0.0124922 , 0.02495325, 0.01311526, 0.13398735,\n",
       "       0.28725817, 0.19006205, 0.06046721, 0.13211813, 0.26981257,\n",
       "       0.12277245, 0.32339522, 0.03741429, 0.03803735, 0.02183798,\n",
       "       0.01062305, 0.02993767, 0.10470395, 0.10532702, 0.09535815,\n",
       "       0.06482856, 0.08601235, 0.04676009, 0.06109029, 0.09847343,\n",
       "       0.03928346, 0.05735198, 0.01436137, 0.02557631, 0.01      ,\n",
       "       0.03367595, 0.15205585, 0.2411522 , 0.24925204, 0.04364482,\n",
       "       0.09411204, 0.64364387, 0.03180682, 0.02495325, 0.01373831,\n",
       "       0.08975065, 0.28975039, 0.48414252, 0.72962508, 0.04426783,\n",
       "       0.73460948, 0.03928343, 0.16950126, 0.06482859, 0.36451661,\n",
       "       0.05485975, 0.15018669, 0.67915783, 0.0112461 , 0.01311526,\n",
       "       0.01498442, 0.01373831, 0.01249221, 0.01      , 0.01249221,\n",
       "       0.01      , 0.01062305, 0.01249221, 0.0112461 , 0.01186915,\n",
       "       0.01      , 0.01062305, 0.01062305, 0.0112461 , 0.01373831])"
      ]
     },
     "execution_count": 1093,
     "metadata": {},
     "output_type": "execute_result"
    }
   ],
   "source": [
    "nabla_Func_x_full(np.ones(dim))[0:d_x]"
   ]
  },
  {
   "cell_type": "code",
   "execution_count": 1094,
   "metadata": {},
   "outputs": [],
   "source": [
    "L_x = L\n",
    "L_y = L\n",
    "mu_x = 0.01\n",
    "mu_y = 0.002\n",
    "eta_x = 1/np.sqrt(mu_x*L_x)\n",
    "eta_y = (1/mu_y)*(np.sqrt(mu_x/L_x))\n",
    "alpha = np.sqrt(mu_x/L_x)\n",
    "C = 1\n",
    "K_sub = int(np.sqrt(2*C)*max(1., np.sqrt(eta_y*alpha*L_y)))\n",
    "K=10000"
   ]
  },
  {
   "cell_type": "code",
   "execution_count": 1095,
   "metadata": {},
   "outputs": [
    {
     "data": {
      "text/plain": [
       "3"
      ]
     },
     "execution_count": 1095,
     "metadata": {},
     "output_type": "execute_result"
    }
   ],
   "source": [
    "K_sub"
   ]
  },
  {
   "cell_type": "code",
   "execution_count": 1096,
   "metadata": {},
   "outputs": [],
   "source": [
    "x_0 = np.zeros(d_x)\n",
    "y_0 = np.zeros(dim-d_x)"
   ]
  },
  {
   "cell_type": "code",
   "execution_count": 1097,
   "metadata": {},
   "outputs": [],
   "source": [
    "x_init = np.array(list(x_0)+list(y_0))"
   ]
  },
  {
   "cell_type": "code",
   "execution_count": 1099,
   "metadata": {},
   "outputs": [],
   "source": [
    "K=2000"
   ]
  },
  {
   "cell_type": "code",
   "execution_count": 1100,
   "metadata": {},
   "outputs": [],
   "source": [
    "x_list_large_Nes, y_list_large_Nes = nesterov(x_init, nabla_Func, L_y,mu_y,K)"
   ]
  },
  {
   "cell_type": "code",
   "execution_count": 1101,
   "metadata": {},
   "outputs": [],
   "source": [
    "# nabla_Func(x_list_large_Nes[2]) "
   ]
  },
  {
   "cell_type": "code",
   "execution_count": 1010,
   "metadata": {},
   "outputs": [],
   "source": [
    "dist_list_large_Nes_x = []\n",
    "for i in range(len(x_list_large_Nes)):\n",
    "    dist_list_large_Nes_x.append(np.linalg.norm(x_list_large_Nes[i] - x_list_large_Nes[-1])**2)"
   ]
  },
  {
   "cell_type": "code",
   "execution_count": 1102,
   "metadata": {},
   "outputs": [],
   "source": [
    "func_list_large_Nes_x = []\n",
    "for i in range(len(x_list_large_Nes)):\n",
    "    func_list_large_Nes_x.append(Func(x_list_large_Nes[i]) - Func(x_list_large_Nes[-1]))"
   ]
  },
  {
   "cell_type": "code",
   "execution_count": 898,
   "metadata": {
    "scrolled": true
   },
   "outputs": [
    {
     "data": {
      "image/png": "[encoded data removed]",
      "text/plain": [
       "<Figure size 432x288 with 1 Axes>"
      ]
     },
     "metadata": {
      "needs_background": "light"
     },
     "output_type": "display_data"
    }
   ],
   "source": [
    "plt.plot(func_list_large_Nes_x[0:300])\n",
    "plt.plot(func_list_large_D_2_x[0:300])\n",
    "# plt.plot(func_list_large_D_2_y[0:300])\n",
    "plt.plot(func_list_large_coup_x[0:300])\n",
    "plt.plot(func_list_large_ACDM_x[0:300])\n",
    "plt.yscale('log')"
   ]
  },
  {
   "cell_type": "code",
   "execution_count": 712,
   "metadata": {},
   "outputs": [
    {
     "data": {
      "text/plain": [
       "0.15693407225951106"
      ]
     },
     "execution_count": 712,
     "metadata": {},
     "output_type": "execute_result"
    }
   ],
   "source": [
    "func_list_large_Nes_x[0]"
   ]
  },
  {
   "cell_type": "code",
   "execution_count": 796,
   "metadata": {},
   "outputs": [
    {
     "name": "stdout",
     "output_type": "stream",
     "text": [
      "[1. 1. 1. 1. 1. 1. 1. 1. 1. 1. 1. 1. 1. 1. 1. 1. 1. 1. 1. 1. 1. 1. 1. 1.\n",
      " 1. 1. 1. 1. 1. 1. 1. 1. 1. 1. 1. 1. 1. 1. 1. 1. 1. 1. 1. 1. 1. 1. 1. 1.\n",
      " 1. 1. 1. 1. 1. 1. 1. 1. 1. 1. 1. 1. 1. 1. 1. 1. 1. 1. 1. 1. 1. 1. 1. 1.\n",
      " 1. 1. 1. 1. 1. 1. 1. 1. 1. 1. 1. 1. 1. 1. 1. 1. 1. 1. 1. 1. 1. 1. 1. 1.\n",
      " 1. 1. 1. 1. 1. 1. 1. 1. 1. 1. 1. 1. 1. 1.]\n",
      "[1. 1. 1. 1. 1. 1. 1. 1. 1. 1. 1. 1. 1. 1. 1. 1. 1. 1. 1. 1. 1. 1. 1. 1.\n",
      " 1. 1. 1. 1. 1. 1. 1. 1. 1. 1. 1. 1. 1. 1. 1. 1. 1. 1. 1. 1. 1. 1. 1. 1.\n",
      " 1. 1. 1. 1. 1. 1. 1. 1. 1. 1. 1. 1. 1. 1. 1. 1. 1. 1. 1. 1. 1. 1. 1. 1.\n",
      " 1. 1. 1. 1. 1. 1. 1. 1. 1. 1. 1. 1. 1. 1. 1. 1. 1. 1. 1. 1. 1. 1. 1. 1.\n",
      " 1. 1. 1. 1. 0. 0. 0. 0. 0. 0. 0. 0. 0. 0.]\n",
      "[0. 0. 0. 0. 0. 0. 0. 0. 0. 0. 0. 0. 0. 0. 0. 0. 0. 0. 0. 0. 0. 0. 0. 0.\n",
      " 0. 0. 0. 0. 0. 0. 0. 0. 0. 0. 0. 0. 0. 0. 0. 0. 0. 0. 0. 0. 0. 0. 0. 0.\n",
      " 0. 0. 0. 0. 0. 0. 0. 0. 0. 0. 0. 0. 0. 0. 0. 0. 0. 0. 0. 0. 0. 0. 0. 0.\n",
      " 0. 0. 0. 0. 0. 0. 0. 0. 0. 0. 0. 0. 0. 0. 0. 0. 0. 0. 0. 0. 0. 0. 0. 0.\n",
      " 0. 0. 0. 0. 1. 1. 1. 1. 1. 1. 1. 1. 1. 1.]\n"
     ]
    }
   ],
   "source": [
    "a_a = nabla_func(np.ones(dim), 1, A, b, mu_x, mu_y)"
   ]
  },
  {
   "cell_type": "code",
   "execution_count": 788,
   "metadata": {},
   "outputs": [],
   "source": [
    "b_b = nabla_func(np.zeros(dim)*2, 1, A, b, mu_x, mu_y)"
   ]
  },
  {
   "cell_type": "code",
   "execution_count": 784,
   "metadata": {},
   "outputs": [
    {
     "data": {
      "text/plain": [
       "array([-0.3405897 ,  1.11288559, -0.02328927, -0.23335725, -1.00424222,\n",
       "        1.4854676 ,  0.25283585,  0.41944524, -0.31187712,  0.90265403,\n",
       "        0.19547436,  0.41324034,  0.62415922, -0.3504869 ,  0.10062047,\n",
       "       -0.18288421, -0.19498324,  0.92029146,  0.28011724,  0.06336012,\n",
       "        0.35373044,  0.76695829,  0.17609837,  0.54895238, -0.28581234,\n",
       "        0.22256567,  0.6650391 ,  0.0574466 , -0.24763989, -0.01596344,\n",
       "        0.6416675 , -0.43054525,  0.22996761, -0.01447422, -0.293312  ,\n",
       "       -0.61989027, -0.41891466,  0.22771315,  0.16701101,  0.38833251,\n",
       "       -0.16418011,  0.68046533, -0.01955365, -0.57631044, -0.34058061,\n",
       "        0.46037372,  0.11921801, -0.22998171,  0.04989315, -0.64485965,\n",
       "       -0.24042688,  0.63277441, -0.02261923, -0.05109069, -0.59898731,\n",
       "       -0.20345291,  0.42524838, -0.14318189, -0.17352701,  0.49539597,\n",
       "        0.39644001, -0.47806451, -0.3433977 , -0.35009516,  0.10221685,\n",
       "       -0.43971803, -0.25624133, -0.17740556, -0.47153644,  0.44405379,\n",
       "       -0.23840534, -0.60719308,  0.29037899, -0.41655513, -0.32509172,\n",
       "        1.02567428, -0.14456613, -0.36848667, -0.7313662 , -0.02531246,\n",
       "       -0.3556651 ,  0.36309248, -0.36635998, -0.59296016,  0.13896519,\n",
       "        0.10913034, -0.14512813,  0.29648026,  0.81846693,  0.04792444,\n",
       "       -0.05920596, -0.19972057, -0.12101072, -0.3128681 ,  0.80176754,\n",
       "        0.90368945,  0.05917703, -0.36759016, -0.16257701,  0.00443409,\n",
       "       -0.2935399 ,  0.270844  ,  0.50621023,  0.10362812, -0.43211784,\n",
       "       -0.80289041, -0.18740125, -1.15634873,  0.25917686, -0.17333715])"
      ]
     },
     "execution_count": 784,
     "metadata": {},
     "output_type": "execute_result"
    }
   ],
   "source": [
    "a_a"
   ]
  },
  {
   "cell_type": "code",
   "execution_count": 789,
   "metadata": {},
   "outputs": [
    {
     "data": {
      "text/plain": [
       "array([-0.3405897 ,  1.11288559, -0.02328927, -0.23335725, -1.00424222,\n",
       "        1.4854676 ,  0.25283585,  0.41944524, -0.31187712,  0.90265403,\n",
       "        0.19547436,  0.41324034,  0.62415922, -0.3504869 ,  0.10062047,\n",
       "       -0.18288421, -0.19498324,  0.92029146,  0.28011724,  0.06336012,\n",
       "        0.35373044,  0.76695829,  0.17609837,  0.54895238, -0.28581234,\n",
       "        0.22256567,  0.6650391 ,  0.0574466 , -0.24763989, -0.01596344,\n",
       "        0.6416675 , -0.43054525,  0.22996761, -0.01447422, -0.293312  ,\n",
       "       -0.61989027, -0.41891466,  0.22771315,  0.16701101,  0.38833251,\n",
       "       -0.16418011,  0.68046533, -0.01955365, -0.57631044, -0.34058061,\n",
       "        0.46037372,  0.11921801, -0.22998171,  0.04989315, -0.64485965,\n",
       "       -0.24042688,  0.63277441, -0.02261923, -0.05109069, -0.59898731,\n",
       "       -0.20345291,  0.42524838, -0.14318189, -0.17352701,  0.49539597,\n",
       "        0.39644001, -0.47806451, -0.3433977 , -0.35009516,  0.10221685,\n",
       "       -0.43971803, -0.25624133, -0.17740556, -0.47153644,  0.44405379,\n",
       "       -0.23840534, -0.60719308,  0.29037899, -0.41655513, -0.32509172,\n",
       "        1.02567428, -0.14456613, -0.36848667, -0.7313662 , -0.02531246,\n",
       "       -0.3556651 ,  0.36309248, -0.36635998, -0.59296016,  0.13896519,\n",
       "        0.10913034, -0.14512813,  0.29648026,  0.81846693,  0.04792444,\n",
       "       -0.05920596, -0.19972057, -0.12101072, -0.3128681 ,  0.80176754,\n",
       "        0.90368945,  0.05917703, -0.36759016, -0.16257701,  0.00443409,\n",
       "       -0.2935399 ,  0.270844  ,  0.50621023,  0.10362812, -0.43211784,\n",
       "       -0.80289041, -0.18740125, -1.15634873,  0.25917686, -0.17333715])"
      ]
     },
     "execution_count": 789,
     "metadata": {},
     "output_type": "execute_result"
    }
   ],
   "source": [
    "b_b"
   ]
  },
  {
   "cell_type": "code",
   "execution_count": 787,
   "metadata": {},
   "outputs": [
    {
     "data": {
      "text/plain": [
       "array([ 0.22190704,  0.47348441,  0.42638692,  0.45967525, -0.57621671,\n",
       "        0.0196707 , -0.21197556, -0.26469819, -0.20647436, -0.39682769,\n",
       "        0.01166377, -0.15762562,  1.16830835, -0.07845375,  0.26748928,\n",
       "        0.41222045,  0.6808226 , -0.03105697, -0.62341665,  0.25831901,\n",
       "        1.23731867,  0.64000458,  0.14531259, -0.48185666, -0.2759261 ,\n",
       "       -0.57132918, -0.89286282, -0.10975393, -0.25100237,  0.03807151,\n",
       "       -0.87366025,  0.47638262,  0.12891207,  0.17281052, -0.47055379,\n",
       "        0.25750321, -0.0224942 ,  0.69164946,  0.61462058, -0.43245521,\n",
       "       -0.58801459,  0.22495923, -0.79987279,  0.05620287, -0.24777664,\n",
       "        0.37442925, -0.45451239,  0.46684307,  0.12889614,  0.7402705 ,\n",
       "        0.38542668,  1.2965222 , -0.11352091, -0.07634518, -0.17814799,\n",
       "        0.53051332,  0.25109539, -0.25159448, -0.48142709, -0.50951847,\n",
       "        0.02013009,  0.03818505, -0.38906002, -0.65379172,  0.58773513,\n",
       "        0.32961423, -0.37857384, -0.14609201,  0.06790597,  0.8552482 ,\n",
       "       -0.63069156,  0.13851914, -0.422766  , -0.1636038 ,  0.49618361,\n",
       "        0.30342163, -0.76437061,  0.98526115,  0.70075858,  0.64371327,\n",
       "       -0.24326274,  0.03948492, -0.41882594,  0.51284261, -0.56852847,\n",
       "        0.69648915,  0.23357435, -0.13126233, -0.40407002,  0.5064663 ,\n",
       "       -0.54515524,  0.15290396, -0.48391462,  0.27756374, -0.16748642,\n",
       "       -0.27976403,  1.84401189,  0.14978456,  0.50219016,  0.90242333,\n",
       "        0.67972596,  0.59590978,  0.97306649,  0.22966506,  0.20708786,\n",
       "        0.60997355, -1.17889407,  0.59189835,  0.06469072, -0.11780301])"
      ]
     },
     "execution_count": 787,
     "metadata": {},
     "output_type": "execute_result"
    }
   ],
   "source": [
    "b_b"
   ]
  },
  {
   "cell_type": "code",
   "execution_count": 902,
   "metadata": {},
   "outputs": [
    {
     "data": {
      "text/plain": [
       "0.01"
      ]
     },
     "execution_count": 902,
     "metadata": {},
     "output_type": "execute_result"
    }
   ],
   "source": [
    "mu_x"
   ]
  },
  {
   "cell_type": "code",
   "execution_count": 1103,
   "metadata": {},
   "outputs": [],
   "source": [
    "L_x = L\n",
    "L_y = L\n",
    "\n",
    "eta_x = 1/np.sqrt(mu_x*L_x)\n",
    "eta_y = (1/mu_y)*(np.sqrt(mu_x/L_x))\n",
    "alpha = np.sqrt(mu_x/L_x)\n",
    "C = 1\n",
    "K_sub = int(np.sqrt(2*C)*max(1., np.sqrt(eta_y*alpha*L_y)))\n",
    "K=2000"
   ]
  },
  {
   "cell_type": "code",
   "execution_count": 1104,
   "metadata": {},
   "outputs": [
    {
     "data": {
      "text/plain": [
       "3"
      ]
     },
     "execution_count": 1104,
     "metadata": {},
     "output_type": "execute_result"
    }
   ],
   "source": [
    "K_sub"
   ]
  },
  {
   "cell_type": "code",
   "execution_count": 1105,
   "metadata": {},
   "outputs": [],
   "source": [
    "K_sub = 2"
   ]
  },
  {
   "cell_type": "code",
   "execution_count": 845,
   "metadata": {},
   "outputs": [
    {
     "data": {
      "text/plain": [
       "array([0., 0., 0., 0., 0., 0., 0., 0., 0., 0., 0., 0., 0., 0., 0., 0., 0.,\n",
       "       0., 0.])"
      ]
     },
     "execution_count": 845,
     "metadata": {},
     "output_type": "execute_result"
    }
   ],
   "source": [
    "y_0"
   ]
  },
  {
   "cell_type": "code",
   "execution_count": 1106,
   "metadata": {},
   "outputs": [],
   "source": [
    "x_list_large_D_2, y_list_large_D_2 = D_method(x_0,y_0,eta_x,eta_y,nabla_Func_x, nabla_Func_y, alpha,K,K_sub)"
   ]
  },
  {
   "cell_type": "code",
   "execution_count": 1107,
   "metadata": {},
   "outputs": [],
   "source": [
    "func_list_large_D_2_x = []\n",
    "for i in range(len(x_list_large_D_2)):\n",
    "    func_list_large_D_2_x.append(Func(np.array(list(x_list_large_D_2[i])+list(y_list_large_D_2[i]))) - Func(x_list_large_Nes[-1]))"
   ]
  },
  {
   "cell_type": "code",
   "execution_count": 855,
   "metadata": {},
   "outputs": [
    {
     "ename": "KeyboardInterrupt",
     "evalue": "",
     "output_type": "error",
     "traceback": [
      "\u001b[0;31m---------------------------------------------------------------------------\u001b[0m",
      "\u001b[0;31mKeyboardInterrupt\u001b[0m                         Traceback (most recent call last)",
      "\u001b[0;32m<ipython-input-855-1236f611913b>\u001b[0m in \u001b[0;36m<module>\u001b[0;34m\u001b[0m\n\u001b[1;32m      2\u001b[0m \u001b[0;32mfor\u001b[0m \u001b[0mi\u001b[0m \u001b[0;32min\u001b[0m \u001b[0mrange\u001b[0m\u001b[0;34m(\u001b[0m\u001b[0mlen\u001b[0m\u001b[0;34m(\u001b[0m\u001b[0mx_list_large_D_2\u001b[0m\u001b[0;34m)\u001b[0m\u001b[0;34m)\u001b[0m\u001b[0;34m:\u001b[0m\u001b[0;34m\u001b[0m\u001b[0;34m\u001b[0m\u001b[0m\n\u001b[1;32m      3\u001b[0m     \u001b[0;32mfor\u001b[0m \u001b[0mj\u001b[0m \u001b[0;32min\u001b[0m \u001b[0mrange\u001b[0m\u001b[0;34m(\u001b[0m\u001b[0mK_sub\u001b[0m\u001b[0;34m)\u001b[0m\u001b[0;34m:\u001b[0m\u001b[0;34m\u001b[0m\u001b[0;34m\u001b[0m\u001b[0m\n\u001b[0;32m----> 4\u001b[0;31m         \u001b[0mfunc_list_large_D_2_y\u001b[0m\u001b[0;34m.\u001b[0m\u001b[0mappend\u001b[0m\u001b[0;34m(\u001b[0m\u001b[0mFunc\u001b[0m\u001b[0;34m(\u001b[0m\u001b[0mnp\u001b[0m\u001b[0;34m.\u001b[0m\u001b[0marray\u001b[0m\u001b[0;34m(\u001b[0m\u001b[0mlist\u001b[0m\u001b[0;34m(\u001b[0m\u001b[0mx_list_large_D_2\u001b[0m\u001b[0;34m[\u001b[0m\u001b[0mi\u001b[0m\u001b[0;34m]\u001b[0m\u001b[0;34m)\u001b[0m\u001b[0;34m+\u001b[0m\u001b[0mlist\u001b[0m\u001b[0;34m(\u001b[0m\u001b[0my_list_large_D_2\u001b[0m\u001b[0;34m[\u001b[0m\u001b[0mi\u001b[0m\u001b[0;34m]\u001b[0m\u001b[0;34m)\u001b[0m\u001b[0;34m)\u001b[0m\u001b[0;34m)\u001b[0m \u001b[0;34m-\u001b[0m \u001b[0mFunc\u001b[0m\u001b[0;34m(\u001b[0m\u001b[0mx_list_large_Nes\u001b[0m\u001b[0;34m[\u001b[0m\u001b[0;34m-\u001b[0m\u001b[0;36m1\u001b[0m\u001b[0;34m]\u001b[0m\u001b[0;34m)\u001b[0m\u001b[0;34m)\u001b[0m\u001b[0;34m\u001b[0m\u001b[0;34m\u001b[0m\u001b[0m\n\u001b[0m",
      "\u001b[0;32m<ipython-input-818-9375407645fc>\u001b[0m in \u001b[0;36mFunc\u001b[0;34m(x)\u001b[0m\n\u001b[1;32m     15\u001b[0m     \u001b[0ms\u001b[0m \u001b[0;34m=\u001b[0m \u001b[0;36m0\u001b[0m\u001b[0;34m\u001b[0m\u001b[0;34m\u001b[0m\u001b[0m\n\u001b[1;32m     16\u001b[0m     \u001b[0;32mfor\u001b[0m \u001b[0mi\u001b[0m \u001b[0;32min\u001b[0m \u001b[0mrange\u001b[0m\u001b[0;34m(\u001b[0m\u001b[0mn\u001b[0m\u001b[0;34m)\u001b[0m\u001b[0;34m:\u001b[0m\u001b[0;34m\u001b[0m\u001b[0;34m\u001b[0m\u001b[0m\n\u001b[0;32m---> 17\u001b[0;31m         \u001b[0ms\u001b[0m \u001b[0;34m+=\u001b[0m \u001b[0mfunc\u001b[0m\u001b[0;34m(\u001b[0m\u001b[0mx\u001b[0m\u001b[0;34m,\u001b[0m \u001b[0mi\u001b[0m\u001b[0;34m,\u001b[0m \u001b[0mA\u001b[0m\u001b[0;34m,\u001b[0m \u001b[0mb\u001b[0m\u001b[0;34m,\u001b[0m \u001b[0mmu_x\u001b[0m\u001b[0;34m,\u001b[0m \u001b[0mmu_y\u001b[0m\u001b[0;34m)\u001b[0m\u001b[0;34m\u001b[0m\u001b[0;34m\u001b[0m\u001b[0m\n\u001b[0m\u001b[1;32m     18\u001b[0m     \u001b[0;32mreturn\u001b[0m \u001b[0ms\u001b[0m\u001b[0;34m/\u001b[0m\u001b[0mn\u001b[0m\u001b[0;34m\u001b[0m\u001b[0;34m\u001b[0m\u001b[0m\n\u001b[1;32m     19\u001b[0m \u001b[0;34m\u001b[0m\u001b[0m\n",
      "\u001b[0;32m<ipython-input-818-9375407645fc>\u001b[0m in \u001b[0;36mfunc\u001b[0;34m(x, i, A, b, mu_x, mu_y)\u001b[0m\n\u001b[1;32m      1\u001b[0m \u001b[0;32mdef\u001b[0m \u001b[0mfunc\u001b[0m\u001b[0;34m(\u001b[0m\u001b[0mx\u001b[0m\u001b[0;34m,\u001b[0m \u001b[0mi\u001b[0m\u001b[0;34m,\u001b[0m \u001b[0mA\u001b[0m\u001b[0;34m,\u001b[0m \u001b[0mb\u001b[0m\u001b[0;34m,\u001b[0m \u001b[0mmu_x\u001b[0m\u001b[0;34m,\u001b[0m \u001b[0mmu_y\u001b[0m\u001b[0;34m)\u001b[0m\u001b[0;34m:\u001b[0m\u001b[0;34m\u001b[0m\u001b[0;34m\u001b[0m\u001b[0m\n\u001b[0;32m----> 2\u001b[0;31m     \u001b[0;32mreturn\u001b[0m \u001b[0mnp\u001b[0m\u001b[0;34m.\u001b[0m\u001b[0mlog\u001b[0m\u001b[0;34m(\u001b[0m\u001b[0;36m1\u001b[0m\u001b[0;34m+\u001b[0m\u001b[0mnp\u001b[0m\u001b[0;34m.\u001b[0m\u001b[0mexp\u001b[0m\u001b[0;34m(\u001b[0m\u001b[0;34m-\u001b[0m\u001b[0mb\u001b[0m\u001b[0;34m[\u001b[0m\u001b[0mi\u001b[0m\u001b[0;34m]\u001b[0m\u001b[0;34m*\u001b[0m\u001b[0;34m(\u001b[0m\u001b[0mA\u001b[0m\u001b[0;34m[\u001b[0m\u001b[0mi\u001b[0m\u001b[0;34m]\u001b[0m\u001b[0;34m.\u001b[0m\u001b[0mT\u001b[0m \u001b[0;34m@\u001b[0m \u001b[0mx\u001b[0m\u001b[0;34m)\u001b[0m\u001b[0;34m)\u001b[0m\u001b[0;34m)\u001b[0m \u001b[0;34m+\u001b[0m \u001b[0mmu_x\u001b[0m\u001b[0;34m/\u001b[0m\u001b[0;36m2\u001b[0m \u001b[0;34m*\u001b[0m \u001b[0mx\u001b[0m\u001b[0;34m[\u001b[0m\u001b[0;36m0\u001b[0m\u001b[0;34m:\u001b[0m\u001b[0md_x\u001b[0m\u001b[0;34m]\u001b[0m\u001b[0;34m.\u001b[0m\u001b[0mT\u001b[0m \u001b[0;34m@\u001b[0m \u001b[0mx\u001b[0m\u001b[0;34m[\u001b[0m\u001b[0;36m0\u001b[0m\u001b[0;34m:\u001b[0m\u001b[0md_x\u001b[0m\u001b[0;34m]\u001b[0m\u001b[0;34m+\u001b[0m \u001b[0mmu_y\u001b[0m\u001b[0;34m/\u001b[0m\u001b[0;36m2\u001b[0m \u001b[0;34m*\u001b[0m \u001b[0mx\u001b[0m\u001b[0;34m[\u001b[0m\u001b[0md_x\u001b[0m\u001b[0;34m:\u001b[0m\u001b[0mdim\u001b[0m\u001b[0;34m]\u001b[0m\u001b[0;34m.\u001b[0m\u001b[0mT\u001b[0m\u001b[0;34m@\u001b[0m\u001b[0mx\u001b[0m\u001b[0;34m[\u001b[0m\u001b[0md_x\u001b[0m\u001b[0;34m:\u001b[0m\u001b[0mdim\u001b[0m\u001b[0;34m]\u001b[0m\u001b[0;34m\u001b[0m\u001b[0;34m\u001b[0m\u001b[0m\n\u001b[0m\u001b[1;32m      3\u001b[0m \u001b[0;34m\u001b[0m\u001b[0m\n\u001b[1;32m      4\u001b[0m \u001b[0;32mdef\u001b[0m \u001b[0mnabla_func\u001b[0m\u001b[0;34m(\u001b[0m\u001b[0mx\u001b[0m\u001b[0;34m,\u001b[0m \u001b[0mi\u001b[0m\u001b[0;34m,\u001b[0m \u001b[0mA\u001b[0m\u001b[0;34m,\u001b[0m \u001b[0mb\u001b[0m\u001b[0;34m,\u001b[0m \u001b[0mmu_x\u001b[0m\u001b[0;34m,\u001b[0m \u001b[0mmu_y\u001b[0m\u001b[0;34m)\u001b[0m\u001b[0;34m:\u001b[0m\u001b[0;34m\u001b[0m\u001b[0;34m\u001b[0m\u001b[0m\n\u001b[1;32m      5\u001b[0m     \u001b[0mvec_x\u001b[0m \u001b[0;34m=\u001b[0m \u001b[0mcopy\u001b[0m\u001b[0;34m.\u001b[0m\u001b[0mdeepcopy\u001b[0m\u001b[0;34m(\u001b[0m\u001b[0mx\u001b[0m\u001b[0;34m)\u001b[0m\u001b[0;34m\u001b[0m\u001b[0;34m\u001b[0m\u001b[0m\n",
      "\u001b[0;31mKeyboardInterrupt\u001b[0m: "
     ]
    }
   ],
   "source": [
    "func_list_large_D_2_y = []\n",
    "for i in range(len(x_list_large_D_2)):\n",
    "    for j in range(K_sub):\n",
    "        func_list_large_D_2_y.append(Func(np.array(list(x_list_large_D_2[i])+list(y_list_large_D_2[i]))) - Func(x_list_large_Nes[-1]))"
   ]
  },
  {
   "cell_type": "code",
   "execution_count": 1108,
   "metadata": {},
   "outputs": [],
   "source": [
    "func_list_large_D_2_y = []"
   ]
  },
  {
   "cell_type": "code",
   "execution_count": 1109,
   "metadata": {},
   "outputs": [],
   "source": [
    "for i in range(len(x_list_large_D_2)):\n",
    "    func_list_large_D_2_y+=([func_list_large_D_2_x[i]]*K_sub)"
   ]
  },
  {
   "cell_type": "code",
   "execution_count": 1036,
   "metadata": {},
   "outputs": [
    {
     "data": {
      "text/plain": [
       "150015"
      ]
     },
     "execution_count": 1036,
     "metadata": {},
     "output_type": "execute_result"
    }
   ],
   "source": [
    "len(func_list_large_D_2_y)"
   ]
  },
  {
   "cell_type": "code",
   "execution_count": 867,
   "metadata": {},
   "outputs": [],
   "source": [
    "a+=a+([1]*2)"
   ]
  },
  {
   "cell_type": "code",
   "execution_count": 874,
   "metadata": {},
   "outputs": [
    {
     "data": {
      "text/plain": [
       "1.567157518045339"
      ]
     },
     "execution_count": 874,
     "metadata": {},
     "output_type": "execute_result"
    }
   ],
   "source": [
    "L_y"
   ]
  },
  {
   "cell_type": "code",
   "execution_count": 1110,
   "metadata": {},
   "outputs": [],
   "source": [
    "x_list_large_lin_coup, x_list_large_grad_x_lin_coup, x_list_large_grad_y_lin_coup = linear_coupling(x_init, nabla_Func_x_full, nabla_Func_y_full, L_x, (mu_x/mu_y)*L_y, mu_x, K)"
   ]
  },
  {
   "cell_type": "code",
   "execution_count": 1111,
   "metadata": {},
   "outputs": [],
   "source": [
    "func_list_large_coup_x = []\n",
    "for i in range(len(x_list_large_grad_x_lin_coup)):\n",
    "    func_list_large_coup_x.append(Func(x_list_large_grad_x_lin_coup[i]) - Func(x_list_large_Nes[-1]))"
   ]
  },
  {
   "cell_type": "code",
   "execution_count": 1112,
   "metadata": {},
   "outputs": [],
   "source": [
    "func_list_large_coup_y = []\n",
    "for i in range(len(x_list_large_grad_y_lin_coup)):\n",
    "    func_list_large_coup_y.append(Func(x_list_large_grad_y_lin_coup[i]) - Func(x_list_large_Nes[-1]))"
   ]
  },
  {
   "cell_type": "code",
   "execution_count": 1113,
   "metadata": {},
   "outputs": [],
   "source": [
    "x_list_large_ACDM, my_roots, x_list_large_grad_x_ACDM, x_list_large_grad_y_ACDM = ACDM(x_init, K, L_x, (mu_x/mu_y)*L_y, 0.5, nabla_Func_x_full, nabla_Func_y_full,mu_x)"
   ]
  },
  {
   "cell_type": "code",
   "execution_count": 1114,
   "metadata": {},
   "outputs": [],
   "source": [
    "func_list_large_ACDM_x = []\n",
    "for i in range(len(x_list_large_grad_x_ACDM)):\n",
    "    func_list_large_ACDM_x.append(Func(x_list_large_grad_x_ACDM[i]) - Func(x_list_large_Nes[-1]))"
   ]
  },
  {
   "cell_type": "code",
   "execution_count": 1115,
   "metadata": {},
   "outputs": [],
   "source": [
    "func_list_large_ACDM_y = []\n",
    "for i in range(len(x_list_large_grad_y_ACDM)):\n",
    "    func_list_large_ACDM_y.append(Func(x_list_large_grad_y_ACDM[i]) - Func(x_list_large_Nes[-1]))"
   ]
  },
  {
   "cell_type": "code",
   "execution_count": 1119,
   "metadata": {},
   "outputs": [
    {
     "data": {
      "image/png": "[encoded data removed]",
      "text/plain": [
       "<Figure size 432x288 with 1 Axes>"
      ]
     },
     "metadata": {
      "needs_background": "light"
     },
     "output_type": "display_data"
    }
   ],
   "source": [
    "# plt.plot(func_list_large_D_x[0:250],label = 'BAM_x')\n",
    "plt.plot(func_list_large_D_2_x[0:200],label = 'BAM_x',marker = 'd', markevery = 20)\n",
    "# plt.plot(func_list_large_D_y[0:4000],label = 'BAM_y')\n",
    "# plt.plot(func_list_large_D_2_y[0:4000],label = 'BAM_y')\n",
    "plt.plot(func_list_large_Nes_x[0:200], label = 'NAG',marker = 's', markevery = 20)\n",
    "plt.plot(func_list_large_coup_x[0:200], label = 'LinCoupling_x',marker = 'v', markevery = 20)\n",
    "plt.plot(func_list_large_ACDM_x[0:200], label = 'ACDM_x',marker = 'o', markevery = 20)\n",
    "plt.grid()\n",
    "plt.xlabel('# of oracle calls',fontsize=18)\n",
    "plt.ylabel('$f(x^k) - f(x^\\star)$',fontsize=18)\n",
    "plt.xticks(fontsize=14)\n",
    "plt.yticks(fontsize=14)\n",
    "plt.legend()\n",
    "plt.ylim(10**(-14),10)\n",
    "plt.yscale('log')\n",
    "plt.tight_layout()\n",
    "plt.savefig('log_001-00-1-upd_x_mm.pdf')"
   ]
  },
  {
   "cell_type": "code",
   "execution_count": 1118,
   "metadata": {},
   "outputs": [
    {
     "data": {
      "image/png": "[encoded data removed]",
      "text/plain": [
       "<Figure size 432x288 with 1 Axes>"
      ]
     },
     "metadata": {
      "needs_background": "light"
     },
     "output_type": "display_data"
    }
   ],
   "source": [
    "# plt.plot(func_list_large_D_x[0:4000],label = 'BAM_x')\n",
    "# plt.plot(func_list_large_D_2_x[0:2000],label = 'BAM_x',marker = 'd', markevery = 100)\n",
    "# plt.plot(func_list_large_D_y[0:4000],label = 'BAM_y')\n",
    "plt.plot(func_list_large_D_2_y[0:500],label = 'BAM_y',marker = 'd', markevery = 100)\n",
    "plt.plot(func_list_large_Nes_x[0:500], label = 'NAG',marker = 's', markevery = 90)\n",
    "plt.plot(func_list_large_coup_y[0:500], label = 'LinCoupling_y',marker = 'v', markevery = 100)\n",
    "plt.plot(func_list_large_ACDM_y[0:500], label = 'ACDM_y',marker = 'o', markevery = 90)\n",
    "plt.grid()\n",
    "plt.xlabel('# of oracle calls',fontsize=18)\n",
    "plt.ylabel('$f(x^k) - f(x^\\star)$',fontsize=18)\n",
    "plt.xticks(fontsize=14)\n",
    "plt.yticks(fontsize=14)\n",
    "plt.legend()\n",
    "plt.ylim(10**(-14),10)\n",
    "plt.yscale('log')\n",
    "plt.tight_layout()\n",
    "plt.savefig('log_001-00-1-upd_y_mm.pdf')"
   ]
  },
  {
   "cell_type": "code",
   "execution_count": 1120,
   "metadata": {},
   "outputs": [
    {
     "data": {
      "text/plain": [
       "1.567157518045339"
      ]
     },
     "execution_count": 1120,
     "metadata": {},
     "output_type": "execute_result"
    }
   ],
   "source": [
    "L"
   ]
  },
  {
   "cell_type": "code",
   "execution_count": 1121,
   "metadata": {},
   "outputs": [
    {
     "data": {
      "text/plain": [
       "119"
      ]
     },
     "execution_count": 1121,
     "metadata": {},
     "output_type": "execute_result"
    }
   ],
   "source": [
    "dim"
   ]
  },
  {
   "cell_type": "code",
   "execution_count": 1122,
   "metadata": {},
   "outputs": [],
   "source": [
    "A, b = sklearn.datasets.load_svmlight_file(data_path)"
   ]
  },
  {
   "cell_type": "code",
   "execution_count": 1124,
   "metadata": {},
   "outputs": [
    {
     "data": {
      "text/plain": [
       "array([[0., 0., 1., ..., 0., 0., 0.],\n",
       "       [0., 0., 1., ..., 0., 0., 0.],\n",
       "       [0., 0., 0., ..., 0., 0., 0.],\n",
       "       ...,\n",
       "       [1., 0., 0., ..., 0., 0., 0.],\n",
       "       [1., 0., 0., ..., 0., 0., 0.],\n",
       "       [0., 0., 0., ..., 0., 0., 0.]])"
      ]
     },
     "execution_count": 1124,
     "metadata": {},
     "output_type": "execute_result"
    }
   ],
   "source": [
    "A.toarray()"
   ]
  },
  {
   "cell_type": "code",
   "execution_count": 1125,
   "metadata": {},
   "outputs": [
    {
     "data": {
      "text/plain": [
       "(1605, 119)"
      ]
     },
     "execution_count": 1125,
     "metadata": {},
     "output_type": "execute_result"
    }
   ],
   "source": [
    "A.shape"
   ]
  },
  {
   "cell_type": "code",
   "execution_count": 1126,
   "metadata": {},
   "outputs": [
    {
     "data": {
      "text/plain": [
       "0.01"
      ]
     },
     "execution_count": 1126,
     "metadata": {},
     "output_type": "execute_result"
    }
   ],
   "source": [
    "mu_x"
   ]
  },
  {
   "cell_type": "code",
   "execution_count": 1127,
   "metadata": {},
   "outputs": [
    {
     "data": {
      "text/plain": [
       "0.002"
      ]
     },
     "execution_count": 1127,
     "metadata": {},
     "output_type": "execute_result"
    }
   ],
   "source": [
    "mu_y"
   ]
  },
  {
   "cell_type": "code",
   "execution_count": null,
   "metadata": {},
   "outputs": [],
   "source": []
  }
 ],
 "metadata": {
  "kernelspec": {
   "display_name": "Python 3 (ipykernel)",
   "language": "python",
   "name": "python3"
  },
  "language_info": {
   "codemirror_mode": {
    "name": "ipython",
    "version": 3
   },
   "file_extension": ".py",
   "mimetype": "text/x-python",
   "name": "python",
   "nbconvert_exporter": "python",
   "pygments_lexer": "ipython3",
   "version": "3.10.9"
  }
 },
 "nbformat": 4,
 "nbformat_minor": 4
}
